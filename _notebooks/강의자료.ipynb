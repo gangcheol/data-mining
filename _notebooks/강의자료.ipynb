{
 "cells": [
  {
   "cell_type": "markdown",
   "id": "c8257703",
   "metadata": {},
   "source": [
    "# 농업 데이터 정재/가공/분석/모델링 교육\n",
    "\n",
    "* toc : true\n",
    "* branch: master\n",
    "* badges: true\n",
    "* comments: true\n",
    "* author: 이강철\n",
    "* categories: [R]\n",
    "* published : true\n",
    "* hide : false"
   ]
  },
  {
   "cell_type": "markdown",
   "id": "3ef5cf20",
   "metadata": {},
   "source": [
    "## Introduction"
   ]
  },
  {
   "cell_type": "markdown",
   "id": "1f4affc2",
   "metadata": {},
   "source": [
    "* 이름 : 이강철"
   ]
  },
  {
   "cell_type": "markdown",
   "id": "37a9a4ba",
   "metadata": {},
   "source": [
    "* 회사 및 직책 : (주)좋은정보기술 주임"
   ]
  },
  {
   "cell_type": "markdown",
   "id": "e1409dca",
   "metadata": {},
   "source": [
    "* mail : rkdcjf8232@gmail.com"
   ]
  },
  {
   "cell_type": "markdown",
   "id": "9a860353",
   "metadata": {},
   "source": [
    "* 사용언어 : R"
   ]
  },
  {
   "cell_type": "markdown",
   "id": "c30360ba",
   "metadata": {},
   "source": [
    "[R install](https://iamoverthemoon.tistory.com/64)"
   ]
  },
  {
   "cell_type": "markdown",
   "id": "17666aa7",
   "metadata": {},
   "source": [
    "* 교육 자료 : R for data science, 논문, ISLR 등등"
   ]
  },
  {
   "cell_type": "markdown",
   "id": "dceba5e2",
   "metadata": {},
   "source": [
    "## 1. 데이터 전처리(tidyverse)"
   ]
  },
  {
   "cell_type": "markdown",
   "id": "acd944e3",
   "metadata": {},
   "source": [
    "* 데이터 전처리는 전체 분석 프로세스에서 가장 많은 시간이 소요되는 작업"
   ]
  },
  {
   "cell_type": "markdown",
   "id": "b0c52fd7",
   "metadata": {},
   "source": [
    "* 또한, 전처리 과정이 잘못 수행될 시에 분석 결과가 과대 또는 과소 해석으로 이루어질 수 있다."
   ]
  },
  {
   "cell_type": "markdown",
   "id": "349e8617",
   "metadata": {},
   "source": [
    "* 실제 분석에서는 R의 벡터, 리스트 형태가 아닌 `csv,xlsx` 등의 파일을 데이터프레임 형태로 읽어들여 분석을 수행하기 때문에 데이터 프레임의 초점을 둘 것임"
   ]
  },
  {
   "cell_type": "markdown",
   "id": "e56e8707",
   "metadata": {},
   "source": [
    "왜 tidyverse냐?"
   ]
  },
  {
   "cell_type": "markdown",
   "id": "32611dce",
   "metadata": {},
   "source": [
    "`1`. 데이터 로드"
   ]
  },
  {
   "cell_type": "markdown",
   "id": "bcc7b2e8",
   "metadata": {},
   "source": [
    "* tidyverse = dplyr + ggplot2 + $\\dots$"
   ]
  },
  {
   "cell_type": "markdown",
   "id": "5ac197a3",
   "metadata": {},
   "source": [
    "* 또한, 데이터 로드 및 전처리 수행시 R의 기존 내장 함수들보다 빠른 속도를 제공한다."
   ]
  },
  {
   "cell_type": "markdown",
   "id": "12c17442",
   "metadata": {},
   "source": [
    "* 아래 데이터는 총 `3,599,999` 개의 데이터로 `약 1.5 GB`의 데이터이다."
   ]
  },
  {
   "cell_type": "markdown",
   "id": "cb72669a",
   "metadata": {},
   "source": [
    "[데이터링크](https://www.kaggle.com/datasets/kritanjalijain/amazon-reviews?select=train.csv)"
   ]
  },
  {
   "cell_type": "code",
   "execution_count": 15,
   "id": "aa77c43e",
   "metadata": {},
   "outputs": [],
   "source": [
    "#install.packages(\"tidyverse\")\n",
    "#install.packages(\"nycflights13\")  # if not installed yet\n",
    "\n",
    "library(tidyverse)"
   ]
  },
  {
   "cell_type": "code",
   "execution_count": 23,
   "id": "c2950e06",
   "metadata": {},
   "outputs": [],
   "source": [
    "setwd(\"C:/Users/git/Desktop\")"
   ]
  },
  {
   "cell_type": "code",
   "execution_count": 24,
   "id": "13094366",
   "metadata": {},
   "outputs": [],
   "source": [
    "start <- Sys.time()\n",
    "d1 <- read.csv(\"train.csv\",encoding = \"UTF-8\")\n",
    "end <- Sys.time()"
   ]
  },
  {
   "cell_type": "code",
   "execution_count": 25,
   "id": "97fb6c94",
   "metadata": {},
   "outputs": [
    {
     "data": {
      "text/html": [
       "3599999"
      ],
      "text/latex": [
       "3599999"
      ],
      "text/markdown": [
       "3599999"
      ],
      "text/plain": [
       "[1] 3599999"
      ]
     },
     "metadata": {},
     "output_type": "display_data"
    }
   ],
   "source": [
    "nrow(d1)"
   ]
  },
  {
   "cell_type": "code",
   "execution_count": 26,
   "id": "1675fb64",
   "metadata": {},
   "outputs": [
    {
     "data": {
      "text/plain": [
       "Time difference of 30.43872 secs"
      ]
     },
     "metadata": {},
     "output_type": "display_data"
    }
   ],
   "source": [
    "end-start"
   ]
  },
  {
   "cell_type": "code",
   "execution_count": 27,
   "id": "74613234",
   "metadata": {},
   "outputs": [
    {
     "name": "stderr",
     "output_type": "stream",
     "text": [
      "\u001b[1mRows: \u001b[22m\u001b[34m3599999\u001b[39m \u001b[1mColumns: \u001b[22m\u001b[34m3\u001b[39m\n",
      "\u001b[36m--\u001b[39m \u001b[1mColumn specification\u001b[22m \u001b[36m------------------------------------------------------------------------------------------------\u001b[39m\n",
      "\u001b[1mDelimiter:\u001b[22m \",\"\n",
      "\u001b[31mchr\u001b[39m (2): Stuning even for the non-gamer, This sound track was beautiful! It ...\n",
      "\u001b[32mdbl\u001b[39m (1): 2\n",
      "\n",
      "\u001b[36mi\u001b[39m Use `spec()` to retrieve the full column specification for this data.\n",
      "\u001b[36mi\u001b[39m Specify the column types or set `show_col_types = FALSE` to quiet this message.\n"
     ]
    }
   ],
   "source": [
    "start <- Sys.time()\n",
    "d2 <- read_csv(\"train.csv\")\n",
    "end <- Sys.time()"
   ]
  },
  {
   "cell_type": "code",
   "execution_count": 28,
   "id": "c513cf3a",
   "metadata": {},
   "outputs": [
    {
     "data": {
      "text/plain": [
       "Time difference of 6.747563 secs"
      ]
     },
     "metadata": {},
     "output_type": "display_data"
    }
   ],
   "source": [
    "end-start"
   ]
  },
  {
   "cell_type": "markdown",
   "id": "f39e56a3",
   "metadata": {},
   "source": [
    "### select & fliter"
   ]
  },
  {
   "cell_type": "markdown",
   "id": "3669b4c0",
   "metadata": {},
   "source": [
    "`2` pip(%>%) 연선자"
   ]
  },
  {
   "cell_type": "markdown",
   "id": "23c38110",
   "metadata": {},
   "source": [
    "* 단축키 :  ctrl + shift + m "
   ]
  },
  {
   "cell_type": "markdown",
   "id": "5cda452b",
   "metadata": {},
   "source": [
    "* 위에 단축키를 사용시 데이터셋을 말로 이어말하듯 전처리가 가능하다."
   ]
  },
  {
   "cell_type": "markdown",
   "id": "3994538b",
   "metadata": {},
   "source": [
    "> example 1 : 2013년 NYC 공항 데이터 총 336,776 개의 행, 19개의 열로 구성"
   ]
  },
  {
   "cell_type": "code",
   "execution_count": 34,
   "id": "79c2385a",
   "metadata": {},
   "outputs": [],
   "source": [
    "library(nycflights13)"
   ]
  },
  {
   "cell_type": "code",
   "execution_count": 35,
   "id": "b5d81f4c",
   "metadata": {},
   "outputs": [
    {
     "name": "stdout",
     "output_type": "stream",
     "text": [
      "Rows: 336,776\n",
      "Columns: 19\n",
      "$ year           \u001b[3m\u001b[90m<int>\u001b[39m\u001b[23m 2013, 2013, 2013, 2013, 2013, 2013, 2013, 2013, 2013, 2~\n",
      "$ month          \u001b[3m\u001b[90m<int>\u001b[39m\u001b[23m 1, 1, 1, 1, 1, 1, 1, 1, 1, 1, 1, 1, 1, 1, 1, 1, 1, 1, 1~\n",
      "$ day            \u001b[3m\u001b[90m<int>\u001b[39m\u001b[23m 1, 1, 1, 1, 1, 1, 1, 1, 1, 1, 1, 1, 1, 1, 1, 1, 1, 1, 1~\n",
      "$ dep_time       \u001b[3m\u001b[90m<int>\u001b[39m\u001b[23m 517, 533, 542, 544, 554, 554, 555, 557, 557, 558, 558, ~\n",
      "$ sched_dep_time \u001b[3m\u001b[90m<int>\u001b[39m\u001b[23m 515, 529, 540, 545, 600, 558, 600, 600, 600, 600, 600, ~\n",
      "$ dep_delay      \u001b[3m\u001b[90m<dbl>\u001b[39m\u001b[23m 2, 4, 2, -1, -6, -4, -5, -3, -3, -2, -2, -2, -2, -2, -1~\n",
      "$ arr_time       \u001b[3m\u001b[90m<int>\u001b[39m\u001b[23m 830, 850, 923, 1004, 812, 740, 913, 709, 838, 753, 849,~\n",
      "$ sched_arr_time \u001b[3m\u001b[90m<int>\u001b[39m\u001b[23m 819, 830, 850, 1022, 837, 728, 854, 723, 846, 745, 851,~\n",
      "$ arr_delay      \u001b[3m\u001b[90m<dbl>\u001b[39m\u001b[23m 11, 20, 33, -18, -25, 12, 19, -14, -8, 8, -2, -3, 7, -1~\n",
      "$ carrier        \u001b[3m\u001b[90m<chr>\u001b[39m\u001b[23m \"UA\", \"UA\", \"AA\", \"B6\", \"DL\", \"UA\", \"B6\", \"EV\", \"B6\", \"~\n",
      "$ flight         \u001b[3m\u001b[90m<int>\u001b[39m\u001b[23m 1545, 1714, 1141, 725, 461, 1696, 507, 5708, 79, 301, 4~\n",
      "$ tailnum        \u001b[3m\u001b[90m<chr>\u001b[39m\u001b[23m \"N14228\", \"N24211\", \"N619AA\", \"N804JB\", \"N668DN\", \"N394~\n",
      "$ origin         \u001b[3m\u001b[90m<chr>\u001b[39m\u001b[23m \"EWR\", \"LGA\", \"JFK\", \"JFK\", \"LGA\", \"EWR\", \"EWR\", \"LGA\",~\n",
      "$ dest           \u001b[3m\u001b[90m<chr>\u001b[39m\u001b[23m \"IAH\", \"IAH\", \"MIA\", \"BQN\", \"ATL\", \"ORD\", \"FLL\", \"IAD\",~\n",
      "$ air_time       \u001b[3m\u001b[90m<dbl>\u001b[39m\u001b[23m 227, 227, 160, 183, 116, 150, 158, 53, 140, 138, 149, 1~\n",
      "$ distance       \u001b[3m\u001b[90m<dbl>\u001b[39m\u001b[23m 1400, 1416, 1089, 1576, 762, 719, 1065, 229, 944, 733, ~\n",
      "$ hour           \u001b[3m\u001b[90m<dbl>\u001b[39m\u001b[23m 5, 5, 5, 5, 6, 5, 6, 6, 6, 6, 6, 6, 6, 6, 6, 5, 6, 6, 6~\n",
      "$ minute         \u001b[3m\u001b[90m<dbl>\u001b[39m\u001b[23m 15, 29, 40, 45, 0, 58, 0, 0, 0, 0, 0, 0, 0, 0, 0, 59, 0~\n",
      "$ time_hour      \u001b[3m\u001b[90m<dttm>\u001b[39m\u001b[23m 2013-01-01 05:00:00, 2013-01-01 05:00:00, 2013-01-01 0~\n"
     ]
    }
   ],
   "source": [
    "glimpse(flights)"
   ]
  },
  {
   "cell_type": "markdown",
   "id": "9f74f088",
   "metadata": {},
   "source": [
    "`-` 원데이터"
   ]
  },
  {
   "cell_type": "code",
   "execution_count": 38,
   "id": "3cc8c4a2",
   "metadata": {},
   "outputs": [
    {
     "data": {
      "text/html": [
       "<table class=\"dataframe\">\n",
       "<caption>A tibble: 6 × 19</caption>\n",
       "<thead>\n",
       "\t<tr><th scope=col>year</th><th scope=col>month</th><th scope=col>day</th><th scope=col>dep_time</th><th scope=col>sched_dep_time</th><th scope=col>dep_delay</th><th scope=col>arr_time</th><th scope=col>sched_arr_time</th><th scope=col>arr_delay</th><th scope=col>carrier</th><th scope=col>flight</th><th scope=col>tailnum</th><th scope=col>origin</th><th scope=col>dest</th><th scope=col>air_time</th><th scope=col>distance</th><th scope=col>hour</th><th scope=col>minute</th><th scope=col>time_hour</th></tr>\n",
       "\t<tr><th scope=col>&lt;int&gt;</th><th scope=col>&lt;int&gt;</th><th scope=col>&lt;int&gt;</th><th scope=col>&lt;int&gt;</th><th scope=col>&lt;int&gt;</th><th scope=col>&lt;dbl&gt;</th><th scope=col>&lt;int&gt;</th><th scope=col>&lt;int&gt;</th><th scope=col>&lt;dbl&gt;</th><th scope=col>&lt;chr&gt;</th><th scope=col>&lt;int&gt;</th><th scope=col>&lt;chr&gt;</th><th scope=col>&lt;chr&gt;</th><th scope=col>&lt;chr&gt;</th><th scope=col>&lt;dbl&gt;</th><th scope=col>&lt;dbl&gt;</th><th scope=col>&lt;dbl&gt;</th><th scope=col>&lt;dbl&gt;</th><th scope=col>&lt;dttm&gt;</th></tr>\n",
       "</thead>\n",
       "<tbody>\n",
       "\t<tr><td>2013</td><td>1</td><td>1</td><td>517</td><td>515</td><td> 2</td><td> 830</td><td> 819</td><td> 11</td><td>UA</td><td>1545</td><td>N14228</td><td>EWR</td><td>IAH</td><td>227</td><td>1400</td><td>5</td><td>15</td><td>2013-01-01 05:00:00</td></tr>\n",
       "\t<tr><td>2013</td><td>1</td><td>1</td><td>533</td><td>529</td><td> 4</td><td> 850</td><td> 830</td><td> 20</td><td>UA</td><td>1714</td><td>N24211</td><td>LGA</td><td>IAH</td><td>227</td><td>1416</td><td>5</td><td>29</td><td>2013-01-01 05:00:00</td></tr>\n",
       "\t<tr><td>2013</td><td>1</td><td>1</td><td>542</td><td>540</td><td> 2</td><td> 923</td><td> 850</td><td> 33</td><td>AA</td><td>1141</td><td>N619AA</td><td>JFK</td><td>MIA</td><td>160</td><td>1089</td><td>5</td><td>40</td><td>2013-01-01 05:00:00</td></tr>\n",
       "\t<tr><td>2013</td><td>1</td><td>1</td><td>544</td><td>545</td><td>-1</td><td>1004</td><td>1022</td><td>-18</td><td>B6</td><td> 725</td><td>N804JB</td><td>JFK</td><td>BQN</td><td>183</td><td>1576</td><td>5</td><td>45</td><td>2013-01-01 05:00:00</td></tr>\n",
       "\t<tr><td>2013</td><td>1</td><td>1</td><td>554</td><td>600</td><td>-6</td><td> 812</td><td> 837</td><td>-25</td><td>DL</td><td> 461</td><td>N668DN</td><td>LGA</td><td>ATL</td><td>116</td><td> 762</td><td>6</td><td> 0</td><td>2013-01-01 06:00:00</td></tr>\n",
       "\t<tr><td>2013</td><td>1</td><td>1</td><td>554</td><td>558</td><td>-4</td><td> 740</td><td> 728</td><td> 12</td><td>UA</td><td>1696</td><td>N39463</td><td>EWR</td><td>ORD</td><td>150</td><td> 719</td><td>5</td><td>58</td><td>2013-01-01 05:00:00</td></tr>\n",
       "</tbody>\n",
       "</table>\n"
      ],
      "text/latex": [
       "A tibble: 6 × 19\n",
       "\\begin{tabular}{lllllllllllllllllll}\n",
       " year & month & day & dep\\_time & sched\\_dep\\_time & dep\\_delay & arr\\_time & sched\\_arr\\_time & arr\\_delay & carrier & flight & tailnum & origin & dest & air\\_time & distance & hour & minute & time\\_hour\\\\\n",
       " <int> & <int> & <int> & <int> & <int> & <dbl> & <int> & <int> & <dbl> & <chr> & <int> & <chr> & <chr> & <chr> & <dbl> & <dbl> & <dbl> & <dbl> & <dttm>\\\\\n",
       "\\hline\n",
       "\t 2013 & 1 & 1 & 517 & 515 &  2 &  830 &  819 &  11 & UA & 1545 & N14228 & EWR & IAH & 227 & 1400 & 5 & 15 & 2013-01-01 05:00:00\\\\\n",
       "\t 2013 & 1 & 1 & 533 & 529 &  4 &  850 &  830 &  20 & UA & 1714 & N24211 & LGA & IAH & 227 & 1416 & 5 & 29 & 2013-01-01 05:00:00\\\\\n",
       "\t 2013 & 1 & 1 & 542 & 540 &  2 &  923 &  850 &  33 & AA & 1141 & N619AA & JFK & MIA & 160 & 1089 & 5 & 40 & 2013-01-01 05:00:00\\\\\n",
       "\t 2013 & 1 & 1 & 544 & 545 & -1 & 1004 & 1022 & -18 & B6 &  725 & N804JB & JFK & BQN & 183 & 1576 & 5 & 45 & 2013-01-01 05:00:00\\\\\n",
       "\t 2013 & 1 & 1 & 554 & 600 & -6 &  812 &  837 & -25 & DL &  461 & N668DN & LGA & ATL & 116 &  762 & 6 &  0 & 2013-01-01 06:00:00\\\\\n",
       "\t 2013 & 1 & 1 & 554 & 558 & -4 &  740 &  728 &  12 & UA & 1696 & N39463 & EWR & ORD & 150 &  719 & 5 & 58 & 2013-01-01 05:00:00\\\\\n",
       "\\end{tabular}\n"
      ],
      "text/markdown": [
       "\n",
       "A tibble: 6 × 19\n",
       "\n",
       "| year &lt;int&gt; | month &lt;int&gt; | day &lt;int&gt; | dep_time &lt;int&gt; | sched_dep_time &lt;int&gt; | dep_delay &lt;dbl&gt; | arr_time &lt;int&gt; | sched_arr_time &lt;int&gt; | arr_delay &lt;dbl&gt; | carrier &lt;chr&gt; | flight &lt;int&gt; | tailnum &lt;chr&gt; | origin &lt;chr&gt; | dest &lt;chr&gt; | air_time &lt;dbl&gt; | distance &lt;dbl&gt; | hour &lt;dbl&gt; | minute &lt;dbl&gt; | time_hour &lt;dttm&gt; |\n",
       "|---|---|---|---|---|---|---|---|---|---|---|---|---|---|---|---|---|---|---|\n",
       "| 2013 | 1 | 1 | 517 | 515 |  2 |  830 |  819 |  11 | UA | 1545 | N14228 | EWR | IAH | 227 | 1400 | 5 | 15 | 2013-01-01 05:00:00 |\n",
       "| 2013 | 1 | 1 | 533 | 529 |  4 |  850 |  830 |  20 | UA | 1714 | N24211 | LGA | IAH | 227 | 1416 | 5 | 29 | 2013-01-01 05:00:00 |\n",
       "| 2013 | 1 | 1 | 542 | 540 |  2 |  923 |  850 |  33 | AA | 1141 | N619AA | JFK | MIA | 160 | 1089 | 5 | 40 | 2013-01-01 05:00:00 |\n",
       "| 2013 | 1 | 1 | 544 | 545 | -1 | 1004 | 1022 | -18 | B6 |  725 | N804JB | JFK | BQN | 183 | 1576 | 5 | 45 | 2013-01-01 05:00:00 |\n",
       "| 2013 | 1 | 1 | 554 | 600 | -6 |  812 |  837 | -25 | DL |  461 | N668DN | LGA | ATL | 116 |  762 | 6 |  0 | 2013-01-01 06:00:00 |\n",
       "| 2013 | 1 | 1 | 554 | 558 | -4 |  740 |  728 |  12 | UA | 1696 | N39463 | EWR | ORD | 150 |  719 | 5 | 58 | 2013-01-01 05:00:00 |\n",
       "\n"
      ],
      "text/plain": [
       "  year month day dep_time sched_dep_time dep_delay arr_time sched_arr_time\n",
       "1 2013 1     1   517      515             2         830      819          \n",
       "2 2013 1     1   533      529             4         850      830          \n",
       "3 2013 1     1   542      540             2         923      850          \n",
       "4 2013 1     1   544      545            -1        1004     1022          \n",
       "5 2013 1     1   554      600            -6         812      837          \n",
       "6 2013 1     1   554      558            -4         740      728          \n",
       "  arr_delay carrier flight tailnum origin dest air_time distance hour minute\n",
       "1  11       UA      1545   N14228  EWR    IAH  227      1400     5    15    \n",
       "2  20       UA      1714   N24211  LGA    IAH  227      1416     5    29    \n",
       "3  33       AA      1141   N619AA  JFK    MIA  160      1089     5    40    \n",
       "4 -18       B6       725   N804JB  JFK    BQN  183      1576     5    45    \n",
       "5 -25       DL       461   N668DN  LGA    ATL  116       762     6     0    \n",
       "6  12       UA      1696   N39463  EWR    ORD  150       719     5    58    \n",
       "  time_hour          \n",
       "1 2013-01-01 05:00:00\n",
       "2 2013-01-01 05:00:00\n",
       "3 2013-01-01 05:00:00\n",
       "4 2013-01-01 05:00:00\n",
       "5 2013-01-01 06:00:00\n",
       "6 2013-01-01 05:00:00"
      ]
     },
     "metadata": {},
     "output_type": "display_data"
    }
   ],
   "source": [
    "flights %>% head()"
   ]
  },
  {
   "cell_type": "markdown",
   "id": "02371f4a",
   "metadata": {},
   "source": [
    "철수 : **\"아 난 이 데이터의 1번째 열과 5번째 열을 선택하고 싶어\"**"
   ]
  },
  {
   "cell_type": "code",
   "execution_count": 40,
   "id": "9b3cda3b",
   "metadata": {},
   "outputs": [
    {
     "data": {
      "text/html": [
       "<table class=\"dataframe\">\n",
       "<caption>A tibble: 6 × 2</caption>\n",
       "<thead>\n",
       "\t<tr><th scope=col>year</th><th scope=col>sched_dep_time</th></tr>\n",
       "\t<tr><th scope=col>&lt;int&gt;</th><th scope=col>&lt;int&gt;</th></tr>\n",
       "</thead>\n",
       "<tbody>\n",
       "\t<tr><td>2013</td><td>515</td></tr>\n",
       "\t<tr><td>2013</td><td>529</td></tr>\n",
       "\t<tr><td>2013</td><td>540</td></tr>\n",
       "\t<tr><td>2013</td><td>545</td></tr>\n",
       "\t<tr><td>2013</td><td>600</td></tr>\n",
       "\t<tr><td>2013</td><td>558</td></tr>\n",
       "</tbody>\n",
       "</table>\n"
      ],
      "text/latex": [
       "A tibble: 6 × 2\n",
       "\\begin{tabular}{ll}\n",
       " year & sched\\_dep\\_time\\\\\n",
       " <int> & <int>\\\\\n",
       "\\hline\n",
       "\t 2013 & 515\\\\\n",
       "\t 2013 & 529\\\\\n",
       "\t 2013 & 540\\\\\n",
       "\t 2013 & 545\\\\\n",
       "\t 2013 & 600\\\\\n",
       "\t 2013 & 558\\\\\n",
       "\\end{tabular}\n"
      ],
      "text/markdown": [
       "\n",
       "A tibble: 6 × 2\n",
       "\n",
       "| year &lt;int&gt; | sched_dep_time &lt;int&gt; |\n",
       "|---|---|\n",
       "| 2013 | 515 |\n",
       "| 2013 | 529 |\n",
       "| 2013 | 540 |\n",
       "| 2013 | 545 |\n",
       "| 2013 | 600 |\n",
       "| 2013 | 558 |\n",
       "\n"
      ],
      "text/plain": [
       "  year sched_dep_time\n",
       "1 2013 515           \n",
       "2 2013 529           \n",
       "3 2013 540           \n",
       "4 2013 545           \n",
       "5 2013 600           \n",
       "6 2013 558           "
      ]
     },
     "metadata": {},
     "output_type": "display_data"
    }
   ],
   "source": [
    "flights %>% select(1,5) %>% head()"
   ]
  },
  {
   "cell_type": "markdown",
   "id": "757021e7",
   "metadata": {},
   "source": [
    "영희 : **\"난 이 데이터의 `year`, `month`, `day` 열만 보고 싶어\"**"
   ]
  },
  {
   "cell_type": "code",
   "execution_count": 41,
   "id": "a53608b9",
   "metadata": {},
   "outputs": [
    {
     "data": {
      "text/html": [
       "<table class=\"dataframe\">\n",
       "<caption>A tibble: 6 × 3</caption>\n",
       "<thead>\n",
       "\t<tr><th scope=col>year</th><th scope=col>month</th><th scope=col>day</th></tr>\n",
       "\t<tr><th scope=col>&lt;int&gt;</th><th scope=col>&lt;int&gt;</th><th scope=col>&lt;int&gt;</th></tr>\n",
       "</thead>\n",
       "<tbody>\n",
       "\t<tr><td>2013</td><td>1</td><td>1</td></tr>\n",
       "\t<tr><td>2013</td><td>1</td><td>1</td></tr>\n",
       "\t<tr><td>2013</td><td>1</td><td>1</td></tr>\n",
       "\t<tr><td>2013</td><td>1</td><td>1</td></tr>\n",
       "\t<tr><td>2013</td><td>1</td><td>1</td></tr>\n",
       "\t<tr><td>2013</td><td>1</td><td>1</td></tr>\n",
       "</tbody>\n",
       "</table>\n"
      ],
      "text/latex": [
       "A tibble: 6 × 3\n",
       "\\begin{tabular}{lll}\n",
       " year & month & day\\\\\n",
       " <int> & <int> & <int>\\\\\n",
       "\\hline\n",
       "\t 2013 & 1 & 1\\\\\n",
       "\t 2013 & 1 & 1\\\\\n",
       "\t 2013 & 1 & 1\\\\\n",
       "\t 2013 & 1 & 1\\\\\n",
       "\t 2013 & 1 & 1\\\\\n",
       "\t 2013 & 1 & 1\\\\\n",
       "\\end{tabular}\n"
      ],
      "text/markdown": [
       "\n",
       "A tibble: 6 × 3\n",
       "\n",
       "| year &lt;int&gt; | month &lt;int&gt; | day &lt;int&gt; |\n",
       "|---|---|---|\n",
       "| 2013 | 1 | 1 |\n",
       "| 2013 | 1 | 1 |\n",
       "| 2013 | 1 | 1 |\n",
       "| 2013 | 1 | 1 |\n",
       "| 2013 | 1 | 1 |\n",
       "| 2013 | 1 | 1 |\n",
       "\n"
      ],
      "text/plain": [
       "  year month day\n",
       "1 2013 1     1  \n",
       "2 2013 1     1  \n",
       "3 2013 1     1  \n",
       "4 2013 1     1  \n",
       "5 2013 1     1  \n",
       "6 2013 1     1  "
      ]
     },
     "metadata": {},
     "output_type": "display_data"
    }
   ],
   "source": [
    "flights %>% select(year,month,day) %>% head()"
   ]
  },
  {
   "cell_type": "markdown",
   "id": "5ef75ae2",
   "metadata": {},
   "source": [
    "강철 : **\"근데 난 영희가 고른 데이터들 중  2월과 3월에 해당하는 데이터만 있으면 되\"**"
   ]
  },
  {
   "cell_type": "code",
   "execution_count": 50,
   "id": "3dc72d2c",
   "metadata": {},
   "outputs": [
    {
     "data": {
      "text/html": [
       "<table class=\"dataframe\">\n",
       "<caption>A tibble: 6 × 3</caption>\n",
       "<thead>\n",
       "\t<tr><th scope=col>year</th><th scope=col>month</th><th scope=col>day</th></tr>\n",
       "\t<tr><th scope=col>&lt;int&gt;</th><th scope=col>&lt;int&gt;</th><th scope=col>&lt;int&gt;</th></tr>\n",
       "</thead>\n",
       "<tbody>\n",
       "\t<tr><td>2013</td><td>2</td><td>1</td></tr>\n",
       "\t<tr><td>2013</td><td>2</td><td>1</td></tr>\n",
       "\t<tr><td>2013</td><td>2</td><td>1</td></tr>\n",
       "\t<tr><td>2013</td><td>2</td><td>1</td></tr>\n",
       "\t<tr><td>2013</td><td>2</td><td>1</td></tr>\n",
       "\t<tr><td>2013</td><td>2</td><td>1</td></tr>\n",
       "</tbody>\n",
       "</table>\n"
      ],
      "text/latex": [
       "A tibble: 6 × 3\n",
       "\\begin{tabular}{lll}\n",
       " year & month & day\\\\\n",
       " <int> & <int> & <int>\\\\\n",
       "\\hline\n",
       "\t 2013 & 2 & 1\\\\\n",
       "\t 2013 & 2 & 1\\\\\n",
       "\t 2013 & 2 & 1\\\\\n",
       "\t 2013 & 2 & 1\\\\\n",
       "\t 2013 & 2 & 1\\\\\n",
       "\t 2013 & 2 & 1\\\\\n",
       "\\end{tabular}\n"
      ],
      "text/markdown": [
       "\n",
       "A tibble: 6 × 3\n",
       "\n",
       "| year &lt;int&gt; | month &lt;int&gt; | day &lt;int&gt; |\n",
       "|---|---|---|\n",
       "| 2013 | 2 | 1 |\n",
       "| 2013 | 2 | 1 |\n",
       "| 2013 | 2 | 1 |\n",
       "| 2013 | 2 | 1 |\n",
       "| 2013 | 2 | 1 |\n",
       "| 2013 | 2 | 1 |\n",
       "\n"
      ],
      "text/plain": [
       "  year month day\n",
       "1 2013 2     1  \n",
       "2 2013 2     1  \n",
       "3 2013 2     1  \n",
       "4 2013 2     1  \n",
       "5 2013 2     1  \n",
       "6 2013 2     1  "
      ]
     },
     "metadata": {},
     "output_type": "display_data"
    }
   ],
   "source": [
    "flights  %>% \n",
    "        select(year,month,day) %>%  \n",
    "                    filter(month == 2 | month == 3) %>% head()"
   ]
  },
  {
   "cell_type": "markdown",
   "id": "051572eb",
   "metadata": {},
   "source": [
    "$\\divideontimes$ 근데 만약 데이터가 문자형(character) 형태이면 어떻게 필터링을 할 것인가?"
   ]
  },
  {
   "cell_type": "markdown",
   "id": "05cbb2ef",
   "metadata": {},
   "source": [
    "> example 2 : iris 데이터, 각 3개 종에 대한 붓꽃 데이터"
   ]
  },
  {
   "cell_type": "code",
   "execution_count": 55,
   "id": "25eafb68",
   "metadata": {},
   "outputs": [
    {
     "name": "stdout",
     "output_type": "stream",
     "text": [
      "Rows: 150\n",
      "Columns: 5\n",
      "$ Sepal.Length \u001b[3m\u001b[90m<dbl>\u001b[39m\u001b[23m 5.1, 4.9, 4.7, 4.6, 5.0, 5.4, 4.6, 5.0, 4.4, 4.9, 5.4, 4.~\n",
      "$ Sepal.Width  \u001b[3m\u001b[90m<dbl>\u001b[39m\u001b[23m 3.5, 3.0, 3.2, 3.1, 3.6, 3.9, 3.4, 3.4, 2.9, 3.1, 3.7, 3.~\n",
      "$ Petal.Length \u001b[3m\u001b[90m<dbl>\u001b[39m\u001b[23m 1.4, 1.4, 1.3, 1.5, 1.4, 1.7, 1.4, 1.5, 1.4, 1.5, 1.5, 1.~\n",
      "$ Petal.Width  \u001b[3m\u001b[90m<dbl>\u001b[39m\u001b[23m 0.2, 0.2, 0.2, 0.2, 0.2, 0.4, 0.3, 0.2, 0.2, 0.1, 0.2, 0.~\n",
      "$ Species      \u001b[3m\u001b[90m<fct>\u001b[39m\u001b[23m setosa, setosa, setosa, setosa, setosa, setosa, setosa, s~\n"
     ]
    }
   ],
   "source": [
    "glimpse(iris)"
   ]
  },
  {
   "cell_type": "code",
   "execution_count": 57,
   "id": "876d4926",
   "metadata": {},
   "outputs": [
    {
     "data": {
      "text/html": [
       "<style>\n",
       ".list-inline {list-style: none; margin:0; padding: 0}\n",
       ".list-inline>li {display: inline-block}\n",
       ".list-inline>li:not(:last-child)::after {content: \"\\00b7\"; padding: 0 .5ex}\n",
       "</style>\n",
       "<ol class=list-inline><li>setosa</li><li>versicolor</li><li>virginica</li></ol>\n",
       "\n",
       "<details>\n",
       "\t<summary style=display:list-item;cursor:pointer>\n",
       "\t\t<strong>Levels</strong>:\n",
       "\t</summary>\n",
       "\t<style>\n",
       "\t.list-inline {list-style: none; margin:0; padding: 0}\n",
       "\t.list-inline>li {display: inline-block}\n",
       "\t.list-inline>li:not(:last-child)::after {content: \"\\00b7\"; padding: 0 .5ex}\n",
       "\t</style>\n",
       "\t<ol class=list-inline><li>'setosa'</li><li>'versicolor'</li><li>'virginica'</li></ol>\n",
       "</details>"
      ],
      "text/latex": [
       "\\begin{enumerate*}\n",
       "\\item setosa\n",
       "\\item versicolor\n",
       "\\item virginica\n",
       "\\end{enumerate*}\n",
       "\n",
       "\\emph{Levels}: \\begin{enumerate*}\n",
       "\\item 'setosa'\n",
       "\\item 'versicolor'\n",
       "\\item 'virginica'\n",
       "\\end{enumerate*}\n"
      ],
      "text/markdown": [
       "1. setosa\n",
       "2. versicolor\n",
       "3. virginica\n",
       "\n",
       "\n",
       "\n",
       "**Levels**: 1. 'setosa'\n",
       "2. 'versicolor'\n",
       "3. 'virginica'\n",
       "\n",
       "\n"
      ],
      "text/plain": [
       "[1] setosa     versicolor virginica \n",
       "Levels: setosa versicolor virginica"
      ]
     },
     "metadata": {},
     "output_type": "display_data"
    }
   ],
   "source": [
    "unique(iris$Species)"
   ]
  },
  {
   "cell_type": "markdown",
   "id": "4b9b9f29",
   "metadata": {},
   "source": [
    "R 코드 : A %in% c(\"setosa\",\"versicolor\")"
   ]
  },
  {
   "cell_type": "markdown",
   "id": "75f07da8",
   "metadata": {},
   "source": [
    "수식 표현 : $A \\in \\{\\text{\"setosa\",\"versicolor\"}\\}$"
   ]
  },
  {
   "cell_type": "code",
   "execution_count": 64,
   "id": "6485fb2b",
   "metadata": {},
   "outputs": [
    {
     "data": {
      "text/html": [
       "<table class=\"dataframe\">\n",
       "<caption>A data.frame: 4 × 5</caption>\n",
       "<thead>\n",
       "\t<tr><th scope=col>Sepal.Length</th><th scope=col>Sepal.Width</th><th scope=col>Petal.Length</th><th scope=col>Petal.Width</th><th scope=col>Species</th></tr>\n",
       "\t<tr><th scope=col>&lt;dbl&gt;</th><th scope=col>&lt;dbl&gt;</th><th scope=col>&lt;dbl&gt;</th><th scope=col>&lt;dbl&gt;</th><th scope=col>&lt;fct&gt;</th></tr>\n",
       "</thead>\n",
       "<tbody>\n",
       "\t<tr><td>6.4</td><td>3.2</td><td>4.5</td><td>1.5</td><td>versicolor</td></tr>\n",
       "\t<tr><td>4.4</td><td>3.2</td><td>1.3</td><td>0.2</td><td>setosa    </td></tr>\n",
       "\t<tr><td>4.6</td><td>3.4</td><td>1.4</td><td>0.3</td><td>setosa    </td></tr>\n",
       "\t<tr><td>7.0</td><td>3.2</td><td>4.7</td><td>1.4</td><td>versicolor</td></tr>\n",
       "</tbody>\n",
       "</table>\n"
      ],
      "text/latex": [
       "A data.frame: 4 × 5\n",
       "\\begin{tabular}{lllll}\n",
       " Sepal.Length & Sepal.Width & Petal.Length & Petal.Width & Species\\\\\n",
       " <dbl> & <dbl> & <dbl> & <dbl> & <fct>\\\\\n",
       "\\hline\n",
       "\t 6.4 & 3.2 & 4.5 & 1.5 & versicolor\\\\\n",
       "\t 4.4 & 3.2 & 1.3 & 0.2 & setosa    \\\\\n",
       "\t 4.6 & 3.4 & 1.4 & 0.3 & setosa    \\\\\n",
       "\t 7.0 & 3.2 & 4.7 & 1.4 & versicolor\\\\\n",
       "\\end{tabular}\n"
      ],
      "text/markdown": [
       "\n",
       "A data.frame: 4 × 5\n",
       "\n",
       "| Sepal.Length &lt;dbl&gt; | Sepal.Width &lt;dbl&gt; | Petal.Length &lt;dbl&gt; | Petal.Width &lt;dbl&gt; | Species &lt;fct&gt; |\n",
       "|---|---|---|---|---|\n",
       "| 6.4 | 3.2 | 4.5 | 1.5 | versicolor |\n",
       "| 4.4 | 3.2 | 1.3 | 0.2 | setosa     |\n",
       "| 4.6 | 3.4 | 1.4 | 0.3 | setosa     |\n",
       "| 7.0 | 3.2 | 4.7 | 1.4 | versicolor |\n",
       "\n"
      ],
      "text/plain": [
       "  Sepal.Length Sepal.Width Petal.Length Petal.Width Species   \n",
       "1 6.4          3.2         4.5          1.5         versicolor\n",
       "2 4.4          3.2         1.3          0.2         setosa    \n",
       "3 4.6          3.4         1.4          0.3         setosa    \n",
       "4 7.0          3.2         4.7          1.4         versicolor"
      ]
     },
     "metadata": {},
     "output_type": "display_data"
    }
   ],
   "source": [
    "iris %>% filter(Species  \n",
    "                    %in% c(\"setosa\",\"versicolor\")) %>% sample_n(4)"
   ]
  },
  {
   "cell_type": "markdown",
   "id": "381b7383",
   "metadata": {},
   "source": [
    "### mutate"
   ]
  },
  {
   "cell_type": "markdown",
   "id": "b538e671",
   "metadata": {},
   "source": [
    "`-` 수식이나 문자표현식을 이용해 새로운 변수를 만드는 함수"
   ]
  },
  {
   "cell_type": "markdown",
   "id": "8c6c51e4",
   "metadata": {},
   "source": [
    "> example 1 : (Sepal.Length + Sepal.Width) $\\div$ 2$\\quad\\to\\quad $ S.LW 변수 생성"
   ]
  },
  {
   "cell_type": "code",
   "execution_count": 66,
   "id": "4d2afd89",
   "metadata": {},
   "outputs": [
    {
     "data": {
      "text/html": [
       "<table class=\"dataframe\">\n",
       "<caption>A data.frame: 6 × 6</caption>\n",
       "<thead>\n",
       "\t<tr><th></th><th scope=col>Sepal.Length</th><th scope=col>Sepal.Width</th><th scope=col>Petal.Length</th><th scope=col>Petal.Width</th><th scope=col>Species</th><th scope=col>S.LW</th></tr>\n",
       "\t<tr><th></th><th scope=col>&lt;dbl&gt;</th><th scope=col>&lt;dbl&gt;</th><th scope=col>&lt;dbl&gt;</th><th scope=col>&lt;dbl&gt;</th><th scope=col>&lt;fct&gt;</th><th scope=col>&lt;dbl&gt;</th></tr>\n",
       "</thead>\n",
       "<tbody>\n",
       "\t<tr><th scope=row>1</th><td>5.1</td><td>3.5</td><td>1.4</td><td>0.2</td><td>setosa</td><td>4.30</td></tr>\n",
       "\t<tr><th scope=row>2</th><td>4.9</td><td>3.0</td><td>1.4</td><td>0.2</td><td>setosa</td><td>3.95</td></tr>\n",
       "\t<tr><th scope=row>3</th><td>4.7</td><td>3.2</td><td>1.3</td><td>0.2</td><td>setosa</td><td>3.95</td></tr>\n",
       "\t<tr><th scope=row>4</th><td>4.6</td><td>3.1</td><td>1.5</td><td>0.2</td><td>setosa</td><td>3.85</td></tr>\n",
       "\t<tr><th scope=row>5</th><td>5.0</td><td>3.6</td><td>1.4</td><td>0.2</td><td>setosa</td><td>4.30</td></tr>\n",
       "\t<tr><th scope=row>6</th><td>5.4</td><td>3.9</td><td>1.7</td><td>0.4</td><td>setosa</td><td>4.65</td></tr>\n",
       "</tbody>\n",
       "</table>\n"
      ],
      "text/latex": [
       "A data.frame: 6 × 6\n",
       "\\begin{tabular}{r|llllll}\n",
       "  & Sepal.Length & Sepal.Width & Petal.Length & Petal.Width & Species & S.LW\\\\\n",
       "  & <dbl> & <dbl> & <dbl> & <dbl> & <fct> & <dbl>\\\\\n",
       "\\hline\n",
       "\t1 & 5.1 & 3.5 & 1.4 & 0.2 & setosa & 4.30\\\\\n",
       "\t2 & 4.9 & 3.0 & 1.4 & 0.2 & setosa & 3.95\\\\\n",
       "\t3 & 4.7 & 3.2 & 1.3 & 0.2 & setosa & 3.95\\\\\n",
       "\t4 & 4.6 & 3.1 & 1.5 & 0.2 & setosa & 3.85\\\\\n",
       "\t5 & 5.0 & 3.6 & 1.4 & 0.2 & setosa & 4.30\\\\\n",
       "\t6 & 5.4 & 3.9 & 1.7 & 0.4 & setosa & 4.65\\\\\n",
       "\\end{tabular}\n"
      ],
      "text/markdown": [
       "\n",
       "A data.frame: 6 × 6\n",
       "\n",
       "| <!--/--> | Sepal.Length &lt;dbl&gt; | Sepal.Width &lt;dbl&gt; | Petal.Length &lt;dbl&gt; | Petal.Width &lt;dbl&gt; | Species &lt;fct&gt; | S.LW &lt;dbl&gt; |\n",
       "|---|---|---|---|---|---|---|\n",
       "| 1 | 5.1 | 3.5 | 1.4 | 0.2 | setosa | 4.30 |\n",
       "| 2 | 4.9 | 3.0 | 1.4 | 0.2 | setosa | 3.95 |\n",
       "| 3 | 4.7 | 3.2 | 1.3 | 0.2 | setosa | 3.95 |\n",
       "| 4 | 4.6 | 3.1 | 1.5 | 0.2 | setosa | 3.85 |\n",
       "| 5 | 5.0 | 3.6 | 1.4 | 0.2 | setosa | 4.30 |\n",
       "| 6 | 5.4 | 3.9 | 1.7 | 0.4 | setosa | 4.65 |\n",
       "\n"
      ],
      "text/plain": [
       "  Sepal.Length Sepal.Width Petal.Length Petal.Width Species S.LW\n",
       "1 5.1          3.5         1.4          0.2         setosa  4.30\n",
       "2 4.9          3.0         1.4          0.2         setosa  3.95\n",
       "3 4.7          3.2         1.3          0.2         setosa  3.95\n",
       "4 4.6          3.1         1.5          0.2         setosa  3.85\n",
       "5 5.0          3.6         1.4          0.2         setosa  4.30\n",
       "6 5.4          3.9         1.7          0.4         setosa  4.65"
      ]
     },
     "metadata": {},
     "output_type": "display_data"
    }
   ],
   "source": [
    "iris %>% mutate(S.LW =(Sepal.Length + Sepal.Width) / 2 ) %>% head()"
   ]
  },
  {
   "cell_type": "markdown",
   "id": "390feb28",
   "metadata": {},
   "source": [
    "### groupyby + summarize"
   ]
  },
  {
   "cell_type": "markdown",
   "id": "53a545c2",
   "metadata": {},
   "source": [
    "* 데이터의 그룹별 요약 통계량을 통해 그룹별 데이터의 형태를 파악할 수 있다."
   ]
  },
  {
   "cell_type": "markdown",
   "id": "4515fed8",
   "metadata": {},
   "source": [
    "* 현재 `iris` 데이터의 경우 총 3가지의 종으로 나누어져 있다."
   ]
  },
  {
   "cell_type": "markdown",
   "id": "fc5ae18b",
   "metadata": {},
   "source": [
    "`1` 각 그룹별 빈도수 세기"
   ]
  },
  {
   "cell_type": "code",
   "execution_count": 68,
   "id": "5efa86eb",
   "metadata": {},
   "outputs": [
    {
     "data": {
      "text/html": [
       "<table class=\"dataframe\">\n",
       "<caption>A grouped_df: 3 × 2</caption>\n",
       "<thead>\n",
       "\t<tr><th scope=col>Species</th><th scope=col>n</th></tr>\n",
       "\t<tr><th scope=col>&lt;fct&gt;</th><th scope=col>&lt;int&gt;</th></tr>\n",
       "</thead>\n",
       "<tbody>\n",
       "\t<tr><td>setosa    </td><td>50</td></tr>\n",
       "\t<tr><td>versicolor</td><td>50</td></tr>\n",
       "\t<tr><td>virginica </td><td>50</td></tr>\n",
       "</tbody>\n",
       "</table>\n"
      ],
      "text/latex": [
       "A grouped\\_df: 3 × 2\n",
       "\\begin{tabular}{ll}\n",
       " Species & n\\\\\n",
       " <fct> & <int>\\\\\n",
       "\\hline\n",
       "\t setosa     & 50\\\\\n",
       "\t versicolor & 50\\\\\n",
       "\t virginica  & 50\\\\\n",
       "\\end{tabular}\n"
      ],
      "text/markdown": [
       "\n",
       "A grouped_df: 3 × 2\n",
       "\n",
       "| Species &lt;fct&gt; | n &lt;int&gt; |\n",
       "|---|---|\n",
       "| setosa     | 50 |\n",
       "| versicolor | 50 |\n",
       "| virginica  | 50 |\n",
       "\n"
      ],
      "text/plain": [
       "  Species    n \n",
       "1 setosa     50\n",
       "2 versicolor 50\n",
       "3 virginica  50"
      ]
     },
     "metadata": {},
     "output_type": "display_data"
    }
   ],
   "source": [
    "iris %>% \n",
    "        group_by(Species) %>% count()"
   ]
  },
  {
   "cell_type": "markdown",
   "id": "bb917007",
   "metadata": {},
   "source": [
    "`2` 각 그룹별 `Speal.Length` 변수의 평균값과 표준편차 산출"
   ]
  },
  {
   "cell_type": "code",
   "execution_count": 74,
   "id": "657326e7",
   "metadata": {},
   "outputs": [
    {
     "data": {
      "text/html": [
       "<table class=\"dataframe\">\n",
       "<caption>A tibble: 3 × 3</caption>\n",
       "<thead>\n",
       "\t<tr><th scope=col>Species</th><th scope=col>sl_mean</th><th scope=col>sl_sd</th></tr>\n",
       "\t<tr><th scope=col>&lt;fct&gt;</th><th scope=col>&lt;dbl&gt;</th><th scope=col>&lt;dbl&gt;</th></tr>\n",
       "</thead>\n",
       "<tbody>\n",
       "\t<tr><td>setosa    </td><td>5.006</td><td>0.3524897</td></tr>\n",
       "\t<tr><td>versicolor</td><td>5.936</td><td>0.5161711</td></tr>\n",
       "\t<tr><td>virginica </td><td>6.588</td><td>0.6358796</td></tr>\n",
       "</tbody>\n",
       "</table>\n"
      ],
      "text/latex": [
       "A tibble: 3 × 3\n",
       "\\begin{tabular}{lll}\n",
       " Species & sl\\_mean & sl\\_sd\\\\\n",
       " <fct> & <dbl> & <dbl>\\\\\n",
       "\\hline\n",
       "\t setosa     & 5.006 & 0.3524897\\\\\n",
       "\t versicolor & 5.936 & 0.5161711\\\\\n",
       "\t virginica  & 6.588 & 0.6358796\\\\\n",
       "\\end{tabular}\n"
      ],
      "text/markdown": [
       "\n",
       "A tibble: 3 × 3\n",
       "\n",
       "| Species &lt;fct&gt; | sl_mean &lt;dbl&gt; | sl_sd &lt;dbl&gt; |\n",
       "|---|---|---|\n",
       "| setosa     | 5.006 | 0.3524897 |\n",
       "| versicolor | 5.936 | 0.5161711 |\n",
       "| virginica  | 6.588 | 0.6358796 |\n",
       "\n"
      ],
      "text/plain": [
       "  Species    sl_mean sl_sd    \n",
       "1 setosa     5.006   0.3524897\n",
       "2 versicolor 5.936   0.5161711\n",
       "3 virginica  6.588   0.6358796"
      ]
     },
     "metadata": {},
     "output_type": "display_data"
    }
   ],
   "source": [
    "iris %>% group_by(Species) %>% \n",
    "                    summarize(sl_mean = mean(Sepal.Length),\n",
    "                              sl_sd = sd(Sepal.Length))"
   ]
  },
  {
   "cell_type": "markdown",
   "id": "69cf6caa",
   "metadata": {},
   "source": [
    "### Join"
   ]
  },
  {
   "cell_type": "markdown",
   "id": "ffa84258",
   "metadata": {},
   "source": [
    "* 보통의 데이터는 한 가지의 데이터 프레임이 아닌 다수의 데이터 프레임을 결합하여 형성한다."
   ]
  },
  {
   "cell_type": "markdown",
   "id": "2cc38fff",
   "metadata": {},
   "source": [
    "* 이러한 것을 데이터 프레임들을 **\"join\"** 한다고 하며 이 경우 각 데이터 프레임의 `key` 값을 이용한다."
   ]
  },
  {
   "cell_type": "code",
   "execution_count": 82,
   "id": "fc2b8a14",
   "metadata": {},
   "outputs": [
    {
     "data": {
      "text/html": [
       "<table class=\"dataframe\">\n",
       "<caption>A tibble: 4 × 2</caption>\n",
       "<thead>\n",
       "\t<tr><th scope=col>key1</th><th scope=col>height</th></tr>\n",
       "\t<tr><th scope=col>&lt;chr&gt;</th><th scope=col>&lt;dbl&gt;</th></tr>\n",
       "</thead>\n",
       "<tbody>\n",
       "\t<tr><td>A</td><td>170</td></tr>\n",
       "\t<tr><td>B</td><td>180</td></tr>\n",
       "\t<tr><td>C</td><td>185</td></tr>\n",
       "\t<tr><td>D</td><td>190</td></tr>\n",
       "</tbody>\n",
       "</table>\n"
      ],
      "text/latex": [
       "A tibble: 4 × 2\n",
       "\\begin{tabular}{ll}\n",
       " key1 & height\\\\\n",
       " <chr> & <dbl>\\\\\n",
       "\\hline\n",
       "\t A & 170\\\\\n",
       "\t B & 180\\\\\n",
       "\t C & 185\\\\\n",
       "\t D & 190\\\\\n",
       "\\end{tabular}\n"
      ],
      "text/markdown": [
       "\n",
       "A tibble: 4 × 2\n",
       "\n",
       "| key1 &lt;chr&gt; | height &lt;dbl&gt; |\n",
       "|---|---|\n",
       "| A | 170 |\n",
       "| B | 180 |\n",
       "| C | 185 |\n",
       "| D | 190 |\n",
       "\n"
      ],
      "text/plain": [
       "  key1 height\n",
       "1 A    170   \n",
       "2 B    180   \n",
       "3 C    185   \n",
       "4 D    190   "
      ]
     },
     "metadata": {},
     "output_type": "display_data"
    }
   ],
   "source": [
    "## collapse\n",
    "table1 <- tibble(key1 = c(\"A\",\"B\",\"C\",\"D\"),\n",
    "          height = c(170,180,185,190))\n",
    "\n",
    "table1"
   ]
  },
  {
   "cell_type": "code",
   "execution_count": 84,
   "id": "fe0d61b0",
   "metadata": {},
   "outputs": [
    {
     "data": {
      "text/html": [
       "<table class=\"dataframe\">\n",
       "<caption>A tibble: 4 × 2</caption>\n",
       "<thead>\n",
       "\t<tr><th scope=col>key2</th><th scope=col>weight</th></tr>\n",
       "\t<tr><th scope=col>&lt;chr&gt;</th><th scope=col>&lt;dbl&gt;</th></tr>\n",
       "</thead>\n",
       "<tbody>\n",
       "\t<tr><td>A</td><td>60</td></tr>\n",
       "\t<tr><td>B</td><td>70</td></tr>\n",
       "\t<tr><td>D</td><td>80</td></tr>\n",
       "\t<tr><td>C</td><td>90</td></tr>\n",
       "</tbody>\n",
       "</table>\n"
      ],
      "text/latex": [
       "A tibble: 4 × 2\n",
       "\\begin{tabular}{ll}\n",
       " key2 & weight\\\\\n",
       " <chr> & <dbl>\\\\\n",
       "\\hline\n",
       "\t A & 60\\\\\n",
       "\t B & 70\\\\\n",
       "\t D & 80\\\\\n",
       "\t C & 90\\\\\n",
       "\\end{tabular}\n"
      ],
      "text/markdown": [
       "\n",
       "A tibble: 4 × 2\n",
       "\n",
       "| key2 &lt;chr&gt; | weight &lt;dbl&gt; |\n",
       "|---|---|\n",
       "| A | 60 |\n",
       "| B | 70 |\n",
       "| D | 80 |\n",
       "| C | 90 |\n",
       "\n"
      ],
      "text/plain": [
       "  key2 weight\n",
       "1 A    60    \n",
       "2 B    70    \n",
       "3 D    80    \n",
       "4 C    90    "
      ]
     },
     "metadata": {},
     "output_type": "display_data"
    }
   ],
   "source": [
    "## collapse\n",
    "table2 <- tibble(key2 = c(\"A\",\"B\",\"D\",\"C\"),\n",
    "          weight = c(60,70,80,90))\n",
    "table2"
   ]
  },
  {
   "cell_type": "code",
   "execution_count": null,
   "id": "cd353ba7",
   "metadata": {},
   "outputs": [],
   "source": []
  }
 ],
 "metadata": {
  "kernelspec": {
   "display_name": "R",
   "language": "R",
   "name": "ir"
  },
  "language_info": {
   "codemirror_mode": "r",
   "file_extension": ".r",
   "mimetype": "text/x-r-source",
   "name": "R",
   "pygments_lexer": "r",
   "version": "4.1.3"
  },
  "toc": {
   "base_numbering": 1,
   "nav_menu": {},
   "number_sections": false,
   "sideBar": true,
   "skip_h1_title": false,
   "title_cell": "Table of Contents",
   "title_sidebar": "Contents",
   "toc_cell": false,
   "toc_position": {},
   "toc_section_display": true,
   "toc_window_display": true
  }
 },
 "nbformat": 4,
 "nbformat_minor": 5
}
