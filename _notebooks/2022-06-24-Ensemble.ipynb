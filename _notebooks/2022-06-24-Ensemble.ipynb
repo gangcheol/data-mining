{
 "cells": [
  {
   "cell_type": "markdown",
   "id": "966699ca",
   "metadata": {},
   "source": [
    "# Ensemble\n",
    "\n",
    "* toc : true\n",
    "* branch: master\n",
    "* badges: true\n",
    "* comments: true\n",
    "* author: 이강철\n",
    "* categories: [R]\n",
    "* published : true\n",
    "* hide : false"
   ]
  },
  {
   "cell_type": "markdown",
   "id": "ebbaa042",
   "metadata": {},
   "source": [
    "## Bootstrap"
   ]
  },
  {
   "cell_type": "markdown",
   "id": "6f657db4",
   "metadata": {},
   "source": [
    "`-` $n$개의 표본에서 샘플을 복원추출하는 방법"
   ]
  },
  {
   "cell_type": "markdown",
   "id": "e5e0c5e0",
   "metadata": {},
   "source": [
    "> example : $n$개의 표본에서 1번째 표본이 샘플로 채택되지 않을 확률"
   ]
  },
  {
   "cell_type": "markdown",
   "id": "b9269582",
   "metadata": {},
   "source": [
    "$$\\lim_{n \\to \\infty}\\left  (1-\\frac{1}{n}\\right)^{n} = e^{-1}\\approx 0.367$$"
   ]
  },
  {
   "cell_type": "markdown",
   "id": "4dd911a5",
   "metadata": {},
   "source": [
    "***"
   ]
  },
  {
   "cell_type": "markdown",
   "id": "cf564beb",
   "metadata": {},
   "source": [
    "## Bagging"
   ]
  },
  {
   "cell_type": "markdown",
   "id": "2c83d155",
   "metadata": {},
   "source": [
    "### 이론"
   ]
  },
  {
   "cell_type": "markdown",
   "id": "5a602eb7",
   "metadata": {},
   "source": [
    "* 아이디어 : $B$개의 tree를 생성 후 앙상블한다."
   ]
  },
  {
   "cell_type": "markdown",
   "id": "0b2e95fb",
   "metadata": {},
   "source": [
    "`Step.1` : $n$개의 표본에서 $n$개의 샘플을 복원 추출 $\\to L^{*(b)}\\quad b=1\\dots B$"
   ]
  },
  {
   "cell_type": "markdown",
   "id": "50a8685d",
   "metadata": {},
   "source": [
    "`Step.2` : tree 적합 $\\to f^{(b)}(x)$"
   ]
  },
  {
   "cell_type": "markdown",
   "id": "7ad9f7d4",
   "metadata": {},
   "source": [
    "`Step.3`: $B$개의 예측모형 결합 $\\to \\hat f(x) = \\frac{1}{B} \\sum_{b=1}^{B} f^{(b)}(x)$ \n",
    "    \n",
    "    -  분류모형의 경우 : B개 중 가장 많이 분류된 범주로 분류\n",
    "    "
   ]
  },
  {
   "cell_type": "markdown",
   "id": "110a68bc",
   "metadata": {},
   "source": [
    "### 기대효과"
   ]
  },
  {
   "cell_type": "markdown",
   "id": "dfb91e84",
   "metadata": {},
   "source": [
    "* tree의 경우 가지치기를 하지않으면 과적합문제가 발생"
   ]
  },
  {
   "cell_type": "markdown",
   "id": "fd2b9145",
   "metadata": {},
   "source": [
    "* 배깅의 경우 $B$개의 tree를 생성 후 결과를 앙상블 하므로 예측모형의 분산감소 $\\to$ 즉, 과적합을 막을 수 있음"
   ]
  },
  {
   "cell_type": "markdown",
   "id": "679050b3",
   "metadata": {},
   "source": [
    "* 배깅방법은 tree 뿐만 아니라 여러 예측모형을 앙상블해서 사용할 수 있음"
   ]
  },
  {
   "cell_type": "markdown",
   "id": "00104f2e",
   "metadata": {},
   "source": [
    "* 단점 : 복원추출을 하여 모든 변수를 이용해 $f^{(b)}(x)$를 적합 시켰기 때문에 각각의 모형은 서로 독립이 보장되지 않는다."
   ]
  },
  {
   "cell_type": "markdown",
   "id": "4f71dde4",
   "metadata": {},
   "source": [
    "### Out-of-Bag Error Estimation"
   ]
  },
  {
   "cell_type": "markdown",
   "id": "f86520b3",
   "metadata": {},
   "source": [
    "* 앞서 설명하였듯이 각 개체가 Boostrap sample에 속하지 않을확률은 $e^{-1}\\approx 0.367$이다."
   ]
  },
  {
   "cell_type": "markdown",
   "id": "6cc8e510",
   "metadata": {},
   "source": [
    "* 즉, 각 개체는 $\\frac {B}{3}$개의 트리에 포함되지 않는다."
   ]
  },
  {
   "cell_type": "markdown",
   "id": "375daa9b",
   "metadata": {},
   "source": [
    "* 이러한 데이터를 **Out-of-bag 관측값(OOB)**이라고 하며 이를 이용해 test error를 계산할수 있다.\n",
    "    * 포함되지 않은 tree에 개체를 집어넣은 후 평균을 내서 OOB test error 산출"
   ]
  },
  {
   "cell_type": "markdown",
   "id": "8c25c943",
   "metadata": {},
   "source": [
    "***"
   ]
  },
  {
   "cell_type": "markdown",
   "id": "6c565fbd",
   "metadata": {},
   "source": [
    "## Random Forest"
   ]
  },
  {
   "cell_type": "markdown",
   "id": "a1c15ffb",
   "metadata": {},
   "source": [
    "### 이론"
   ]
  },
  {
   "cell_type": "markdown",
   "id": "bf1a93e1",
   "metadata": {},
   "source": [
    "* boostrap sample + random sample of $m$ predictors"
   ]
  },
  {
   "cell_type": "markdown",
   "id": "8ab5f342",
   "metadata": {},
   "source": [
    "* 전체적인 방법은 배깅과 동일하나 각각의 $f^{(b)}(x)$에서 예측변수를 일부만 선택\n",
    "    * 회귀 문제 : $m = p/3$\n",
    "    * 분류 문제 : $m = \\sqrt p$"
   ]
  },
  {
   "cell_type": "markdown",
   "id": "d2713aad",
   "metadata": {},
   "source": [
    "* $f^{b}(x)$ 사이의 상관성을 줄이므로 분산의 감소를 일으킴 $\\to$ 즉, 배깅보다 과적합을 더 잘 막음"
   ]
  },
  {
   "cell_type": "markdown",
   "id": "6d352cc0",
   "metadata": {},
   "source": [
    "* 많은 수의 트리를 생성하기 때문에 예측력을 향상시킬 수 있지만, 트리의 강점인 설명력이 사라진다."
   ]
  },
  {
   "cell_type": "markdown",
   "id": "addbabdb",
   "metadata": {},
   "source": [
    "* 대신, 변수의 중유도를 측정할 수 있음"
   ]
  },
  {
   "cell_type": "markdown",
   "id": "09a6a06a",
   "metadata": {},
   "source": [
    "### 변수중요도"
   ]
  },
  {
   "cell_type": "markdown",
   "id": "85e04fb6",
   "metadata": {},
   "source": [
    "`1` 정확도 감소"
   ]
  },
  {
   "cell_type": "markdown",
   "id": "9aa00e1f",
   "metadata": {},
   "source": [
    "$$d_i = r_i-e_b$$"
   ]
  },
  {
   "cell_type": "markdown",
   "id": "635fecc5",
   "metadata": {},
   "source": [
    "$$변수 중요도 = \\frac{\\bar {d_i}}{s_{d_i}}$$"
   ]
  },
  {
   "cell_type": "markdown",
   "id": "c189050f",
   "metadata": {},
   "source": [
    "$$s_{d_i}^2 = \\frac {1}{B-1} \\sum_{b=1}^{B}(d_{i}-\\bar {d_i})^2$$"
   ]
  },
  {
   "cell_type": "markdown",
   "id": "cac2b9c9",
   "metadata": {},
   "source": [
    "* $e_b$ : $b$번째 예측모형에서의 OOB error 측정\n",
    "* $r_i$ : 임의의 변수 $X_i$를 석었을 때 OOB error 측정\n"
   ]
  },
  {
   "cell_type": "markdown",
   "id": "88086923",
   "metadata": {},
   "source": [
    "`2`. 불순도 감소"
   ]
  },
  {
   "cell_type": "markdown",
   "id": "2cc5e0ea",
   "metadata": {},
   "source": [
    "* 트리 형성 과정에서 분리 규칙으로 사용된 변수들에 대해 $RSS$ 나 불순도가 얼마나 감소했는지를 측정 후 평균낸 값을 변수 중요도로 사용"
   ]
  },
  {
   "cell_type": "markdown",
   "id": "cd015783",
   "metadata": {},
   "source": [
    "***"
   ]
  },
  {
   "cell_type": "markdown",
   "id": "c9cb5414",
   "metadata": {},
   "source": [
    "## Boosting"
   ]
  },
  {
   "cell_type": "markdown",
   "id": "d4a5688e",
   "metadata": {},
   "source": [
    "### 이론"
   ]
  },
  {
   "cell_type": "markdown",
   "id": "280c28ae",
   "metadata": {},
   "source": [
    "* 약한 예측 모형을 결합하여 매우 정확한 예측 모형을 만듬"
   ]
  },
  {
   "cell_type": "markdown",
   "id": "4198746e",
   "metadata": {},
   "source": [
    "* 배깅과의 차이점 $\\to$ 배깅은 병렬, 부스팅은 순차적(직렬)으로 모형 결합"
   ]
  },
  {
   "cell_type": "markdown",
   "id": "ae76f2e9",
   "metadata": {},
   "source": [
    "### 알고리즘"
   ]
  },
  {
   "cell_type": "markdown",
   "id": "e51dfe22",
   "metadata": {},
   "source": [
    "`1` 각 개체에 대해 초기 가중치 설정 : $w_i = \\frac 1n, \\,\\, i = 1,2,3\\dots n$"
   ]
  },
  {
   "cell_type": "markdown",
   "id": "9e11c3de",
   "metadata": {},
   "source": [
    "`2` 가중치 $w_i$를 이용하여 boostrap sample을 추출하여 분류모형 생성"
   ]
  },
  {
   "cell_type": "markdown",
   "id": "62f6d9e5",
   "metadata": {},
   "source": [
    "`3` 오차율 계산 "
   ]
  },
  {
   "cell_type": "markdown",
   "id": "ccbd21ee",
   "metadata": {},
   "source": [
    "$$e_b= \\frac{\\sum_{i=1}^{n} w_iI(y_i\\neq f_{b}(x_i))}{\\sum_{i=1}^{n} w_i}$$"
   ]
  },
  {
   "cell_type": "markdown",
   "id": "0d9ae9ab",
   "metadata": {},
   "source": [
    "$$\\alpha_b =  \\log \\frac {1-e_b}{e_b} $$"
   ]
  },
  {
   "cell_type": "markdown",
   "id": "d69a4246",
   "metadata": {},
   "source": [
    "`4` 가중치 갱신"
   ]
  },
  {
   "cell_type": "markdown",
   "id": "e9728e56",
   "metadata": {},
   "source": [
    "$$ w_i \\leftarrow w_i \\times \\exp \\,\\left (\\alpha_b I(y_i\\neq f_{b}(x_i))\\right)$$"
   ]
  },
  {
   "cell_type": "markdown",
   "id": "655c2b54",
   "metadata": {},
   "source": [
    "`5` 최종 모형 결정 : $f(x) = sign \\left( \\sum_{b=1}^{B} \\alpha_b f_b(x) \\right )$\n",
    "\n",
    "    * sign(f(x)) >0 : class A\n",
    "    \n",
    "    * sign(f(x)) <0 : class B    "
   ]
  },
  {
   "cell_type": "markdown",
   "id": "7271c5e3",
   "metadata": {},
   "source": [
    "### 정리"
   ]
  },
  {
   "cell_type": "markdown",
   "id": "0dea1731",
   "metadata": {},
   "source": [
    "* 배깅과 달리 예측력이 좋으나 과적합에 문제가 있음 $\\to B$ 개수의 선택 중요 "
   ]
  },
  {
   "cell_type": "markdown",
   "id": "67617626",
   "metadata": {},
   "source": [
    "* 약한 예측모형을 기본 모형으로 사용하기 때문에 하나의 부할을 갖는트리 (depth=2) 를 많이 사용함"
   ]
  },
  {
   "cell_type": "markdown",
   "id": "b7eebcc2",
   "metadata": {},
   "source": [
    "***"
   ]
  },
  {
   "cell_type": "markdown",
   "id": "8f9e3ace",
   "metadata": {},
   "source": [
    "## R실습"
   ]
  },
  {
   "cell_type": "code",
   "execution_count": 15,
   "id": "47a69358",
   "metadata": {},
   "outputs": [],
   "source": [
    "#install.packages(c(\"randomForest\",\"ipred\",\"gbm\",\"xgboost\",\"adabag\",\"rpart\",\"rpart.plot\",\"data.table\"))"
   ]
  },
  {
   "cell_type": "code",
   "execution_count": 17,
   "id": "890156cc",
   "metadata": {},
   "outputs": [],
   "source": [
    "library(randomForest) ##random Forest\n",
    "library(ipred) ##bagging\n",
    "library(gbm) ## Boosting\n",
    "library(xgboost)  ## xgboost  \n",
    "library(adabag)  ##Adaboosting : boosting\n",
    "library(rpart)\n",
    "library(rpart.plot)\n",
    "library(tidyverse)\n",
    "library(data.table)"
   ]
  },
  {
   "cell_type": "code",
   "execution_count": 13,
   "id": "7b0cb2f9",
   "metadata": {},
   "outputs": [],
   "source": [
    "library(MASS)\n",
    "select <- dplyr::select"
   ]
  },
  {
   "cell_type": "markdown",
   "id": "d796a75f",
   "metadata": {},
   "source": [
    "### tree 모형"
   ]
  },
  {
   "cell_type": "code",
   "execution_count": 39,
   "id": "91c87b5e",
   "metadata": {},
   "outputs": [
    {
     "data": {
      "text/plain": [
       "n= 253 \n",
       "\n",
       "node), split, n, deviance, yval\n",
       "      * denotes terminal node\n",
       "\n",
       " 1) root 253 21715.9700 22.67668  \n",
       "   2) rm< 6.676 199  6547.3640 19.29095  \n",
       "     4) lstat>=14.91 77  1535.7650 14.54026  \n",
       "       8) tax>=551.5 43   466.4065 11.92791 *\n",
       "       9) tax< 551.5 34   404.7838 17.84412 *\n",
       "     5) lstat< 14.91 122  2176.9560 22.28934  \n",
       "      10) lstat>=9.89 63   321.4965 20.05397 *\n",
       "      11) lstat< 9.89 59  1204.5070 24.67627  \n",
       "        22) dis>=2.96955 51   307.4016 23.87255 *\n",
       "        23) dis< 2.96955 8   654.1400 29.80000 *\n",
       "   3) rm>=6.676 54  4480.9340 35.15370  \n",
       "     6) rm< 7.435 39  2005.1790 31.27179  \n",
       "      12) lstat>=8.76 9   357.9422 23.75556 *\n",
       "      13) lstat< 8.76 30   986.2587 33.52667  \n",
       "        26) lstat>=4.6 22   254.1436 31.47273 *\n",
       "        27) lstat< 4.6 8   384.0750 39.17500 *\n",
       "     7) rm>=7.435 15   360.0373 45.24667 *"
      ]
     },
     "metadata": {},
     "output_type": "display_data"
    }
   ],
   "source": [
    "train <- sample(1:nrow(Boston), nrow(Boston) / 2)\n",
    "Boston_train <- Boston[train,-1]\n",
    "Boston_test <- Boston[-train,-1]\n",
    "\n",
    "cart_boston<- rpart(medv ~ ., data=Boston_train)\n",
    "\n",
    "cart_boston"
   ]
  },
  {
   "cell_type": "code",
   "execution_count": 40,
   "id": "7bbaa3c2",
   "metadata": {},
   "outputs": [
    {
     "data": {
      "image/png": "[encoded data removed]",
      "text/plain": [
       "Plot with title \"Regression using CART\""
      ]
     },
     "metadata": {
      "image/png": {
       "height": 420,
       "width": 420
      }
     },
     "output_type": "display_data"
    }
   ],
   "source": [
    "rpart.plot(cart_boston, \n",
    "           main = \"Regression using CART\")"
   ]
  },
  {
   "cell_type": "code",
   "execution_count": 41,
   "id": "bc40391d",
   "metadata": {},
   "outputs": [
    {
     "name": "stdout",
     "output_type": "stream",
     "text": [
      "Call:\n",
      "rpart(formula = medv ~ ., data = Boston_train)\n",
      "  n= 253 \n",
      "\n",
      "          CP nsplit rel error    xerror       xstd\n",
      "1 0.49215730      0 1.0000000 1.0144534 0.11691897\n",
      "2 0.13053260      1 0.5078427 0.6066988 0.07865966\n",
      "3 0.09742681      2 0.3773101 0.4638606 0.06743349\n",
      "4 0.03060304      3 0.2798833 0.3369510 0.05919318\n",
      "5 0.03043742      4 0.2492802 0.3172014 0.05609988\n",
      "6 0.02997576      5 0.2188428 0.3100736 0.05509320\n",
      "7 0.01602691      6 0.1888671 0.2625877 0.04884343\n",
      "8 0.01118832      7 0.1728401 0.2536600 0.04383761\n",
      "9 0.01000000      8 0.1616518 0.2513963 0.04522195\n",
      "\n",
      "Variable importance\n",
      "     rm   lstat   indus     dis     nox ptratio     tax     age      zn     rad \n",
      "     34      25      10       6       6       5       5       5       3       2 \n",
      "\n",
      "Node number 1: 253 observations,    complexity param=0.4921573\n",
      "  mean=22.67668, MSE=85.83388 \n",
      "  left son=2 (199 obs) right son=3 (54 obs)\n",
      "  Primary splits:\n",
      "      rm      < 6.676   to the left,  improve=0.4921573, (0 missing)\n",
      "      lstat   < 9.95    to the right, improve=0.4721697, (0 missing)\n",
      "      nox     < 0.6695  to the right, improve=0.2517992, (0 missing)\n",
      "      indus   < 7.015   to the right, improve=0.2313864, (0 missing)\n",
      "      ptratio < 19.65   to the right, improve=0.2210499, (0 missing)\n",
      "  Surrogate splits:\n",
      "      lstat   < 5.495   to the right, agree=0.874, adj=0.407, (0 split)\n",
      "      indus   < 3.985   to the right, agree=0.818, adj=0.148, (0 split)\n",
      "      ptratio < 13.85   to the right, agree=0.810, adj=0.111, (0 split)\n",
      "      zn      < 87.5    to the left,  agree=0.806, adj=0.093, (0 split)\n",
      "\n",
      "Node number 2: 199 observations,    complexity param=0.1305326\n",
      "  mean=19.29095, MSE=32.90133 \n",
      "  left son=4 (77 obs) right son=5 (122 obs)\n",
      "  Primary splits:\n",
      "      lstat   < 14.91   to the right, improve=0.4329441, (0 missing)\n",
      "      nox     < 0.6695  to the right, improve=0.3370918, (0 missing)\n",
      "      dis     < 2.2466  to the left,  improve=0.2615125, (0 missing)\n",
      "      indus   < 16.57   to the right, improve=0.2574271, (0 missing)\n",
      "      ptratio < 19.9    to the right, improve=0.2573377, (0 missing)\n",
      "  Surrogate splits:\n",
      "      age   < 88.55   to the right, agree=0.814, adj=0.519, (0 split)\n",
      "      dis   < 2.09525 to the left,  agree=0.799, adj=0.481, (0 split)\n",
      "      nox   < 0.619   to the right, agree=0.784, adj=0.442, (0 split)\n",
      "      indus < 16.57   to the right, agree=0.774, adj=0.416, (0 split)\n",
      "      tax   < 434.5   to the right, agree=0.749, adj=0.351, (0 split)\n",
      "\n",
      "Node number 3: 54 observations,    complexity param=0.09742681\n",
      "  mean=35.1537, MSE=82.98026 \n",
      "  left son=6 (39 obs) right son=7 (15 obs)\n",
      "  Primary splits:\n",
      "      rm      < 7.435   to the left,  improve=0.47216000, (0 missing)\n",
      "      lstat   < 4.68    to the right, improve=0.39060180, (0 missing)\n",
      "      ptratio < 14.75   to the right, improve=0.16885410, (0 missing)\n",
      "      black   < 390.815 to the right, improve=0.12146710, (0 missing)\n",
      "      dis     < 2.47725 to the right, improve=0.09537131, (0 missing)\n",
      "  Surrogate splits:\n",
      "      lstat   < 4.355   to the right, agree=0.833, adj=0.400, (0 split)\n",
      "      indus   < 18.84   to the left,  agree=0.741, adj=0.067, (0 split)\n",
      "      ptratio < 14.75   to the right, agree=0.741, adj=0.067, (0 split)\n",
      "\n",
      "Node number 4: 77 observations,    complexity param=0.03060304\n",
      "  mean=14.54026, MSE=19.945 \n",
      "  left son=8 (43 obs) right son=9 (34 obs)\n",
      "  Primary splits:\n",
      "      tax     < 551.5   to the right, improve=0.4327321, (0 missing)\n",
      "      ptratio < 19.65   to the right, improve=0.4162932, (0 missing)\n",
      "      rad     < 16      to the right, improve=0.3745379, (0 missing)\n",
      "      dis     < 2.0037  to the left,  improve=0.3513200, (0 missing)\n",
      "      indus   < 16.01   to the right, improve=0.3320846, (0 missing)\n",
      "  Surrogate splits:\n",
      "      rad     < 16      to the right, agree=0.987, adj=0.971, (0 split)\n",
      "      ptratio < 19.65   to the right, agree=0.883, adj=0.735, (0 split)\n",
      "      indus   < 16.01   to the right, agree=0.818, adj=0.588, (0 split)\n",
      "      nox     < 0.5825  to the right, agree=0.818, adj=0.588, (0 split)\n",
      "      dis     < 2.45285 to the left,  agree=0.779, adj=0.500, (0 split)\n",
      "\n",
      "Node number 5: 122 observations,    complexity param=0.02997576\n",
      "  mean=22.28934, MSE=17.8439 \n",
      "  left son=10 (63 obs) right son=11 (59 obs)\n",
      "  Primary splits:\n",
      "      lstat < 9.89    to the right, improve=0.29901970, (0 missing)\n",
      "      rm    < 6.1405  to the left,  improve=0.14127680, (0 missing)\n",
      "      indus < 3.085   to the right, improve=0.08219182, (0 missing)\n",
      "      nox   < 0.5125  to the right, improve=0.05999634, (0 missing)\n",
      "      tax   < 278     to the right, improve=0.05927320, (0 missing)\n",
      "  Surrogate splits:\n",
      "      rm    < 6.029   to the left,  agree=0.787, adj=0.559, (0 split)\n",
      "      nox   < 0.496   to the right, agree=0.754, adj=0.492, (0 split)\n",
      "      dis   < 4.0711  to the left,  agree=0.713, adj=0.407, (0 split)\n",
      "      indus < 7.76    to the right, agree=0.705, adj=0.390, (0 split)\n",
      "      age   < 32.8    to the right, agree=0.689, adj=0.356, (0 split)\n",
      "\n",
      "Node number 6: 39 observations,    complexity param=0.03043742\n",
      "  mean=31.27179, MSE=51.41485 \n",
      "  left son=12 (9 obs) right son=13 (30 obs)\n",
      "  Primary splits:\n",
      "      lstat < 8.76    to the right, improve=0.32963550, (0 missing)\n",
      "      rm    < 6.9715  to the left,  improve=0.11851220, (0 missing)\n",
      "      age   < 90.8    to the left,  improve=0.10879450, (0 missing)\n",
      "      dis   < 2.0718  to the right, improve=0.10879450, (0 missing)\n",
      "      black < 394.75  to the right, improve=0.05804145, (0 missing)\n",
      "  Surrogate splits:\n",
      "      nox     < 0.659   to the right, agree=0.821, adj=0.222, (0 split)\n",
      "      rm      < 6.7275  to the left,  agree=0.795, adj=0.111, (0 split)\n",
      "      dis     < 2.8885  to the left,  agree=0.795, adj=0.111, (0 split)\n",
      "      tax     < 417.5   to the right, agree=0.795, adj=0.111, (0 split)\n",
      "      ptratio < 19.7    to the right, agree=0.795, adj=0.111, (0 split)\n",
      "\n",
      "Node number 7: 15 observations\n",
      "  mean=45.24667, MSE=24.00249 \n",
      "\n",
      "Node number 8: 43 observations\n",
      "  mean=11.92791, MSE=10.84666 \n",
      "\n",
      "Node number 9: 34 observations\n",
      "  mean=17.84412, MSE=11.90541 \n",
      "\n",
      "Node number 10: 63 observations\n",
      "  mean=20.05397, MSE=5.103119 \n",
      "\n",
      "Node number 11: 59 observations,    complexity param=0.01118832\n",
      "  mean=24.67627, MSE=20.41537 \n",
      "  left son=22 (51 obs) right son=23 (8 obs)\n",
      "  Primary splits:\n",
      "      dis   < 2.96955 to the right, improve=0.20171340, (0 missing)\n",
      "      age   < 82.65   to the left,  improve=0.13923170, (0 missing)\n",
      "      indus < 13.375  to the left,  improve=0.12326910, (0 missing)\n",
      "      rad   < 6.5     to the left,  improve=0.09182361, (0 missing)\n",
      "      black < 387.13  to the right, improve=0.06285260, (0 missing)\n",
      "  Surrogate splits:\n",
      "      nox   < 0.5585  to the left,  agree=0.949, adj=0.625, (0 split)\n",
      "      age   < 87.65   to the left,  agree=0.949, adj=0.625, (0 split)\n",
      "      indus < 16.57   to the left,  agree=0.932, adj=0.500, (0 split)\n",
      "      black < 355.065 to the right, agree=0.915, adj=0.375, (0 split)\n",
      "      rad   < 16      to the left,  agree=0.898, adj=0.250, (0 split)\n",
      "\n",
      "Node number 12: 9 observations\n",
      "  mean=23.75556, MSE=39.77136 \n",
      "\n",
      "Node number 13: 30 observations,    complexity param=0.01602691\n",
      "  mean=33.52667, MSE=32.87529 \n",
      "  left son=26 (22 obs) right son=27 (8 obs)\n",
      "  Primary splits:\n",
      "      lstat < 4.6     to the right, improve=0.3528892, (0 missing)\n",
      "      age   < 78.45   to the left,  improve=0.3147086, (0 missing)\n",
      "      dis   < 3.0655  to the right, improve=0.2890375, (0 missing)\n",
      "      tax   < 384     to the left,  improve=0.2544259, (0 missing)\n",
      "      nox   < 0.521   to the left,  improve=0.2211543, (0 missing)\n",
      "  Surrogate splits:\n",
      "      dis     < 1.88595 to the right, agree=0.833, adj=0.375, (0 split)\n",
      "      tax     < 400     to the left,  agree=0.833, adj=0.375, (0 split)\n",
      "      ptratio < 18.55   to the left,  agree=0.833, adj=0.375, (0 split)\n",
      "      zn      < 75      to the left,  agree=0.800, adj=0.250, (0 split)\n",
      "      indus   < 16.01   to the left,  agree=0.800, adj=0.250, (0 split)\n",
      "\n",
      "Node number 22: 51 observations\n",
      "  mean=23.87255, MSE=6.027482 \n",
      "\n",
      "Node number 23: 8 observations\n",
      "  mean=29.8, MSE=81.7675 \n",
      "\n",
      "Node number 26: 22 observations\n",
      "  mean=31.47273, MSE=11.55198 \n",
      "\n",
      "Node number 27: 8 observations\n",
      "  mean=39.175, MSE=48.00938 \n",
      "\n"
     ]
    }
   ],
   "source": [
    "summary(cart_boston)"
   ]
  },
  {
   "cell_type": "markdown",
   "id": "fd6f6876",
   "metadata": {},
   "source": [
    "* 변수중요도"
   ]
  },
  {
   "cell_type": "code",
   "execution_count": 42,
   "id": "1b7e8b6f",
   "metadata": {},
   "outputs": [
    {
     "data": {
      "text/html": [
       "<style>\n",
       ".dl-inline {width: auto; margin:0; padding: 0}\n",
       ".dl-inline>dt, .dl-inline>dd {float: none; width: auto; display: inline-block}\n",
       ".dl-inline>dt::after {content: \":\\0020\"; padding-right: .5ex}\n",
       ".dl-inline>dt:not(:first-of-type) {padding-left: .5ex}\n",
       "</style><dl class=dl-inline><dt>rm</dt><dd>13240.926671874</dd><dt>lstat</dt><dd>9695.13826464061</dd><dt>indus</dt><dd>3755.62051955766</dd><dt>dis</dt><dd>2406.10492751623</dd><dt>nox</dt><dd>2261.28381425972</dd><dt>ptratio</dt><dd>2021.18225080163</dd><dt>tax</dt><dd>1862.49738906225</dd><dt>age</dt><dd>1856.08983679273</dd><dt>zn</dt><dd>1076.60949213269</dd><dt>rad</dt><dd>705.769843004862</dd><dt>black</dt><dd>91.111954137587</dd></dl>\n"
      ],
      "text/latex": [
       "\\begin{description*}\n",
       "\\item[rm] 13240.926671874\n",
       "\\item[lstat] 9695.13826464061\n",
       "\\item[indus] 3755.62051955766\n",
       "\\item[dis] 2406.10492751623\n",
       "\\item[nox] 2261.28381425972\n",
       "\\item[ptratio] 2021.18225080163\n",
       "\\item[tax] 1862.49738906225\n",
       "\\item[age] 1856.08983679273\n",
       "\\item[zn] 1076.60949213269\n",
       "\\item[rad] 705.769843004862\n",
       "\\item[black] 91.111954137587\n",
       "\\end{description*}\n"
      ],
      "text/markdown": [
       "rm\n",
       ":   13240.926671874lstat\n",
       ":   9695.13826464061indus\n",
       ":   3755.62051955766dis\n",
       ":   2406.10492751623nox\n",
       ":   2261.28381425972ptratio\n",
       ":   2021.18225080163tax\n",
       ":   1862.49738906225age\n",
       ":   1856.08983679273zn\n",
       ":   1076.60949213269rad\n",
       ":   705.769843004862black\n",
       ":   91.111954137587\n",
       "\n"
      ],
      "text/plain": [
       "         rm       lstat       indus         dis         nox     ptratio \n",
       "13240.92667  9695.13826  3755.62052  2406.10493  2261.28381  2021.18225 \n",
       "        tax         age          zn         rad       black \n",
       " 1862.49739  1856.08984  1076.60949   705.76984    91.11195 "
      ]
     },
     "metadata": {},
     "output_type": "display_data"
    }
   ],
   "source": [
    "cart_boston$variable.importance "
   ]
  },
  {
   "cell_type": "code",
   "execution_count": 43,
   "id": "41fd9535",
   "metadata": {},
   "outputs": [
    {
     "data": {
      "text/html": [
       "<table class=\"dataframe\">\n",
       "<caption>A matrix: 9 × 5 of type dbl</caption>\n",
       "<thead>\n",
       "\t<tr><th></th><th scope=col>CP</th><th scope=col>nsplit</th><th scope=col>rel error</th><th scope=col>xerror</th><th scope=col>xstd</th></tr>\n",
       "</thead>\n",
       "<tbody>\n",
       "\t<tr><th scope=row>1</th><td>0.49215730</td><td>0</td><td>1.0000000</td><td>1.0144534</td><td>0.11691897</td></tr>\n",
       "\t<tr><th scope=row>2</th><td>0.13053260</td><td>1</td><td>0.5078427</td><td>0.6066988</td><td>0.07865966</td></tr>\n",
       "\t<tr><th scope=row>3</th><td>0.09742681</td><td>2</td><td>0.3773101</td><td>0.4638606</td><td>0.06743349</td></tr>\n",
       "\t<tr><th scope=row>4</th><td>0.03060304</td><td>3</td><td>0.2798833</td><td>0.3369510</td><td>0.05919318</td></tr>\n",
       "\t<tr><th scope=row>5</th><td>0.03043742</td><td>4</td><td>0.2492802</td><td>0.3172014</td><td>0.05609988</td></tr>\n",
       "\t<tr><th scope=row>6</th><td>0.02997576</td><td>5</td><td>0.2188428</td><td>0.3100736</td><td>0.05509320</td></tr>\n",
       "\t<tr><th scope=row>7</th><td>0.01602691</td><td>6</td><td>0.1888671</td><td>0.2625877</td><td>0.04884343</td></tr>\n",
       "\t<tr><th scope=row>8</th><td>0.01118832</td><td>7</td><td>0.1728401</td><td>0.2536600</td><td>0.04383761</td></tr>\n",
       "\t<tr><th scope=row>9</th><td>0.01000000</td><td>8</td><td>0.1616518</td><td>0.2513963</td><td>0.04522195</td></tr>\n",
       "</tbody>\n",
       "</table>\n"
      ],
      "text/latex": [
       "A matrix: 9 × 5 of type dbl\n",
       "\\begin{tabular}{r|lllll}\n",
       "  & CP & nsplit & rel error & xerror & xstd\\\\\n",
       "\\hline\n",
       "\t1 & 0.49215730 & 0 & 1.0000000 & 1.0144534 & 0.11691897\\\\\n",
       "\t2 & 0.13053260 & 1 & 0.5078427 & 0.6066988 & 0.07865966\\\\\n",
       "\t3 & 0.09742681 & 2 & 0.3773101 & 0.4638606 & 0.06743349\\\\\n",
       "\t4 & 0.03060304 & 3 & 0.2798833 & 0.3369510 & 0.05919318\\\\\n",
       "\t5 & 0.03043742 & 4 & 0.2492802 & 0.3172014 & 0.05609988\\\\\n",
       "\t6 & 0.02997576 & 5 & 0.2188428 & 0.3100736 & 0.05509320\\\\\n",
       "\t7 & 0.01602691 & 6 & 0.1888671 & 0.2625877 & 0.04884343\\\\\n",
       "\t8 & 0.01118832 & 7 & 0.1728401 & 0.2536600 & 0.04383761\\\\\n",
       "\t9 & 0.01000000 & 8 & 0.1616518 & 0.2513963 & 0.04522195\\\\\n",
       "\\end{tabular}\n"
      ],
      "text/markdown": [
       "\n",
       "A matrix: 9 × 5 of type dbl\n",
       "\n",
       "| <!--/--> | CP | nsplit | rel error | xerror | xstd |\n",
       "|---|---|---|---|---|---|\n",
       "| 1 | 0.49215730 | 0 | 1.0000000 | 1.0144534 | 0.11691897 |\n",
       "| 2 | 0.13053260 | 1 | 0.5078427 | 0.6066988 | 0.07865966 |\n",
       "| 3 | 0.09742681 | 2 | 0.3773101 | 0.4638606 | 0.06743349 |\n",
       "| 4 | 0.03060304 | 3 | 0.2798833 | 0.3369510 | 0.05919318 |\n",
       "| 5 | 0.03043742 | 4 | 0.2492802 | 0.3172014 | 0.05609988 |\n",
       "| 6 | 0.02997576 | 5 | 0.2188428 | 0.3100736 | 0.05509320 |\n",
       "| 7 | 0.01602691 | 6 | 0.1888671 | 0.2625877 | 0.04884343 |\n",
       "| 8 | 0.01118832 | 7 | 0.1728401 | 0.2536600 | 0.04383761 |\n",
       "| 9 | 0.01000000 | 8 | 0.1616518 | 0.2513963 | 0.04522195 |\n",
       "\n"
      ],
      "text/plain": [
       "  CP         nsplit rel error xerror    xstd      \n",
       "1 0.49215730 0      1.0000000 1.0144534 0.11691897\n",
       "2 0.13053260 1      0.5078427 0.6066988 0.07865966\n",
       "3 0.09742681 2      0.3773101 0.4638606 0.06743349\n",
       "4 0.03060304 3      0.2798833 0.3369510 0.05919318\n",
       "5 0.03043742 4      0.2492802 0.3172014 0.05609988\n",
       "6 0.02997576 5      0.2188428 0.3100736 0.05509320\n",
       "7 0.01602691 6      0.1888671 0.2625877 0.04884343\n",
       "8 0.01118832 7      0.1728401 0.2536600 0.04383761\n",
       "9 0.01000000 8      0.1616518 0.2513963 0.04522195"
      ]
     },
     "metadata": {},
     "output_type": "display_data"
    }
   ],
   "source": [
    "cart_boston$cptable  ##complexity parameter "
   ]
  },
  {
   "cell_type": "markdown",
   "id": "b16317b4",
   "metadata": {},
   "source": [
    "* 가지치기 판단기준 `가장 작은 xerror+ xstd` 값이 들어있는 `xerror`범위의 cp값을 채택"
   ]
  },
  {
   "cell_type": "code",
   "execution_count": 27,
   "id": "715bcac3",
   "metadata": {},
   "outputs": [
    {
     "data": {
      "image/png": "[encoded data removed]",
      "text/plain": [
       "plot without title"
      ]
     },
     "metadata": {
      "image/png": {
       "height": 420,
       "width": 420
      }
     },
     "output_type": "display_data"
    }
   ],
   "source": [
    "plotcp(cart_boston)"
   ]
  },
  {
   "cell_type": "markdown",
   "id": "9b546875",
   "metadata": {},
   "source": [
    "* 가지치기"
   ]
  },
  {
   "cell_type": "code",
   "execution_count": 44,
   "id": "20ac7b95",
   "metadata": {},
   "outputs": [],
   "source": [
    "prune_cart_boston <- rpart(medv ~ ., data=Boston_train,\n",
    "                           control = rpart.control(cp = 0.016))"
   ]
  },
  {
   "cell_type": "code",
   "execution_count": 45,
   "id": "ffa9d39d",
   "metadata": {},
   "outputs": [
    {
     "data": {
      "image/png": "[encoded data removed]",
      "text/plain": [
       "Plot with title \"Regression using CART\""
      ]
     },
     "metadata": {
      "image/png": {
       "height": 420,
       "width": 420
      }
     },
     "output_type": "display_data"
    }
   ],
   "source": [
    "rpart.plot(prune_cart_boston, main = \"Regression using CART\")"
   ]
  },
  {
   "cell_type": "markdown",
   "id": "b6bf0620",
   "metadata": {},
   "source": [
    "* 예측"
   ]
  },
  {
   "cell_type": "code",
   "execution_count": 47,
   "id": "e89ddeba",
   "metadata": {},
   "outputs": [],
   "source": [
    "yhat <- predict(prune_cart_boston, \n",
    "                newdata = Boston_test)"
   ]
  },
  {
   "cell_type": "markdown",
   "id": "c8562a96",
   "metadata": {},
   "source": [
    "* 가지치기 후 MSE"
   ]
  },
  {
   "cell_type": "code",
   "execution_count": 48,
   "id": "3d2c54d7",
   "metadata": {},
   "outputs": [
    {
     "data": {
      "text/html": [
       "26.7515016503775"
      ],
      "text/latex": [
       "26.7515016503775"
      ],
      "text/markdown": [
       "26.7515016503775"
      ],
      "text/plain": [
       "[1] 26.7515"
      ]
     },
     "metadata": {},
     "output_type": "display_data"
    }
   ],
   "source": [
    "mean((yhat-Boston_test$medv)^2)  ###MSE"
   ]
  },
  {
   "cell_type": "markdown",
   "id": "0d3110bf",
   "metadata": {},
   "source": [
    "* 가지치기전 MSE"
   ]
  },
  {
   "cell_type": "code",
   "execution_count": 49,
   "id": "ae4bc63c",
   "metadata": {},
   "outputs": [
    {
     "data": {
      "text/html": [
       "25.9656807238935"
      ],
      "text/latex": [
       "25.9656807238935"
      ],
      "text/markdown": [
       "25.9656807238935"
      ],
      "text/plain": [
       "[1] 25.96568"
      ]
     },
     "metadata": {},
     "output_type": "display_data"
    }
   ],
   "source": [
    "mean((predict(cart_boston, \n",
    "              newdata=Boston_test)-Boston_test$medv)^2)  "
   ]
  },
  {
   "cell_type": "markdown",
   "id": "fcaff080",
   "metadata": {},
   "source": [
    "### bagging"
   ]
  },
  {
   "cell_type": "code",
   "execution_count": 52,
   "id": "1aaf0393",
   "metadata": {},
   "outputs": [],
   "source": [
    "fit.bagg<- ipredbagg(Boston_train$medv, \n",
    "                     Boston_train[,-13],\n",
    "                     nbagg=1000, ## 트리 형성 개수\n",
    "                     coob=T)  ## oob error estimator를 측정할 것이냐 말거냐"
   ]
  },
  {
   "cell_type": "code",
   "execution_count": 53,
   "id": "a12842e9",
   "metadata": {},
   "outputs": [
    {
     "data": {
      "text/plain": [
       "\n",
       "Bagging regression trees with 1000 bootstrap replications \n",
       "Out-of-bag estimate of root mean squared error:  4.2268 \n"
      ]
     },
     "metadata": {},
     "output_type": "display_data"
    }
   ],
   "source": [
    "fit.bagg"
   ]
  },
  {
   "cell_type": "markdown",
   "id": "eb3dc39d",
   "metadata": {},
   "source": [
    "* 예측"
   ]
  },
  {
   "cell_type": "code",
   "execution_count": 54,
   "id": "2cabc7f2",
   "metadata": {},
   "outputs": [
    {
     "data": {
      "text/html": [
       "17.5008988860572"
      ],
      "text/latex": [
       "17.5008988860572"
      ],
      "text/markdown": [
       "17.5008988860572"
      ],
      "text/plain": [
       "[1] 17.5009"
      ]
     },
     "metadata": {},
     "output_type": "display_data"
    }
   ],
   "source": [
    "pred<-predict(fit.bagg, \n",
    "              newdata = Boston_test)\n",
    "mean((pred-Boston_test$medv)^2)  ###MSE"
   ]
  },
  {
   "cell_type": "markdown",
   "id": "992fda1d",
   "metadata": {},
   "source": [
    "### Random Forest"
   ]
  },
  {
   "cell_type": "code",
   "execution_count": 57,
   "id": "74fcc94c",
   "metadata": {},
   "outputs": [],
   "source": [
    "rf.boston <- randomForest(medv ~ ., \n",
    "                          data = Boston_train,\n",
    "                          ntree=200, ## 트리개 수\n",
    "                          mtry = 4,  ## 설명변수 개수\n",
    "                          importance = TRUE ## 변수 중요도 출력 여부\n",
    "                         )  "
   ]
  },
  {
   "cell_type": "code",
   "execution_count": 58,
   "id": "e298f4b4",
   "metadata": {},
   "outputs": [
    {
     "data": {
      "text/plain": [
       "\n",
       "Call:\n",
       " randomForest(formula = medv ~ ., data = Boston_train, ntree = 200,      mtry = 4, importance = TRUE) \n",
       "               Type of random forest: regression\n",
       "                     Number of trees: 200\n",
       "No. of variables tried at each split: 4\n",
       "\n",
       "          Mean of squared residuals: 14.83848\n",
       "                    % Var explained: 82.71"
      ]
     },
     "metadata": {},
     "output_type": "display_data"
    }
   ],
   "source": [
    "rf.boston"
   ]
  },
  {
   "cell_type": "markdown",
   "id": "b70ad377",
   "metadata": {},
   "source": [
    "* % Var explained: 82.71 $\\to$ 설명력 정도"
   ]
  },
  {
   "cell_type": "code",
   "execution_count": 59,
   "id": "63380eeb",
   "metadata": {},
   "outputs": [],
   "source": [
    "yhat.bag <- predict(rf.boston, \n",
    "                    newdata = Boston_test)"
   ]
  },
  {
   "cell_type": "code",
   "execution_count": 60,
   "id": "8f132607",
   "metadata": {},
   "outputs": [
    {
     "data": {
      "image/png": "[encoded data removed]",
      "text/plain": [
       "plot without title"
      ]
     },
     "metadata": {
      "image/png": {
       "height": 420,
       "width": 420
      }
     },
     "output_type": "display_data"
    }
   ],
   "source": [
    "plot(yhat.bag, Boston_test$medv, pch=16)\n",
    "abline(0, 1, col='steelblue')"
   ]
  },
  {
   "cell_type": "markdown",
   "id": "a0456014",
   "metadata": {},
   "source": [
    "* test MSE 계산"
   ]
  },
  {
   "cell_type": "code",
   "execution_count": 61,
   "id": "6005a205",
   "metadata": {},
   "outputs": [
    {
     "data": {
      "text/html": [
       "11.2972925930259"
      ],
      "text/latex": [
       "11.2972925930259"
      ],
      "text/markdown": [
       "11.2972925930259"
      ],
      "text/plain": [
       "[1] 11.29729"
      ]
     },
     "metadata": {},
     "output_type": "display_data"
    }
   ],
   "source": [
    "mean((yhat.bag - Boston_test$medv)^2)"
   ]
  },
  {
   "cell_type": "code",
   "execution_count": 66,
   "id": "ca342027",
   "metadata": {},
   "outputs": [
    {
     "data": {
      "image/png": "[encoded data removed]",
      "text/plain": [
       "Plot with title \"tree 개수에 따른 oob sample의 MSE\""
      ]
     },
     "metadata": {
      "image/png": {
       "height": 420,
       "width": 420
      }
     },
     "output_type": "display_data"
    }
   ],
   "source": [
    "plot(rf.boston$mse, type='l', lwd=2,main=\"tree 개수에 따른 oob sample의 MSE\")"
   ]
  },
  {
   "cell_type": "code",
   "execution_count": 67,
   "id": "f7a8ed8d",
   "metadata": {},
   "outputs": [
    {
     "data": {
      "image/png": "[encoded data removed]",
      "text/plain": [
       "Plot with title \"tree 개수에 따른 oob sample의 R square\""
      ]
     },
     "metadata": {
      "image/png": {
       "height": 420,
       "width": 420
      }
     },
     "output_type": "display_data"
    }
   ],
   "source": [
    "plot(rf.boston$rsq, type='l', lwd=2, main = \"tree 개수에 따른 oob sample의 R square\")"
   ]
  },
  {
   "cell_type": "markdown",
   "id": "3eeea481",
   "metadata": {},
   "source": [
    "* IncNodePurity : 해당 노드에서 순수도 증가량 $\\to$ 회귀에서는 RSS"
   ]
  },
  {
   "cell_type": "markdown",
   "id": "6dc777df",
   "metadata": {},
   "source": [
    "* %incMSE : oob sample에 대한 MSE 증가량 "
   ]
  },
  {
   "cell_type": "markdown",
   "id": "8cd2505c",
   "metadata": {},
   "source": [
    "* 두 수치 전부 클수록 중요한 변수"
   ]
  },
  {
   "cell_type": "code",
   "execution_count": 68,
   "id": "10b25f74",
   "metadata": {},
   "outputs": [
    {
     "data": {
      "text/html": [
       "<table class=\"dataframe\">\n",
       "<caption>A matrix: 12 × 2 of type dbl</caption>\n",
       "<thead>\n",
       "\t<tr><th></th><th scope=col>%IncMSE</th><th scope=col>IncNodePurity</th></tr>\n",
       "</thead>\n",
       "<tbody>\n",
       "\t<tr><th scope=row>zn</th><td> 0.9674468</td><td> 155.3546</td></tr>\n",
       "\t<tr><th scope=row>indus</th><td> 4.3008534</td><td> 932.0667</td></tr>\n",
       "\t<tr><th scope=row>chas</th><td> 2.9736723</td><td> 372.1183</td></tr>\n",
       "\t<tr><th scope=row>nox</th><td> 9.3052974</td><td>1879.1228</td></tr>\n",
       "\t<tr><th scope=row>rm</th><td>37.3644011</td><td>6638.7398</td></tr>\n",
       "\t<tr><th scope=row>age</th><td> 1.7070941</td><td> 563.9708</td></tr>\n",
       "\t<tr><th scope=row>dis</th><td> 8.7043872</td><td>1453.4294</td></tr>\n",
       "\t<tr><th scope=row>rad</th><td> 1.3373895</td><td> 191.3632</td></tr>\n",
       "\t<tr><th scope=row>tax</th><td> 3.8467383</td><td> 704.0282</td></tr>\n",
       "\t<tr><th scope=row>ptratio</th><td> 5.8036452</td><td>1301.5738</td></tr>\n",
       "\t<tr><th scope=row>black</th><td> 1.0808407</td><td> 549.4985</td></tr>\n",
       "\t<tr><th scope=row>lstat</th><td>54.1087324</td><td>6478.5206</td></tr>\n",
       "</tbody>\n",
       "</table>\n"
      ],
      "text/latex": [
       "A matrix: 12 × 2 of type dbl\n",
       "\\begin{tabular}{r|ll}\n",
       "  & \\%IncMSE & IncNodePurity\\\\\n",
       "\\hline\n",
       "\tzn &  0.9674468 &  155.3546\\\\\n",
       "\tindus &  4.3008534 &  932.0667\\\\\n",
       "\tchas &  2.9736723 &  372.1183\\\\\n",
       "\tnox &  9.3052974 & 1879.1228\\\\\n",
       "\trm & 37.3644011 & 6638.7398\\\\\n",
       "\tage &  1.7070941 &  563.9708\\\\\n",
       "\tdis &  8.7043872 & 1453.4294\\\\\n",
       "\trad &  1.3373895 &  191.3632\\\\\n",
       "\ttax &  3.8467383 &  704.0282\\\\\n",
       "\tptratio &  5.8036452 & 1301.5738\\\\\n",
       "\tblack &  1.0808407 &  549.4985\\\\\n",
       "\tlstat & 54.1087324 & 6478.5206\\\\\n",
       "\\end{tabular}\n"
      ],
      "text/markdown": [
       "\n",
       "A matrix: 12 × 2 of type dbl\n",
       "\n",
       "| <!--/--> | %IncMSE | IncNodePurity |\n",
       "|---|---|---|\n",
       "| zn |  0.9674468 |  155.3546 |\n",
       "| indus |  4.3008534 |  932.0667 |\n",
       "| chas |  2.9736723 |  372.1183 |\n",
       "| nox |  9.3052974 | 1879.1228 |\n",
       "| rm | 37.3644011 | 6638.7398 |\n",
       "| age |  1.7070941 |  563.9708 |\n",
       "| dis |  8.7043872 | 1453.4294 |\n",
       "| rad |  1.3373895 |  191.3632 |\n",
       "| tax |  3.8467383 |  704.0282 |\n",
       "| ptratio |  5.8036452 | 1301.5738 |\n",
       "| black |  1.0808407 |  549.4985 |\n",
       "| lstat | 54.1087324 | 6478.5206 |\n",
       "\n"
      ],
      "text/plain": [
       "        %IncMSE    IncNodePurity\n",
       "zn       0.9674468  155.3546    \n",
       "indus    4.3008534  932.0667    \n",
       "chas     2.9736723  372.1183    \n",
       "nox      9.3052974 1879.1228    \n",
       "rm      37.3644011 6638.7398    \n",
       "age      1.7070941  563.9708    \n",
       "dis      8.7043872 1453.4294    \n",
       "rad      1.3373895  191.3632    \n",
       "tax      3.8467383  704.0282    \n",
       "ptratio  5.8036452 1301.5738    \n",
       "black    1.0808407  549.4985    \n",
       "lstat   54.1087324 6478.5206    "
      ]
     },
     "metadata": {},
     "output_type": "display_data"
    }
   ],
   "source": [
    "rf.boston$importance"
   ]
  },
  {
   "cell_type": "code",
   "execution_count": 69,
   "id": "cee8c016",
   "metadata": {},
   "outputs": [
    {
     "data": {
      "text/html": [
       "<style>\n",
       ".dl-inline {width: auto; margin:0; padding: 0}\n",
       ".dl-inline>dt, .dl-inline>dd {float: none; width: auto; display: inline-block}\n",
       ".dl-inline>dt::after {content: \":\\0020\"; padding-right: .5ex}\n",
       ".dl-inline>dt:not(:first-of-type) {padding-left: .5ex}\n",
       "</style><dl class=dl-inline><dt>zn</dt><dd>0.694329862910252</dd><dt>indus</dt><dd>0.986119419805129</dd><dt>chas</dt><dd>0.694885969673947</dd><dt>nox</dt><dd>1.0697941298143</dd><dt>rm</dt><dd>2.07293992540765</dd><dt>age</dt><dd>0.468706790498745</dd><dt>dis</dt><dd>0.885127811072486</dd><dt>rad</dt><dd>0.388507429703034</dd><dt>tax</dt><dd>0.667640467971253</dd><dt>ptratio</dt><dd>0.826551063811327</dd><dt>black</dt><dd>0.342822269254035</dd><dt>lstat</dt><dd>3.4464005481774</dd></dl>\n"
      ],
      "text/latex": [
       "\\begin{description*}\n",
       "\\item[zn] 0.694329862910252\n",
       "\\item[indus] 0.986119419805129\n",
       "\\item[chas] 0.694885969673947\n",
       "\\item[nox] 1.0697941298143\n",
       "\\item[rm] 2.07293992540765\n",
       "\\item[age] 0.468706790498745\n",
       "\\item[dis] 0.885127811072486\n",
       "\\item[rad] 0.388507429703034\n",
       "\\item[tax] 0.667640467971253\n",
       "\\item[ptratio] 0.826551063811327\n",
       "\\item[black] 0.342822269254035\n",
       "\\item[lstat] 3.4464005481774\n",
       "\\end{description*}\n"
      ],
      "text/markdown": [
       "zn\n",
       ":   0.694329862910252indus\n",
       ":   0.986119419805129chas\n",
       ":   0.694885969673947nox\n",
       ":   1.0697941298143rm\n",
       ":   2.07293992540765age\n",
       ":   0.468706790498745dis\n",
       ":   0.885127811072486rad\n",
       ":   0.388507429703034tax\n",
       ":   0.667640467971253ptratio\n",
       ":   0.826551063811327black\n",
       ":   0.342822269254035lstat\n",
       ":   3.4464005481774\n",
       "\n"
      ],
      "text/plain": [
       "       zn     indus      chas       nox        rm       age       dis       rad \n",
       "0.6943299 0.9861194 0.6948860 1.0697941 2.0729399 0.4687068 0.8851278 0.3885074 \n",
       "      tax   ptratio     black     lstat \n",
       "0.6676405 0.8265511 0.3428223 3.4464005 "
      ]
     },
     "metadata": {},
     "output_type": "display_data"
    }
   ],
   "source": [
    "rf.boston$importanceSD"
   ]
  },
  {
   "cell_type": "code",
   "execution_count": 71,
   "id": "b9e56418",
   "metadata": {},
   "outputs": [
    {
     "data": {
      "image/png": "[encoded data removed]",
      "text/plain": [
       "plot without title"
      ]
     },
     "metadata": {
      "image/png": {
       "height": 420,
       "width": 420
      }
     },
     "output_type": "display_data"
    }
   ],
   "source": [
    "varImpPlot(rf.boston, pch=16)"
   ]
  },
  {
   "cell_type": "markdown",
   "id": "e436c8e5",
   "metadata": {},
   "source": [
    "* oob.times : 200개의 트리 각각에서 선택된 oob sample"
   ]
  },
  {
   "cell_type": "code",
   "execution_count": 72,
   "id": "4d810bbc",
   "metadata": {},
   "outputs": [
    {
     "data": {
      "text/html": [
       "<style>\n",
       ".list-inline {list-style: none; margin:0; padding: 0}\n",
       ".list-inline>li {display: inline-block}\n",
       ".list-inline>li:not(:last-child)::after {content: \"\\00b7\"; padding: 0 .5ex}\n",
       "</style>\n",
       "<ol class=list-inline><li>75</li><li>62</li><li>71</li><li>70</li><li>87</li><li>77</li><li>78</li><li>78</li><li>80</li><li>82</li><li>73</li><li>82</li><li>71</li><li>64</li><li>71</li><li>83</li><li>77</li><li>65</li><li>65</li><li>73</li><li>80</li><li>66</li><li>81</li><li>65</li><li>59</li><li>83</li><li>76</li><li>77</li><li>75</li><li>85</li><li>57</li><li>69</li><li>67</li><li>81</li><li>65</li><li>68</li><li>73</li><li>83</li><li>80</li><li>61</li><li>72</li><li>64</li><li>80</li><li>64</li><li>63</li><li>75</li><li>74</li><li>68</li><li>69</li><li>74</li><li>83</li><li>72</li><li>75</li><li>71</li><li>75</li><li>75</li><li>63</li><li>77</li><li>91</li><li>84</li><li>75</li><li>61</li><li>66</li><li>74</li><li>72</li><li>73</li><li>75</li><li>64</li><li>69</li><li>79</li><li>78</li><li>75</li><li>73</li><li>76</li><li>72</li><li>68</li><li>69</li><li>80</li><li>66</li><li>69</li><li>79</li><li>80</li><li>71</li><li>81</li><li>85</li><li>80</li><li>76</li><li>70</li><li>73</li><li>80</li><li>68</li><li>76</li><li>81</li><li>61</li><li>68</li><li>66</li><li>59</li><li>80</li><li>71</li><li>77</li><li>75</li><li>84</li><li>78</li><li>59</li><li>77</li><li>77</li><li>62</li><li>82</li><li>83</li><li>72</li><li>66</li><li>74</li><li>72</li><li>72</li><li>63</li><li>74</li><li>71</li><li>69</li><li>73</li><li>88</li><li>73</li><li>77</li><li>92</li><li>75</li><li>71</li><li>81</li><li>66</li><li>80</li><li>79</li><li>82</li><li>78</li><li>71</li><li>76</li><li>80</li><li>67</li><li>69</li><li>77</li><li>86</li><li>72</li><li>73</li><li>62</li><li>78</li><li>60</li><li>71</li><li>63</li><li>73</li><li>66</li><li>65</li><li>67</li><li>77</li><li>65</li><li>78</li><li>66</li><li>73</li><li>63</li><li>74</li><li>61</li><li>68</li><li>69</li><li>58</li><li>75</li><li>68</li><li>69</li><li>79</li><li>66</li><li>73</li><li>78</li><li>75</li><li>82</li><li>74</li><li>68</li><li>74</li><li>66</li><li>81</li><li>74</li><li>63</li><li>74</li><li>63</li><li>70</li><li>73</li><li>67</li><li>63</li><li>75</li><li>64</li><li>74</li><li>68</li><li>82</li><li>68</li><li>77</li><li>74</li><li>67</li><li>72</li><li>79</li><li>67</li><li>80</li><li>75</li><li>68</li><li>77</li><li>66</li><li>75</li><li>79</li><li>69</li><li>86</li><li>68</li><li>79</li><li>80</li><li>80</li><li>72</li><li>90</li><li>76</li><li>71</li><li>72</li><li>68</li><li>66</li><li>62</li><li>79</li><li>73</li><li>82</li><li>87</li><li>71</li><li>86</li><li>79</li><li>69</li><li>76</li><li>80</li><li>75</li><li>66</li><li>74</li><li>68</li><li>74</li><li>74</li><li>63</li><li>70</li><li>75</li><li>70</li><li>65</li><li>79</li><li>71</li><li>75</li><li>72</li><li>67</li><li>74</li><li>85</li><li>65</li><li>75</li><li>79</li><li>66</li><li>81</li><li>64</li><li>70</li><li>78</li><li>71</li><li>69</li></ol>\n"
      ],
      "text/latex": [
       "\\begin{enumerate*}\n",
       "\\item 75\n",
       "\\item 62\n",
       "\\item 71\n",
       "\\item 70\n",
       "\\item 87\n",
       "\\item 77\n",
       "\\item 78\n",
       "\\item 78\n",
       "\\item 80\n",
       "\\item 82\n",
       "\\item 73\n",
       "\\item 82\n",
       "\\item 71\n",
       "\\item 64\n",
       "\\item 71\n",
       "\\item 83\n",
       "\\item 77\n",
       "\\item 65\n",
       "\\item 65\n",
       "\\item 73\n",
       "\\item 80\n",
       "\\item 66\n",
       "\\item 81\n",
       "\\item 65\n",
       "\\item 59\n",
       "\\item 83\n",
       "\\item 76\n",
       "\\item 77\n",
       "\\item 75\n",
       "\\item 85\n",
       "\\item 57\n",
       "\\item 69\n",
       "\\item 67\n",
       "\\item 81\n",
       "\\item 65\n",
       "\\item 68\n",
       "\\item 73\n",
       "\\item 83\n",
       "\\item 80\n",
       "\\item 61\n",
       "\\item 72\n",
       "\\item 64\n",
       "\\item 80\n",
       "\\item 64\n",
       "\\item 63\n",
       "\\item 75\n",
       "\\item 74\n",
       "\\item 68\n",
       "\\item 69\n",
       "\\item 74\n",
       "\\item 83\n",
       "\\item 72\n",
       "\\item 75\n",
       "\\item 71\n",
       "\\item 75\n",
       "\\item 75\n",
       "\\item 63\n",
       "\\item 77\n",
       "\\item 91\n",
       "\\item 84\n",
       "\\item 75\n",
       "\\item 61\n",
       "\\item 66\n",
       "\\item 74\n",
       "\\item 72\n",
       "\\item 73\n",
       "\\item 75\n",
       "\\item 64\n",
       "\\item 69\n",
       "\\item 79\n",
       "\\item 78\n",
       "\\item 75\n",
       "\\item 73\n",
       "\\item 76\n",
       "\\item 72\n",
       "\\item 68\n",
       "\\item 69\n",
       "\\item 80\n",
       "\\item 66\n",
       "\\item 69\n",
       "\\item 79\n",
       "\\item 80\n",
       "\\item 71\n",
       "\\item 81\n",
       "\\item 85\n",
       "\\item 80\n",
       "\\item 76\n",
       "\\item 70\n",
       "\\item 73\n",
       "\\item 80\n",
       "\\item 68\n",
       "\\item 76\n",
       "\\item 81\n",
       "\\item 61\n",
       "\\item 68\n",
       "\\item 66\n",
       "\\item 59\n",
       "\\item 80\n",
       "\\item 71\n",
       "\\item 77\n",
       "\\item 75\n",
       "\\item 84\n",
       "\\item 78\n",
       "\\item 59\n",
       "\\item 77\n",
       "\\item 77\n",
       "\\item 62\n",
       "\\item 82\n",
       "\\item 83\n",
       "\\item 72\n",
       "\\item 66\n",
       "\\item 74\n",
       "\\item 72\n",
       "\\item 72\n",
       "\\item 63\n",
       "\\item 74\n",
       "\\item 71\n",
       "\\item 69\n",
       "\\item 73\n",
       "\\item 88\n",
       "\\item 73\n",
       "\\item 77\n",
       "\\item 92\n",
       "\\item 75\n",
       "\\item 71\n",
       "\\item 81\n",
       "\\item 66\n",
       "\\item 80\n",
       "\\item 79\n",
       "\\item 82\n",
       "\\item 78\n",
       "\\item 71\n",
       "\\item 76\n",
       "\\item 80\n",
       "\\item 67\n",
       "\\item 69\n",
       "\\item 77\n",
       "\\item 86\n",
       "\\item 72\n",
       "\\item 73\n",
       "\\item 62\n",
       "\\item 78\n",
       "\\item 60\n",
       "\\item 71\n",
       "\\item 63\n",
       "\\item 73\n",
       "\\item 66\n",
       "\\item 65\n",
       "\\item 67\n",
       "\\item 77\n",
       "\\item 65\n",
       "\\item 78\n",
       "\\item 66\n",
       "\\item 73\n",
       "\\item 63\n",
       "\\item 74\n",
       "\\item 61\n",
       "\\item 68\n",
       "\\item 69\n",
       "\\item 58\n",
       "\\item 75\n",
       "\\item 68\n",
       "\\item 69\n",
       "\\item 79\n",
       "\\item 66\n",
       "\\item 73\n",
       "\\item 78\n",
       "\\item 75\n",
       "\\item 82\n",
       "\\item 74\n",
       "\\item 68\n",
       "\\item 74\n",
       "\\item 66\n",
       "\\item 81\n",
       "\\item 74\n",
       "\\item 63\n",
       "\\item 74\n",
       "\\item 63\n",
       "\\item 70\n",
       "\\item 73\n",
       "\\item 67\n",
       "\\item 63\n",
       "\\item 75\n",
       "\\item 64\n",
       "\\item 74\n",
       "\\item 68\n",
       "\\item 82\n",
       "\\item 68\n",
       "\\item 77\n",
       "\\item 74\n",
       "\\item 67\n",
       "\\item 72\n",
       "\\item 79\n",
       "\\item 67\n",
       "\\item 80\n",
       "\\item 75\n",
       "\\item 68\n",
       "\\item 77\n",
       "\\item 66\n",
       "\\item 75\n",
       "\\item 79\n",
       "\\item 69\n",
       "\\item 86\n",
       "\\item 68\n",
       "\\item 79\n",
       "\\item 80\n",
       "\\item 80\n",
       "\\item 72\n",
       "\\item 90\n",
       "\\item 76\n",
       "\\item 71\n",
       "\\item 72\n",
       "\\item 68\n",
       "\\item 66\n",
       "\\item 62\n",
       "\\item 79\n",
       "\\item 73\n",
       "\\item 82\n",
       "\\item 87\n",
       "\\item 71\n",
       "\\item 86\n",
       "\\item 79\n",
       "\\item 69\n",
       "\\item 76\n",
       "\\item 80\n",
       "\\item 75\n",
       "\\item 66\n",
       "\\item 74\n",
       "\\item 68\n",
       "\\item 74\n",
       "\\item 74\n",
       "\\item 63\n",
       "\\item 70\n",
       "\\item 75\n",
       "\\item 70\n",
       "\\item 65\n",
       "\\item 79\n",
       "\\item 71\n",
       "\\item 75\n",
       "\\item 72\n",
       "\\item 67\n",
       "\\item 74\n",
       "\\item 85\n",
       "\\item 65\n",
       "\\item 75\n",
       "\\item 79\n",
       "\\item 66\n",
       "\\item 81\n",
       "\\item 64\n",
       "\\item 70\n",
       "\\item 78\n",
       "\\item 71\n",
       "\\item 69\n",
       "\\end{enumerate*}\n"
      ],
      "text/markdown": [
       "1. 75\n",
       "2. 62\n",
       "3. 71\n",
       "4. 70\n",
       "5. 87\n",
       "6. 77\n",
       "7. 78\n",
       "8. 78\n",
       "9. 80\n",
       "10. 82\n",
       "11. 73\n",
       "12. 82\n",
       "13. 71\n",
       "14. 64\n",
       "15. 71\n",
       "16. 83\n",
       "17. 77\n",
       "18. 65\n",
       "19. 65\n",
       "20. 73\n",
       "21. 80\n",
       "22. 66\n",
       "23. 81\n",
       "24. 65\n",
       "25. 59\n",
       "26. 83\n",
       "27. 76\n",
       "28. 77\n",
       "29. 75\n",
       "30. 85\n",
       "31. 57\n",
       "32. 69\n",
       "33. 67\n",
       "34. 81\n",
       "35. 65\n",
       "36. 68\n",
       "37. 73\n",
       "38. 83\n",
       "39. 80\n",
       "40. 61\n",
       "41. 72\n",
       "42. 64\n",
       "43. 80\n",
       "44. 64\n",
       "45. 63\n",
       "46. 75\n",
       "47. 74\n",
       "48. 68\n",
       "49. 69\n",
       "50. 74\n",
       "51. 83\n",
       "52. 72\n",
       "53. 75\n",
       "54. 71\n",
       "55. 75\n",
       "56. 75\n",
       "57. 63\n",
       "58. 77\n",
       "59. 91\n",
       "60. 84\n",
       "61. 75\n",
       "62. 61\n",
       "63. 66\n",
       "64. 74\n",
       "65. 72\n",
       "66. 73\n",
       "67. 75\n",
       "68. 64\n",
       "69. 69\n",
       "70. 79\n",
       "71. 78\n",
       "72. 75\n",
       "73. 73\n",
       "74. 76\n",
       "75. 72\n",
       "76. 68\n",
       "77. 69\n",
       "78. 80\n",
       "79. 66\n",
       "80. 69\n",
       "81. 79\n",
       "82. 80\n",
       "83. 71\n",
       "84. 81\n",
       "85. 85\n",
       "86. 80\n",
       "87. 76\n",
       "88. 70\n",
       "89. 73\n",
       "90. 80\n",
       "91. 68\n",
       "92. 76\n",
       "93. 81\n",
       "94. 61\n",
       "95. 68\n",
       "96. 66\n",
       "97. 59\n",
       "98. 80\n",
       "99. 71\n",
       "100. 77\n",
       "101. 75\n",
       "102. 84\n",
       "103. 78\n",
       "104. 59\n",
       "105. 77\n",
       "106. 77\n",
       "107. 62\n",
       "108. 82\n",
       "109. 83\n",
       "110. 72\n",
       "111. 66\n",
       "112. 74\n",
       "113. 72\n",
       "114. 72\n",
       "115. 63\n",
       "116. 74\n",
       "117. 71\n",
       "118. 69\n",
       "119. 73\n",
       "120. 88\n",
       "121. 73\n",
       "122. 77\n",
       "123. 92\n",
       "124. 75\n",
       "125. 71\n",
       "126. 81\n",
       "127. 66\n",
       "128. 80\n",
       "129. 79\n",
       "130. 82\n",
       "131. 78\n",
       "132. 71\n",
       "133. 76\n",
       "134. 80\n",
       "135. 67\n",
       "136. 69\n",
       "137. 77\n",
       "138. 86\n",
       "139. 72\n",
       "140. 73\n",
       "141. 62\n",
       "142. 78\n",
       "143. 60\n",
       "144. 71\n",
       "145. 63\n",
       "146. 73\n",
       "147. 66\n",
       "148. 65\n",
       "149. 67\n",
       "150. 77\n",
       "151. 65\n",
       "152. 78\n",
       "153. 66\n",
       "154. 73\n",
       "155. 63\n",
       "156. 74\n",
       "157. 61\n",
       "158. 68\n",
       "159. 69\n",
       "160. 58\n",
       "161. 75\n",
       "162. 68\n",
       "163. 69\n",
       "164. 79\n",
       "165. 66\n",
       "166. 73\n",
       "167. 78\n",
       "168. 75\n",
       "169. 82\n",
       "170. 74\n",
       "171. 68\n",
       "172. 74\n",
       "173. 66\n",
       "174. 81\n",
       "175. 74\n",
       "176. 63\n",
       "177. 74\n",
       "178. 63\n",
       "179. 70\n",
       "180. 73\n",
       "181. 67\n",
       "182. 63\n",
       "183. 75\n",
       "184. 64\n",
       "185. 74\n",
       "186. 68\n",
       "187. 82\n",
       "188. 68\n",
       "189. 77\n",
       "190. 74\n",
       "191. 67\n",
       "192. 72\n",
       "193. 79\n",
       "194. 67\n",
       "195. 80\n",
       "196. 75\n",
       "197. 68\n",
       "198. 77\n",
       "199. 66\n",
       "200. 75\n",
       "201. 79\n",
       "202. 69\n",
       "203. 86\n",
       "204. 68\n",
       "205. 79\n",
       "206. 80\n",
       "207. 80\n",
       "208. 72\n",
       "209. 90\n",
       "210. 76\n",
       "211. 71\n",
       "212. 72\n",
       "213. 68\n",
       "214. 66\n",
       "215. 62\n",
       "216. 79\n",
       "217. 73\n",
       "218. 82\n",
       "219. 87\n",
       "220. 71\n",
       "221. 86\n",
       "222. 79\n",
       "223. 69\n",
       "224. 76\n",
       "225. 80\n",
       "226. 75\n",
       "227. 66\n",
       "228. 74\n",
       "229. 68\n",
       "230. 74\n",
       "231. 74\n",
       "232. 63\n",
       "233. 70\n",
       "234. 75\n",
       "235. 70\n",
       "236. 65\n",
       "237. 79\n",
       "238. 71\n",
       "239. 75\n",
       "240. 72\n",
       "241. 67\n",
       "242. 74\n",
       "243. 85\n",
       "244. 65\n",
       "245. 75\n",
       "246. 79\n",
       "247. 66\n",
       "248. 81\n",
       "249. 64\n",
       "250. 70\n",
       "251. 78\n",
       "252. 71\n",
       "253. 69\n",
       "\n",
       "\n"
      ],
      "text/plain": [
       "  [1] 75 62 71 70 87 77 78 78 80 82 73 82 71 64 71 83 77 65 65 73 80 66 81 65 59\n",
       " [26] 83 76 77 75 85 57 69 67 81 65 68 73 83 80 61 72 64 80 64 63 75 74 68 69 74\n",
       " [51] 83 72 75 71 75 75 63 77 91 84 75 61 66 74 72 73 75 64 69 79 78 75 73 76 72\n",
       " [76] 68 69 80 66 69 79 80 71 81 85 80 76 70 73 80 68 76 81 61 68 66 59 80 71 77\n",
       "[101] 75 84 78 59 77 77 62 82 83 72 66 74 72 72 63 74 71 69 73 88 73 77 92 75 71\n",
       "[126] 81 66 80 79 82 78 71 76 80 67 69 77 86 72 73 62 78 60 71 63 73 66 65 67 77\n",
       "[151] 65 78 66 73 63 74 61 68 69 58 75 68 69 79 66 73 78 75 82 74 68 74 66 81 74\n",
       "[176] 63 74 63 70 73 67 63 75 64 74 68 82 68 77 74 67 72 79 67 80 75 68 77 66 75\n",
       "[201] 79 69 86 68 79 80 80 72 90 76 71 72 68 66 62 79 73 82 87 71 86 79 69 76 80\n",
       "[226] 75 66 74 68 74 74 63 70 75 70 65 79 71 75 72 67 74 85 65 75 79 66 81 64 70\n",
       "[251] 78 71 69"
      ]
     },
     "metadata": {},
     "output_type": "display_data"
    }
   ],
   "source": [
    "rf.boston$oob.times"
   ]
  },
  {
   "cell_type": "code",
   "execution_count": 73,
   "id": "b4fd9982",
   "metadata": {},
   "outputs": [
    {
     "data": {
      "image/png": "[encoded data removed]",
      "text/plain": [
       "plot without title"
      ]
     },
     "metadata": {
      "image/png": {
       "height": 420,
       "width": 420
      }
     },
     "output_type": "display_data"
    }
   ],
   "source": [
    "par(mfrow=c(1,2))\n",
    "barplot(sort(importance(rf.boston)[,\"%IncMSE\"], decreasing = T), \n",
    "        horiz = T,las=1,\n",
    "        col='skyblue',\n",
    "        xlab = \"%IncMSE\")\n",
    "\n",
    "barplot(sort(importance(rf.boston)[,\"IncNodePurity\"], decreasing = T), \n",
    "        horiz = T,las=1,\n",
    "        col='skyblue',\n",
    "        xlab = \"IncNodePurity\")"
   ]
  },
  {
   "cell_type": "markdown",
   "id": "4f4d1c51",
   "metadata": {},
   "source": [
    "* 변수 개수에 따른 mse 산출"
   ]
  },
  {
   "cell_type": "code",
   "execution_count": 81,
   "id": "c00a70d2",
   "metadata": {},
   "outputs": [
    {
     "name": "stderr",
     "output_type": "stream",
     "text": [
      "Warning message in randomForest.default(m, y, ...):\n",
      "\"invalid mtry: reset to within valid range\"\n"
     ]
    }
   ],
   "source": [
    "bag.boston <- randomForest(medv ~ ., data = Boston_train, \n",
    "                           mtry = 13)"
   ]
  },
  {
   "cell_type": "code",
   "execution_count": 82,
   "id": "4714fb8a",
   "metadata": {},
   "outputs": [],
   "source": [
    "rf.boston <- randomForest(medv ~ ., \n",
    "                          data = Boston_train,\n",
    "                          mtry = 4, \n",
    "                          xtest=Boston_test[,-13], \n",
    "                          ytest=Boston_test$medv)"
   ]
  },
  {
   "cell_type": "code",
   "execution_count": 83,
   "id": "c42c9a2d",
   "metadata": {},
   "outputs": [],
   "source": [
    "mtry_rf <- function(m){\n",
    "  return(randomForest(medv ~ ., \n",
    "                      data = Boston_train,\n",
    "                      mtry = m)$mse)\n",
    "}"
   ]
  },
  {
   "cell_type": "code",
   "execution_count": 84,
   "id": "3022483b",
   "metadata": {},
   "outputs": [],
   "source": [
    "tmp_dt <- data.table( num_tree = 1:500,\n",
    "                      rf_1 = mtry_rf(1),\n",
    "                      rf_4 = rf.boston$mse,\n",
    "                      rf_8 = mtry_rf(8),\n",
    "                      rf_13 = bag.boston$mse,\n",
    "                      rf_test = rf.boston$test$mse  ## 변수가 4애일 때 test mse\n",
    "                    )"
   ]
  },
  {
   "cell_type": "code",
   "execution_count": 86,
   "id": "568886f4",
   "metadata": {},
   "outputs": [],
   "source": [
    "melt.tmp <- melt(tmp_dt, id=1)"
   ]
  },
  {
   "cell_type": "code",
   "execution_count": 87,
   "id": "f6c7b21c",
   "metadata": {},
   "outputs": [
    {
     "data": {
      "image/png": "[encoded data removed]",
      "text/plain": [
       "plot without title"
      ]
     },
     "metadata": {
      "image/png": {
       "height": 420,
       "width": 420
      }
     },
     "output_type": "display_data"
    }
   ],
   "source": [
    "ggplot(melt.tmp, aes(num_tree, value, col=variable)) + \n",
    "  geom_line(lwd=1) +\n",
    "  labs(y='MSE', col=\"\") + theme_bw()"
   ]
  },
  {
   "cell_type": "markdown",
   "id": "c362887e",
   "metadata": {},
   "source": [
    "***"
   ]
  },
  {
   "cell_type": "markdown",
   "id": "7d792eb4",
   "metadata": {},
   "source": [
    "### Boosting"
   ]
  },
  {
   "cell_type": "code",
   "execution_count": 92,
   "id": "8d2874d1",
   "metadata": {},
   "outputs": [
    {
     "data": {
      "text/plain": [
       "gbm(formula = medv ~ ., distribution = \"gaussian\", data = Boston_train, \n",
       "    n.trees = 500, interaction.depth = 1)\n",
       "A gradient boosted model with gaussian loss function.\n",
       "500 iterations were performed.\n",
       "There were 12 predictors of which 11 had non-zero influence."
      ]
     },
     "metadata": {},
     "output_type": "display_data"
    }
   ],
   "source": [
    "boosting_Boston<- gbm(medv~.,\n",
    "                      data=Boston_train,\n",
    "                      distribution=\"gaussian\", ##  회귀문제일 경우\n",
    "                      interaction.depth = 1,  ## tree의 depth\n",
    "                      n.trees=500)\n",
    "boosting_Boston"
   ]
  },
  {
   "cell_type": "markdown",
   "id": "42c96ada",
   "metadata": {},
   "source": [
    "* 12 predictors of which 11 had non-zero influence $\\to$ 12개의 변수 모두 중요한 변수이다."
   ]
  },
  {
   "cell_type": "markdown",
   "id": "71eeba85",
   "metadata": {},
   "source": [
    "* 변수 중요도 출력\n",
    "    * rel.inf : 상대적 변수 중요도"
   ]
  },
  {
   "cell_type": "code",
   "execution_count": 94,
   "id": "34f19169",
   "metadata": {},
   "outputs": [
    {
     "data": {
      "text/html": [
       "<table class=\"dataframe\">\n",
       "<caption>A data.frame: 12 × 2</caption>\n",
       "<thead>\n",
       "\t<tr><th></th><th scope=col>var</th><th scope=col>rel.inf</th></tr>\n",
       "\t<tr><th></th><th scope=col>&lt;chr&gt;</th><th scope=col>&lt;dbl&gt;</th></tr>\n",
       "</thead>\n",
       "<tbody>\n",
       "\t<tr><th scope=row>lstat</th><td>lstat  </td><td>37.2755807</td></tr>\n",
       "\t<tr><th scope=row>rm</th><td>rm     </td><td>33.6693770</td></tr>\n",
       "\t<tr><th scope=row>dis</th><td>dis    </td><td>10.0696331</td></tr>\n",
       "\t<tr><th scope=row>nox</th><td>nox    </td><td> 6.0473471</td></tr>\n",
       "\t<tr><th scope=row>age</th><td>age    </td><td> 2.9565208</td></tr>\n",
       "\t<tr><th scope=row>ptratio</th><td>ptratio</td><td> 2.7893943</td></tr>\n",
       "\t<tr><th scope=row>black</th><td>black  </td><td> 2.6728669</td></tr>\n",
       "\t<tr><th scope=row>chas</th><td>chas   </td><td> 1.8357763</td></tr>\n",
       "\t<tr><th scope=row>indus</th><td>indus  </td><td> 1.1517103</td></tr>\n",
       "\t<tr><th scope=row>tax</th><td>tax    </td><td> 1.0362397</td></tr>\n",
       "\t<tr><th scope=row>rad</th><td>rad    </td><td> 0.4955539</td></tr>\n",
       "\t<tr><th scope=row>zn</th><td>zn     </td><td> 0.0000000</td></tr>\n",
       "</tbody>\n",
       "</table>\n"
      ],
      "text/latex": [
       "A data.frame: 12 × 2\n",
       "\\begin{tabular}{r|ll}\n",
       "  & var & rel.inf\\\\\n",
       "  & <chr> & <dbl>\\\\\n",
       "\\hline\n",
       "\tlstat & lstat   & 37.2755807\\\\\n",
       "\trm & rm      & 33.6693770\\\\\n",
       "\tdis & dis     & 10.0696331\\\\\n",
       "\tnox & nox     &  6.0473471\\\\\n",
       "\tage & age     &  2.9565208\\\\\n",
       "\tptratio & ptratio &  2.7893943\\\\\n",
       "\tblack & black   &  2.6728669\\\\\n",
       "\tchas & chas    &  1.8357763\\\\\n",
       "\tindus & indus   &  1.1517103\\\\\n",
       "\ttax & tax     &  1.0362397\\\\\n",
       "\trad & rad     &  0.4955539\\\\\n",
       "\tzn & zn      &  0.0000000\\\\\n",
       "\\end{tabular}\n"
      ],
      "text/markdown": [
       "\n",
       "A data.frame: 12 × 2\n",
       "\n",
       "| <!--/--> | var &lt;chr&gt; | rel.inf &lt;dbl&gt; |\n",
       "|---|---|---|\n",
       "| lstat | lstat   | 37.2755807 |\n",
       "| rm | rm      | 33.6693770 |\n",
       "| dis | dis     | 10.0696331 |\n",
       "| nox | nox     |  6.0473471 |\n",
       "| age | age     |  2.9565208 |\n",
       "| ptratio | ptratio |  2.7893943 |\n",
       "| black | black   |  2.6728669 |\n",
       "| chas | chas    |  1.8357763 |\n",
       "| indus | indus   |  1.1517103 |\n",
       "| tax | tax     |  1.0362397 |\n",
       "| rad | rad     |  0.4955539 |\n",
       "| zn | zn      |  0.0000000 |\n",
       "\n"
      ],
      "text/plain": [
       "        var     rel.inf   \n",
       "lstat   lstat   37.2755807\n",
       "rm      rm      33.6693770\n",
       "dis     dis     10.0696331\n",
       "nox     nox      6.0473471\n",
       "age     age      2.9565208\n",
       "ptratio ptratio  2.7893943\n",
       "black   black    2.6728669\n",
       "chas    chas     1.8357763\n",
       "indus   indus    1.1517103\n",
       "tax     tax      1.0362397\n",
       "rad     rad      0.4955539\n",
       "zn      zn       0.0000000"
      ]
     },
     "metadata": {},
     "output_type": "display_data"
    },
    {
     "data": {
      "image/png": "[encoded data removed]",
      "text/plain": [
       "plot without title"
      ]
     },
     "metadata": {
      "image/png": {
       "height": 420,
       "width": 420
      }
     },
     "output_type": "display_data"
    }
   ],
   "source": [
    "summary(boosting_Boston)"
   ]
  },
  {
   "cell_type": "markdown",
   "id": "310d5c50",
   "metadata": {},
   "source": [
    "* rm 변수와 y의 관계"
   ]
  },
  {
   "cell_type": "code",
   "execution_count": 95,
   "id": "b8e822a3",
   "metadata": {},
   "outputs": [
    {
     "data": {
      "image/png": "[encoded data removed]",
      "text/plain": [
       "plot without title"
      ]
     },
     "metadata": {
      "image/png": {
       "height": 420,
       "width": 420
      }
     },
     "output_type": "display_data"
    }
   ],
   "source": [
    "plot(boosting_Boston, i = \"rm\")"
   ]
  },
  {
   "cell_type": "code",
   "execution_count": 96,
   "id": "aa25b224",
   "metadata": {},
   "outputs": [
    {
     "data": {
      "image/png": "[encoded data removed]",
      "text/plain": [
       "plot without title"
      ]
     },
     "metadata": {
      "image/png": {
       "height": 420,
       "width": 420
      }
     },
     "output_type": "display_data"
    }
   ],
   "source": [
    "plot(boosting_Boston, i = \"lstat\")"
   ]
  },
  {
   "cell_type": "markdown",
   "id": "e6212fff",
   "metadata": {},
   "source": [
    "* 예측"
   ]
  },
  {
   "cell_type": "code",
   "execution_count": 97,
   "id": "e409caad",
   "metadata": {},
   "outputs": [],
   "source": [
    "yhat.boost <- predict(boosting_Boston,\n",
    "                      newdata = Boston_test, n.trees = 500)"
   ]
  },
  {
   "cell_type": "code",
   "execution_count": 98,
   "id": "cb8a29d8",
   "metadata": {},
   "outputs": [
    {
     "data": {
      "image/png": "[encoded data removed]",
      "text/plain": [
       "plot without title"
      ]
     },
     "metadata": {
      "image/png": {
       "height": 420,
       "width": 420
      }
     },
     "output_type": "display_data"
    }
   ],
   "source": [
    "plot(Boston_test$medv, yhat.boost, pch=16)\n",
    "abline(a=0, b=1, col='blue')"
   ]
  },
  {
   "cell_type": "code",
   "execution_count": 99,
   "id": "00000293",
   "metadata": {},
   "outputs": [
    {
     "data": {
      "text/html": [
       "13.7155972065924"
      ],
      "text/latex": [
       "13.7155972065924"
      ],
      "text/markdown": [
       "13.7155972065924"
      ],
      "text/plain": [
       "[1] 13.7156"
      ]
     },
     "metadata": {},
     "output_type": "display_data"
    }
   ],
   "source": [
    "mean((yhat.boost - Boston_test$medv)^2)  ##Test MSE"
   ]
  },
  {
   "cell_type": "code",
   "execution_count": 102,
   "id": "90b90b6d",
   "metadata": {},
   "outputs": [
    {
     "data": {
      "image/png": "[encoded data removed]",
      "text/plain": [
       "Plot with title \"tree 개수에 따른 train error\""
      ]
     },
     "metadata": {
      "image/png": {
       "height": 420,
       "width": 420
      }
     },
     "output_type": "display_data"
    }
   ],
   "source": [
    "plot(boosting_Boston$train.error, type='l',main = \"tree 개수에 따른 train error\")"
   ]
  },
  {
   "cell_type": "code",
   "execution_count": 103,
   "id": "9a2d1695",
   "metadata": {},
   "outputs": [
    {
     "data": {
      "image/png": "[encoded data removed]",
      "text/plain": [
       "Plot with title \"tree 개수에 따른 oob error\""
      ]
     },
     "metadata": {
      "image/png": {
       "height": 420,
       "width": 420
      }
     },
     "output_type": "display_data"
    }
   ],
   "source": [
    "plot(boosting_Boston$oobag.improve,type='l', main= \"tree 개수에 따른 oob error\")"
   ]
  },
  {
   "cell_type": "markdown",
   "id": "827cf0e5",
   "metadata": {},
   "source": [
    "#### boosting with cv"
   ]
  },
  {
   "cell_type": "code",
   "execution_count": 105,
   "id": "906b3da5",
   "metadata": {},
   "outputs": [],
   "source": [
    "boosting_Boston<- gbm(medv~.,data=Boston_train,\n",
    "                      distribution=\"gaussian\",\n",
    "                      interaction.depth = 4,\n",
    "                      cv.folds = 10, ## 10-fold\n",
    "                      n.trees=500)"
   ]
  },
  {
   "cell_type": "markdown",
   "id": "e38e3108",
   "metadata": {},
   "source": [
    "* 파란색은 cv일 때 optimal 트리"
   ]
  },
  {
   "cell_type": "code",
   "execution_count": 106,
   "id": "69ac9907",
   "metadata": {},
   "outputs": [
    {
     "data": {
      "text/html": [
       "189"
      ],
      "text/latex": [
       "189"
      ],
      "text/markdown": [
       "189"
      ],
      "text/plain": [
       "[1] 189"
      ]
     },
     "metadata": {},
     "output_type": "display_data"
    },
    {
     "data": {
      "image/png": "[encoded data removed]",
      "text/plain": [
       "plot without title"
      ]
     },
     "metadata": {
      "image/png": {
       "height": 420,
       "width": 420
      }
     },
     "output_type": "display_data"
    }
   ],
   "source": [
    "gbm.perf(boosting_Boston, plot.it = TRUE, \n",
    "         oobag.curve = F, overlay = TRUE, method='cv')"
   ]
  },
  {
   "cell_type": "markdown",
   "id": "1976dfa8",
   "metadata": {},
   "source": [
    "* oob sample일 때 최적 트리 개수"
   ]
  },
  {
   "cell_type": "code",
   "execution_count": 108,
   "id": "434583b5",
   "metadata": {},
   "outputs": [
    {
     "name": "stderr",
     "output_type": "stream",
     "text": [
      "OOB generally underestimates the optimal number of iterations although predictive performance is reasonably competitive. Using cv_folds>1 when calling gbm usually results in improved predictive performance.\n",
      "\n"
     ]
    },
    {
     "data": {
      "text/html": [
       "25"
      ],
      "text/latex": [
       "25"
      ],
      "text/markdown": [
       "25"
      ],
      "text/plain": [
       "[1] 25\n",
       "attr(,\"smoother\")\n",
       "Call:\n",
       "loess(formula = object$oobag.improve ~ x, enp.target = min(max(4, \n",
       "    length(x)/10), 50))\n",
       "\n",
       "Number of Observations: 500 \n",
       "Equivalent Number of Parameters: 39.85 \n",
       "Residual Standard Error: 0.1638 "
      ]
     },
     "metadata": {},
     "output_type": "display_data"
    },
    {
     "data": {
      "image/png": "[encoded data removed]",
      "text/plain": [
       "plot without title"
      ]
     },
     "metadata": {
      "image/png": {
       "height": 420,
       "width": 420
      }
     },
     "output_type": "display_data"
    }
   ],
   "source": [
    "gbm.perf(boosting_Boston, plot.it = TRUE, \n",
    "         oobag.curve = F, overlay = TRUE, method='OOB')"
   ]
  },
  {
   "cell_type": "markdown",
   "id": "c9f465f6",
   "metadata": {},
   "source": [
    "* 깊이에 따른 변화관측"
   ]
  },
  {
   "cell_type": "code",
   "execution_count": 109,
   "id": "d427554b",
   "metadata": {},
   "outputs": [],
   "source": [
    "Boost_ID <- function(d){\n",
    "  \n",
    "  tmp_boost_model <- gbm(medv~.,data=Boston_train,\n",
    "                         distribution=\"gaussian\",\n",
    "                         interaction.depth = d,\n",
    "                         n.trees=100)\n",
    "  \n",
    "  return(tmp_boost_model$oobag.improve)\n",
    "  \n",
    "}"
   ]
  },
  {
   "cell_type": "code",
   "execution_count": 110,
   "id": "721fcbff",
   "metadata": {},
   "outputs": [
    {
     "data": {
      "image/png": "[encoded data removed]",
      "text/plain": [
       "plot without title"
      ]
     },
     "metadata": {
      "image/png": {
       "height": 420,
       "width": 420
      }
     },
     "output_type": "display_data"
    }
   ],
   "source": [
    "tmp_dt <- data.table( num_tree = 1:100,\n",
    "                      Boost_1 = Boost_ID(1),\n",
    "                      Boost_2 = Boost_ID(2),\n",
    "                      Boost_4 = Boost_ID(4),\n",
    "                      Boost_12 = Boost_ID(12)\n",
    "                      )\n",
    "\n",
    "melt.tmp <- melt(tmp_dt, id=1)\n",
    "\n",
    "ggplot(melt.tmp, aes(num_tree, value, col=variable)) + \n",
    "  geom_line(lwd=2) +\n",
    "  labs(y='oobag.improve', col=\"depth\")+ theme_bw()"
   ]
  },
  {
   "cell_type": "markdown",
   "id": "1704c9ac",
   "metadata": {},
   "source": [
    "* 결과를 보니 depth의 개수에 따라 변화가 미비하다 즉, depth를 1개만 해도 되겠당"
   ]
  },
  {
   "cell_type": "markdown",
   "id": "8975e8cc",
   "metadata": {},
   "source": [
    "***"
   ]
  }
 ],
 "metadata": {
  "kernelspec": {
   "display_name": "R",
   "language": "R",
   "name": "ir"
  },
  "language_info": {
   "codemirror_mode": "r",
   "file_extension": ".r",
   "mimetype": "text/x-r-source",
   "name": "R",
   "pygments_lexer": "r",
   "version": "4.1.3"
  },
  "toc": {
   "base_numbering": 1,
   "nav_menu": {},
   "number_sections": false,
   "sideBar": true,
   "skip_h1_title": false,
   "title_cell": "Table of Contents",
   "title_sidebar": "Contents",
   "toc_cell": false,
   "toc_position": {},
   "toc_section_display": true,
   "toc_window_display": true
  }
 },
 "nbformat": 4,
 "nbformat_minor": 5
}
