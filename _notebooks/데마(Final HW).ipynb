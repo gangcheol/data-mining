{
 "cells": [
  {
   "cell_type": "code",
   "execution_count": 40,
   "id": "813f4127",
   "metadata": {},
   "outputs": [
    {
     "name": "stderr",
     "output_type": "stream",
     "text": [
      "Warning message:\n",
      "\"패키지 'caret'는 R 버전 4.1.3에서 작성되었습니다\"\n"
     ]
    },
    {
     "ename": "ERROR",
     "evalue": "Error: package or namespace load failed for 'caret' in loadNamespace(j <- i[[1L]], c(lib.loc, .libPaths()), versionCheck = vI[[j]]):\n 'hardhat'이라고 불리는 패키지가 없습니다\n",
     "output_type": "error",
     "traceback": [
      "Error: package or namespace load failed for 'caret' in loadNamespace(j <- i[[1L]], c(lib.loc, .libPaths()), versionCheck = vI[[j]]):\n 'hardhat'이라고 불리는 패키지가 없습니다\nTraceback:\n",
      "1. library(caret)",
      "2. tryCatch({\n .     attr(package, \"LibPath\") <- which.lib.loc\n .     ns <- loadNamespace(package, lib.loc)\n .     env <- attachNamespace(ns, pos = pos, deps, exclude, include.only)\n . }, error = function(e) {\n .     P <- if (!is.null(cc <- conditionCall(e))) \n .         paste(\" in\", deparse(cc)[1L])\n .     else \"\"\n .     msg <- gettextf(\"package or namespace load failed for %s%s:\\n %s\", \n .         sQuote(package), P, conditionMessage(e))\n .     if (logical.return && !quietly) \n .         message(paste(\"Error:\", msg), domain = NA)\n .     else stop(msg, call. = FALSE, domain = NA)\n . })",
      "3. tryCatchList(expr, classes, parentenv, handlers)",
      "4. tryCatchOne(expr, names, parentenv, handlers[[1L]])",
      "5. value[[3L]](cond)",
      "6. stop(msg, call. = FALSE, domain = NA)"
     ]
    }
   ],
   "source": [
    "library(tidyverse)\n",
    "library(arules)\n",
    "library(rpart)\n",
    "library(rpart.plot)\n",
    "library(ipred)\n",
    "library(gbm)\n",
    "library(randomForest)\n",
    "library(caret)\n",
    "setwd(\"C:/Users/lee/Desktop/데이터마이닝특강/Final Project\")"
   ]
  },
  {
   "cell_type": "markdown",
   "id": "d61dccf7",
   "metadata": {},
   "source": [
    "# 1"
   ]
  },
  {
   "cell_type": "markdown",
   "id": "763e4f6a",
   "metadata": {},
   "source": [
    "## (a)"
   ]
  },
  {
   "cell_type": "code",
   "execution_count": 22,
   "id": "a818866d",
   "metadata": {},
   "outputs": [
    {
     "name": "stdout",
     "output_type": "stream",
     "text": [
      "    items                          transactionID\n",
      "[1] {income=$40,000+,                           \n",
      "     sex=male,                                  \n",
      "     marital status=married,                    \n",
      "     age=35+,                                   \n",
      "     education=college graduate,                \n",
      "     occupation=homemaker,                      \n",
      "     years in bay area=10+,                     \n",
      "     dual incomes=no,                           \n",
      "     number in household=2+,                    \n",
      "     number of children=1+,                     \n",
      "     householder status=own,                    \n",
      "     type of home=house,                        \n",
      "     ethnic classification=white,               \n",
      "     language in home=english}                 2\n"
     ]
    }
   ],
   "source": [
    "data(Income)\n",
    "inspect(Income[1])"
   ]
  },
  {
   "cell_type": "markdown",
   "id": "16fd5105",
   "metadata": {},
   "source": [
    "## (b)"
   ]
  },
  {
   "cell_type": "code",
   "execution_count": 23,
   "id": "302b9171",
   "metadata": {},
   "outputs": [
    {
     "name": "stdout",
     "output_type": "stream",
     "text": [
      "Formal class 'transactions' [package \"arules\"] with 3 slots\n",
      "  ..@ data       :Formal class 'ngCMatrix' [package \"Matrix\"] with 5 slots\n",
      "  ..@ itemInfo   :'data.frame':\t50 obs. of  3 variables:\n",
      "  .. ..$ labels   : chr [1:50] \"income=$0-$40,000\" \"income=$40,000+\" \"sex=male\" \"sex=female\" ...\n",
      "  .. ..$ variables: Factor w/ 14 levels \"age\",\"dual incomes\",..: 6 6 12 12 8 8 8 8 8 1 ...\n",
      "  .. ..$ levels   : Factor w/ 48 levels \"0\",\"$0-$40,000\",..: 2 10 28 22 29 16 19 47 42 6 ...\n",
      "  ..@ itemsetInfo:'data.frame':\t6876 obs. of  1 variable:\n",
      "  .. ..$ transactionID: chr [1:6876] \"2\" \"3\" \"4\" \"5\" ...\n"
     ]
    }
   ],
   "source": [
    "glimpse(Income)\n",
    "v <- tibble(unique(Income@itemInfo$variables))\n",
    "v <- v %>% mutate(col_index = 1:nrow(v)) %>% select(2,1)\n",
    "names(v)[2] <- \"variable\"\n",
    "write_excel_csv(v,\"1-b.csv\")"
   ]
  },
  {
   "cell_type": "markdown",
   "id": "de8e39d0",
   "metadata": {},
   "source": [
    "## (c)"
   ]
  },
  {
   "cell_type": "code",
   "execution_count": 24,
   "id": "79c97441",
   "metadata": {},
   "outputs": [
    {
     "data": {
      "image/png": "[encoded data removed]",
      "text/plain": [
       "Plot with title \"itemFrequecyPlot support > 0.2\""
      ]
     },
     "metadata": {
      "image/png": {
       "height": 420,
       "width": 420
      }
     },
     "output_type": "display_data"
    }
   ],
   "source": [
    "Income_4 <- Income[Income %in% \"income=$40,000+\"]\n",
    "itemFrequencyPlot(Income_4,support=0.2,topN=10,main=\"itemFrequecyPlot support > 0.2\")"
   ]
  },
  {
   "cell_type": "markdown",
   "id": "63a137dc",
   "metadata": {},
   "source": [
    "## (d)"
   ]
  },
  {
   "cell_type": "code",
   "execution_count": 25,
   "id": "fc635069",
   "metadata": {},
   "outputs": [
    {
     "name": "stdout",
     "output_type": "stream",
     "text": [
      "Apriori\n",
      "\n",
      "Parameter specification:\n",
      " confidence minval smax arem  aval originalSupport maxtime support minlen\n",
      "        0.8    0.1    1 none FALSE            TRUE       5     0.1      1\n",
      " maxlen target  ext\n",
      "     10  rules TRUE\n",
      "\n",
      "Algorithmic control:\n",
      " filter tree heap memopt load sort verbose\n",
      "    0.1 TRUE TRUE  FALSE TRUE    2    TRUE\n",
      "\n",
      "Absolute minimum support count: 259 \n",
      "\n",
      "set item appearances ...[0 item(s)] done [0.00s].\n",
      "set transactions ...[49 item(s), 2596 transaction(s)] done [0.00s].\n",
      "sorting and recoding items ... [26 item(s)] done [0.00s].\n",
      "creating transaction tree ... done [0.00s].\n",
      "checking subsets of size 1 2 3 4 5 6 7 8 9 10"
     ]
    },
    {
     "name": "stderr",
     "output_type": "stream",
     "text": [
      "Warning message in apriori(Income_4, parameter = list(support = 0.1, confidence = 0.8)):\n",
      "\"Mining stopped (maxlen reached). Only patterns up to a length of 10 returned!\"\n"
     ]
    },
    {
     "name": "stdout",
     "output_type": "stream",
     "text": [
      " done [0.02s].\n",
      "writing ... [29323 rule(s)] done [0.00s].\n",
      "creating S4 object  ... done [0.01s].\n"
     ]
    }
   ],
   "source": [
    "rules <- apriori(Income_4,parameter = list(support=0.1,\n",
    "                                           confidence=0.8))\n",
    "\n",
    "rules_1 <- subset(rules, \n",
    "                    subset = rhs %in% \"income=$40,000+\" & lift ==1)\n",
    "rules_1 <- subset(rules, \n",
    "                  subset = !(rhs %in% \"dual incomes=not married\"))"
   ]
  },
  {
   "cell_type": "code",
   "execution_count": 26,
   "id": "b5dc930f",
   "metadata": {},
   "outputs": [
    {
     "name": "stdout",
     "output_type": "stream",
     "text": [
      "    lhs                                              rhs                 support confidence  coverage lift count\n",
      "[1] {householder status=live with parents/family} => {income=$40,000+} 0.1009245          1 0.1009245    1   262\n",
      "[2] {type of home=apartment}                      => {income=$40,000+} 0.1359784          1 0.1359784    1   353\n",
      "[3] {dual incomes=no}                             => {income=$40,000+} 0.2014638          1 0.2014638    1   523\n",
      "[4] {marital status=single}                       => {income=$40,000+} 0.2087827          1 0.2087827    1   542\n",
      "[5] {householder status=rent}                     => {income=$40,000+} 0.2538521          1 0.2538521    1   659\n"
     ]
    },
    {
     "data": {
      "text/plain": [
       "NULL"
      ]
     },
     "metadata": {},
     "output_type": "display_data"
    }
   ],
   "source": [
    "top5 <- inspect(sort(rules_1,by=c(\"confidence\"),decreasing = T)[2:6])\n",
    "top5"
   ]
  },
  {
   "cell_type": "markdown",
   "id": "222e9833",
   "metadata": {},
   "source": [
    "***"
   ]
  },
  {
   "cell_type": "markdown",
   "id": "63be3989",
   "metadata": {},
   "source": [
    "# 2"
   ]
  },
  {
   "cell_type": "markdown",
   "id": "d7890e79",
   "metadata": {},
   "source": [
    "## (a)"
   ]
  },
  {
   "cell_type": "code",
   "execution_count": 28,
   "id": "a4563f11",
   "metadata": {},
   "outputs": [
    {
     "name": "stderr",
     "output_type": "stream",
     "text": [
      "\u001b[1mRows: \u001b[22m\u001b[34m10000\u001b[39m \u001b[1mColumns: \u001b[22m\u001b[34m21\u001b[39m\n",
      "\n",
      "\u001b[36m--\u001b[39m \u001b[1mColumn specification\u001b[22m \u001b[36m------------------------------------------------------------------------------------------------\u001b[39m\n",
      "\u001b[1mDelimiter:\u001b[22m \",\"\n",
      "\u001b[31mchr\u001b[39m  (1): DEFECT_TYPE\n",
      "\u001b[32mdbl\u001b[39m (20): ValueG, DIFF_BRG, ValueR, DEFECT_RBG, PKR.B, MinG, DEFECT_SIZE_Y, ...\n",
      "\n",
      "\n",
      "\u001b[36mi\u001b[39m Use \u001b[30m\u001b[47m\u001b[30m\u001b[47m`spec()`\u001b[47m\u001b[30m\u001b[49m\u001b[39m to retrieve the full column specification for this data.\n",
      "\u001b[36mi\u001b[39m Specify the column types or set \u001b[30m\u001b[47m\u001b[30m\u001b[47m`show_col_types = FALSE`\u001b[47m\u001b[30m\u001b[49m\u001b[39m to quiet this message.\n",
      "\n"
     ]
    }
   ],
   "source": [
    "set.seed(1234)\n",
    "data2 <- read_csv(\"sample_DT.csv\")\n",
    "#glimpse(data2)\n",
    "data2$DEFECT_TYPE <- as.factor(data2$DEFECT_TYPE)\n",
    "train <- data2 %>% sample_frac(0.7)\n",
    "test <- setdiff(data2,train)"
   ]
  },
  {
   "cell_type": "markdown",
   "id": "dc9c5502",
   "metadata": {},
   "source": [
    "## (b)"
   ]
  },
  {
   "cell_type": "code",
   "execution_count": 31,
   "id": "e30df1bb",
   "metadata": {},
   "outputs": [
    {
     "data": {
      "image/png": "[encoded data removed]",
      "text/plain": [
       "plot without title"
      ]
     },
     "metadata": {
      "image/png": {
       "height": 420,
       "width": 420
      }
     },
     "output_type": "display_data"
    }
   ],
   "source": [
    "tree.fit <- rpart(DEFECT_TYPE~.,  \n",
    "                  control = rpart.control(maxdepth=5,\n",
    "                                         minsplit=15),data=train)\n",
    "#tree.fit$cptable\n",
    "#rpart.plot(tree.fit)\n",
    "opt <- which.min(tree.fit$cptable[,\"xerror\"])\n",
    "cp  <- tree.fit$cptable[opt,\"CP\"]\n",
    "#plotcp(tree.fit)\n",
    "prune.c <- prune(tree.fit,cp=cp)\n",
    "rpart.plot(prune.c,extra=2)"
   ]
  },
  {
   "cell_type": "markdown",
   "id": "f022ced0",
   "metadata": {},
   "source": [
    "## (c)"
   ]
  },
  {
   "cell_type": "code",
   "execution_count": 32,
   "id": "74a52b24",
   "metadata": {},
   "outputs": [],
   "source": [
    "bagg.fit<- ipredbagg(train$DEFECT_TYPE, \n",
    "                     train[,-21],\n",
    "                     nbagg=1000, \n",
    "                     coob=T) "
   ]
  },
  {
   "cell_type": "markdown",
   "id": "4a5d0589",
   "metadata": {},
   "source": [
    "## (d)"
   ]
  },
  {
   "cell_type": "code",
   "execution_count": null,
   "id": "70257559",
   "metadata": {},
   "outputs": [],
   "source": [
    "train_1 <- train\n",
    "unique(train_1$DEFECT_TYPE)\n",
    "train_1$DEFECT_TYPE <- ifelse(train_1$DEFECT_TYPE==\"G\",1,0)\n",
    "\n",
    "test_1 <- test\n",
    "test_1$DEFECT_TYPE <- ifelse(test_1$DEFECT_TYPE==\"G\",1,0)\n",
    "\n",
    "\n",
    "boost.fit <- gbm(DEFECT_TYPE~.,\n",
    "                      data=train_1,\n",
    "                      distribution='bernoulli',\n",
    "                      interaction.depth = 5,\n",
    "                      n.trees=1000)"
   ]
  },
  {
   "cell_type": "markdown",
   "id": "360cbddb",
   "metadata": {},
   "source": [
    "## (e)"
   ]
  },
  {
   "cell_type": "code",
   "execution_count": 33,
   "id": "86826539",
   "metadata": {},
   "outputs": [],
   "source": [
    "rf.fit <- randomForest(DEFECT_TYPE ~.,\n",
    "                          data = train, ntree = 50,\n",
    "                          mtry = 6,\n",
    "                          importance=T)"
   ]
  },
  {
   "cell_type": "markdown",
   "id": "02115de9",
   "metadata": {},
   "source": [
    "## (f)"
   ]
  },
  {
   "cell_type": "code",
   "execution_count": null,
   "id": "5bb0332e",
   "metadata": {},
   "outputs": [],
   "source": []
  }
 ],
 "metadata": {
  "kernelspec": {
   "display_name": "R",
   "language": "R",
   "name": "ir"
  },
  "language_info": {
   "codemirror_mode": "r",
   "file_extension": ".r",
   "mimetype": "text/x-r-source",
   "name": "R",
   "pygments_lexer": "r",
   "version": "4.1.2"
  },
  "toc": {
   "base_numbering": 1,
   "nav_menu": {},
   "number_sections": false,
   "sideBar": true,
   "skip_h1_title": false,
   "title_cell": "Table of Contents",
   "title_sidebar": "Contents",
   "toc_cell": false,
   "toc_position": {},
   "toc_section_display": true,
   "toc_window_display": true
  }
 },
 "nbformat": 4,
 "nbformat_minor": 5
}
