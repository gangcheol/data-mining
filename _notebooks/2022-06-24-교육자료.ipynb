{
 "cells": [
  {
   "cell_type": "markdown",
   "id": "962e91d4",
   "metadata": {},
   "source": [
    "# 농업 데이터 정재/가공/분석/모델링 교육\n",
    "\n",
    "* toc : true\n",
    "* branch: master\n",
    "* badges: true\n",
    "* comments: true\n",
    "* author: 이강철\n",
    "* categories: [R]\n",
    "* published : true\n",
    "* hide : false"
   ]
  },
  {
   "cell_type": "markdown",
   "id": "4771b7dc",
   "metadata": {},
   "source": [
    "> youtube: https://www.youtube.com/playlist?list=PLXpKZhw37cVImM7bgCVQRjiom2Ae6T7Ei"
   ]
  },
  {
   "cell_type": "markdown",
   "id": "34406b12",
   "metadata": {},
   "source": [
    "## Introduction"
   ]
  },
  {
   "cell_type": "markdown",
   "id": "cb5f547d",
   "metadata": {},
   "source": [
    "* 이름 : 이강철"
   ]
  },
  {
   "cell_type": "markdown",
   "id": "00956be7",
   "metadata": {},
   "source": [
    "* 회사 및 직책 : (주)좋은정보기술 주임"
   ]
  },
  {
   "cell_type": "markdown",
   "id": "2c830896",
   "metadata": {},
   "source": [
    "* mail : rkdcjf8232@gmail.com"
   ]
  },
  {
   "cell_type": "markdown",
   "id": "a063c3b2",
   "metadata": {},
   "source": [
    "* 사용언어 : R"
   ]
  },
  {
   "cell_type": "markdown",
   "id": "1452c8d0",
   "metadata": {},
   "source": [
    "[R install](https://iamoverthemoon.tistory.com/64)"
   ]
  },
  {
   "cell_type": "markdown",
   "id": "9c3844f9",
   "metadata": {},
   "source": [
    "* 교육 자료 : R for data science, 논문, ISLR 등등"
   ]
  },
  {
   "cell_type": "markdown",
   "id": "407ad977",
   "metadata": {},
   "source": [
    "## 1. 데이터 전처리(tidyverse)"
   ]
  },
  {
   "cell_type": "markdown",
   "id": "ed37ae8c",
   "metadata": {},
   "source": [
    "* 데이터 전처리는 전체 분석 프로세스에서 가장 많은 시간이 소요되는 작업"
   ]
  },
  {
   "cell_type": "markdown",
   "id": "f566f95f",
   "metadata": {},
   "source": [
    "* 또한, 전처리 과정이 잘못 수행될 시에 분석 결과가 과대 또는 과소 해석으로 이루어질 수 있다."
   ]
  },
  {
   "cell_type": "markdown",
   "id": "6f0c023e",
   "metadata": {},
   "source": [
    "* 실제 분석에서는 R의 벡터, 리스트 형태가 아닌 `csv,xlsx` 등의 파일을 데이터프레임 형태로 읽어들여 분석을 수행하기 때문에 데이터 프레임의 초점을 둘 것임"
   ]
  },
  {
   "cell_type": "markdown",
   "id": "42fe36ea",
   "metadata": {},
   "source": [
    "왜 tidyverse냐?"
   ]
  },
  {
   "cell_type": "markdown",
   "id": "3460a14f",
   "metadata": {},
   "source": [
    "* tidyverse = dplyr + ggplot2 + $\\dots$"
   ]
  },
  {
   "cell_type": "markdown",
   "id": "e1a9d05b",
   "metadata": {},
   "source": [
    "* 또한, 데이터 로드 및 전처리 수행시 R의 기존 내장 함수들보다 빠른 속도를 제공한다."
   ]
  },
  {
   "cell_type": "markdown",
   "id": "2d7f3846",
   "metadata": {},
   "source": [
    "* pip(%>%) 연선자\n",
    "    * 단축키 :  ctrl + shift + m \n",
    "    * 위에 단축키를 사용시 데이터셋을 말로 이어말하듯 전처리가 가능하다."
   ]
  },
  {
   "cell_type": "markdown",
   "id": "426ea53e",
   "metadata": {},
   "source": [
    "`1`. 데이터 로드"
   ]
  },
  {
   "cell_type": "markdown",
   "id": "6d970eb0",
   "metadata": {},
   "source": [
    "* 데이터 출처 : [농산물유통정보 KAMIS](https://www.kamis.or.kr/customer/main/main.do)"
   ]
  },
  {
   "cell_type": "markdown",
   "id": "e6d0fb1d",
   "metadata": {},
   "source": [
    "* 해당 데이터는  2022년 1월 3일부터 2022년 6월 23일까지의 **\"토마토와 딸기 도매가격\"**"
   ]
  },
  {
   "cell_type": "markdown",
   "id": "8c38aaae",
   "metadata": {},
   "source": [
    "* 서울, 부산, 대구, 광주, 대전 지역의 도매가격이며 1kg당 단위 가격이다."
   ]
  },
  {
   "cell_type": "code",
   "execution_count": 92,
   "id": "5b2f474e",
   "metadata": {},
   "outputs": [],
   "source": [
    "#install.packages(\"tidyverse\")\n",
    "#install.packages(\"nycflights13\")  # if not installed yet\n",
    "\n",
    "library(tidyverse)"
   ]
  },
  {
   "cell_type": "code",
   "execution_count": 93,
   "id": "65c3ff51",
   "metadata": {},
   "outputs": [],
   "source": [
    "setwd(\"C:/Users/git/Desktop/업무/20220624(업무인수인계)\")"
   ]
  },
  {
   "cell_type": "code",
   "execution_count": 94,
   "id": "f5f59bb3",
   "metadata": {},
   "outputs": [
    {
     "name": "stderr",
     "output_type": "stream",
     "text": [
      "\u001b[1mRows: \u001b[22m\u001b[34m580\u001b[39m \u001b[1mColumns: \u001b[22m\u001b[34m4\u001b[39m\n",
      "\u001b[36m--\u001b[39m \u001b[1mColumn specification\u001b[22m \u001b[36m------------------------------------------------------------------------------------------------\u001b[39m\n",
      "\u001b[1mDelimiter:\u001b[22m \",\"\n",
      "\u001b[31mchr\u001b[39m (2): 지역, 날짜\n",
      "\u001b[32mdbl\u001b[39m (2): 토마토, 딸기\n",
      "\n",
      "\u001b[36mi\u001b[39m Use `spec()` to retrieve the full column specification for this data.\n",
      "\u001b[36mi\u001b[39m Specify the column types or set `show_col_types = FALSE` to quiet this message.\n"
     ]
    }
   ],
   "source": [
    "data <- read_csv(\"total.csv\")"
   ]
  },
  {
   "cell_type": "code",
   "execution_count": 95,
   "id": "7215b8d0",
   "metadata": {},
   "outputs": [
    {
     "data": {
      "text/html": [
       "<table class=\"dataframe\">\n",
       "<caption>A tibble: 6 × 4</caption>\n",
       "<thead>\n",
       "\t<tr><th scope=col>지역</th><th scope=col>날짜</th><th scope=col>토마토</th><th scope=col>딸기</th></tr>\n",
       "\t<tr><th scope=col>&lt;chr&gt;</th><th scope=col>&lt;chr&gt;</th><th scope=col>&lt;dbl&gt;</th><th scope=col>&lt;dbl&gt;</th></tr>\n",
       "</thead>\n",
       "<tbody>\n",
       "\t<tr><td>서울</td><td>01월 03일</td><td>4950</td><td>12375</td></tr>\n",
       "\t<tr><td>부산</td><td>01월 03일</td><td>4000</td><td>10000</td></tr>\n",
       "\t<tr><td>대구</td><td>01월 03일</td><td>4400</td><td>11000</td></tr>\n",
       "\t<tr><td>광주</td><td>01월 03일</td><td>4720</td><td>11800</td></tr>\n",
       "\t<tr><td>대전</td><td>01월 03일</td><td>4630</td><td>11575</td></tr>\n",
       "\t<tr><td>서울</td><td>01월 04일</td><td>4950</td><td>12375</td></tr>\n",
       "</tbody>\n",
       "</table>\n"
      ],
      "text/latex": [
       "A tibble: 6 × 4\n",
       "\\begin{tabular}{llll}\n",
       " 지역 & 날짜 & 토마토 & 딸기\\\\\n",
       " <chr> & <chr> & <dbl> & <dbl>\\\\\n",
       "\\hline\n",
       "\t 서울 & 01월 03일 & 4950 & 12375\\\\\n",
       "\t 부산 & 01월 03일 & 4000 & 10000\\\\\n",
       "\t 대구 & 01월 03일 & 4400 & 11000\\\\\n",
       "\t 광주 & 01월 03일 & 4720 & 11800\\\\\n",
       "\t 대전 & 01월 03일 & 4630 & 11575\\\\\n",
       "\t 서울 & 01월 04일 & 4950 & 12375\\\\\n",
       "\\end{tabular}\n"
      ],
      "text/markdown": [
       "\n",
       "A tibble: 6 × 4\n",
       "\n",
       "| 지역 &lt;chr&gt; | 날짜 &lt;chr&gt; | 토마토 &lt;dbl&gt; | 딸기 &lt;dbl&gt; |\n",
       "|---|---|---|---|\n",
       "| 서울 | 01월 03일 | 4950 | 12375 |\n",
       "| 부산 | 01월 03일 | 4000 | 10000 |\n",
       "| 대구 | 01월 03일 | 4400 | 11000 |\n",
       "| 광주 | 01월 03일 | 4720 | 11800 |\n",
       "| 대전 | 01월 03일 | 4630 | 11575 |\n",
       "| 서울 | 01월 04일 | 4950 | 12375 |\n",
       "\n"
      ],
      "text/plain": [
       "  지역 날짜      토마토 딸기 \n",
       "1 서울 01월 03일 4950   12375\n",
       "2 부산 01월 03일 4000   10000\n",
       "3 대구 01월 03일 4400   11000\n",
       "4 광주 01월 03일 4720   11800\n",
       "5 대전 01월 03일 4630   11575\n",
       "6 서울 01월 04일 4950   12375"
      ]
     },
     "metadata": {},
     "output_type": "display_data"
    }
   ],
   "source": [
    "head(data)"
   ]
  },
  {
   "cell_type": "markdown",
   "id": "165851b7",
   "metadata": {},
   "source": [
    "### select & fliter"
   ]
  },
  {
   "cell_type": "markdown",
   "id": "52e388b2",
   "metadata": {},
   "source": [
    "* select : 조건에 맞는 열 선택"
   ]
  },
  {
   "cell_type": "markdown",
   "id": "dc3317a2",
   "metadata": {},
   "source": [
    "* filter : 조건에 맞는 행을 선택"
   ]
  },
  {
   "cell_type": "markdown",
   "id": "35ff32d9",
   "metadata": {},
   "source": [
    "철수 : **\"난 지역별, 날짜별 토마토의 도매가격을 알고 싶어\"**"
   ]
  },
  {
   "cell_type": "code",
   "execution_count": 96,
   "id": "1e2c29ad",
   "metadata": {},
   "outputs": [
    {
     "data": {
      "text/html": [
       "<table class=\"dataframe\">\n",
       "<caption>A tibble: 6 × 3</caption>\n",
       "<thead>\n",
       "\t<tr><th scope=col>지역</th><th scope=col>날짜</th><th scope=col>토마토</th></tr>\n",
       "\t<tr><th scope=col>&lt;chr&gt;</th><th scope=col>&lt;chr&gt;</th><th scope=col>&lt;dbl&gt;</th></tr>\n",
       "</thead>\n",
       "<tbody>\n",
       "\t<tr><td>서울</td><td>01월 03일</td><td>4950</td></tr>\n",
       "\t<tr><td>부산</td><td>01월 03일</td><td>4000</td></tr>\n",
       "\t<tr><td>대구</td><td>01월 03일</td><td>4400</td></tr>\n",
       "\t<tr><td>광주</td><td>01월 03일</td><td>4720</td></tr>\n",
       "\t<tr><td>대전</td><td>01월 03일</td><td>4630</td></tr>\n",
       "\t<tr><td>서울</td><td>01월 04일</td><td>4950</td></tr>\n",
       "</tbody>\n",
       "</table>\n"
      ],
      "text/latex": [
       "A tibble: 6 × 3\n",
       "\\begin{tabular}{lll}\n",
       " 지역 & 날짜 & 토마토\\\\\n",
       " <chr> & <chr> & <dbl>\\\\\n",
       "\\hline\n",
       "\t 서울 & 01월 03일 & 4950\\\\\n",
       "\t 부산 & 01월 03일 & 4000\\\\\n",
       "\t 대구 & 01월 03일 & 4400\\\\\n",
       "\t 광주 & 01월 03일 & 4720\\\\\n",
       "\t 대전 & 01월 03일 & 4630\\\\\n",
       "\t 서울 & 01월 04일 & 4950\\\\\n",
       "\\end{tabular}\n"
      ],
      "text/markdown": [
       "\n",
       "A tibble: 6 × 3\n",
       "\n",
       "| 지역 &lt;chr&gt; | 날짜 &lt;chr&gt; | 토마토 &lt;dbl&gt; |\n",
       "|---|---|---|\n",
       "| 서울 | 01월 03일 | 4950 |\n",
       "| 부산 | 01월 03일 | 4000 |\n",
       "| 대구 | 01월 03일 | 4400 |\n",
       "| 광주 | 01월 03일 | 4720 |\n",
       "| 대전 | 01월 03일 | 4630 |\n",
       "| 서울 | 01월 04일 | 4950 |\n",
       "\n"
      ],
      "text/plain": [
       "  지역 날짜      토마토\n",
       "1 서울 01월 03일 4950  \n",
       "2 부산 01월 03일 4000  \n",
       "3 대구 01월 03일 4400  \n",
       "4 광주 01월 03일 4720  \n",
       "5 대전 01월 03일 4630  \n",
       "6 서울 01월 04일 4950  "
      ]
     },
     "metadata": {},
     "output_type": "display_data"
    }
   ],
   "source": [
    "data %>% \n",
    "    select(지역, 날짜, 토마토) %>% head()"
   ]
  },
  {
   "cell_type": "markdown",
   "id": "61b4bef4",
   "metadata": {},
   "source": [
    "영희 : **\"근데 서울의 인구수가 많으니까 서울 지역을 대표로 선택해서 보는 건 어때?\"**"
   ]
  },
  {
   "cell_type": "code",
   "execution_count": 16,
   "id": "ded65959",
   "metadata": {},
   "outputs": [
    {
     "data": {
      "text/html": [
       "<table class=\"dataframe\">\n",
       "<caption>A tibble: 6 × 3</caption>\n",
       "<thead>\n",
       "\t<tr><th scope=col>지역</th><th scope=col>날짜</th><th scope=col>토마토</th></tr>\n",
       "\t<tr><th scope=col>&lt;chr&gt;</th><th scope=col>&lt;chr&gt;</th><th scope=col>&lt;dbl&gt;</th></tr>\n",
       "</thead>\n",
       "<tbody>\n",
       "\t<tr><td>서울</td><td>01월 03일</td><td>24750</td></tr>\n",
       "\t<tr><td>서울</td><td>01월 04일</td><td>24750</td></tr>\n",
       "\t<tr><td>서울</td><td>01월 05일</td><td>24750</td></tr>\n",
       "\t<tr><td>서울</td><td>01월 06일</td><td>24750</td></tr>\n",
       "\t<tr><td>서울</td><td>01월 07일</td><td>22850</td></tr>\n",
       "\t<tr><td>서울</td><td>01월 10일</td><td>20100</td></tr>\n",
       "</tbody>\n",
       "</table>\n"
      ],
      "text/latex": [
       "A tibble: 6 × 3\n",
       "\\begin{tabular}{lll}\n",
       " 지역 & 날짜 & 토마토\\\\\n",
       " <chr> & <chr> & <dbl>\\\\\n",
       "\\hline\n",
       "\t 서울 & 01월 03일 & 24750\\\\\n",
       "\t 서울 & 01월 04일 & 24750\\\\\n",
       "\t 서울 & 01월 05일 & 24750\\\\\n",
       "\t 서울 & 01월 06일 & 24750\\\\\n",
       "\t 서울 & 01월 07일 & 22850\\\\\n",
       "\t 서울 & 01월 10일 & 20100\\\\\n",
       "\\end{tabular}\n"
      ],
      "text/markdown": [
       "\n",
       "A tibble: 6 × 3\n",
       "\n",
       "| 지역 &lt;chr&gt; | 날짜 &lt;chr&gt; | 토마토 &lt;dbl&gt; |\n",
       "|---|---|---|\n",
       "| 서울 | 01월 03일 | 24750 |\n",
       "| 서울 | 01월 04일 | 24750 |\n",
       "| 서울 | 01월 05일 | 24750 |\n",
       "| 서울 | 01월 06일 | 24750 |\n",
       "| 서울 | 01월 07일 | 22850 |\n",
       "| 서울 | 01월 10일 | 20100 |\n",
       "\n"
      ],
      "text/plain": [
       "  지역 날짜      토마토\n",
       "1 서울 01월 03일 24750 \n",
       "2 서울 01월 04일 24750 \n",
       "3 서울 01월 05일 24750 \n",
       "4 서울 01월 06일 24750 \n",
       "5 서울 01월 07일 22850 \n",
       "6 서울 01월 10일 20100 "
      ]
     },
     "metadata": {},
     "output_type": "display_data"
    }
   ],
   "source": [
    "data %>% \n",
    "    select(지역, 날짜, 토마토) %>% \n",
    "                            filter(지역==\"서울\") %>% head()"
   ]
  },
  {
   "cell_type": "markdown",
   "id": "893bdfbe",
   "metadata": {},
   "source": [
    "### mutate"
   ]
  },
  {
   "cell_type": "markdown",
   "id": "ba347df6",
   "metadata": {},
   "source": [
    "`-` 수식이나 문자표현식을 이용해 새로운 변수를 만드는 함수"
   ]
  },
  {
   "cell_type": "markdown",
   "id": "84306052",
   "metadata": {},
   "source": [
    "> example 1 : (토마토 + 딸기) $\\div$ 2$\\quad\\to\\quad $ 평균가격 변수 생성"
   ]
  },
  {
   "cell_type": "code",
   "execution_count": 97,
   "id": "64dd41a9",
   "metadata": {},
   "outputs": [
    {
     "data": {
      "text/html": [
       "<table class=\"dataframe\">\n",
       "<caption>A tibble: 6 × 5</caption>\n",
       "<thead>\n",
       "\t<tr><th scope=col>지역</th><th scope=col>날짜</th><th scope=col>토마토</th><th scope=col>딸기</th><th scope=col>평균가격</th></tr>\n",
       "\t<tr><th scope=col>&lt;chr&gt;</th><th scope=col>&lt;chr&gt;</th><th scope=col>&lt;dbl&gt;</th><th scope=col>&lt;dbl&gt;</th><th scope=col>&lt;dbl&gt;</th></tr>\n",
       "</thead>\n",
       "<tbody>\n",
       "\t<tr><td>서울</td><td>01월 03일</td><td>4950</td><td>12375</td><td>8662.5</td></tr>\n",
       "\t<tr><td>부산</td><td>01월 03일</td><td>4000</td><td>10000</td><td>7000.0</td></tr>\n",
       "\t<tr><td>대구</td><td>01월 03일</td><td>4400</td><td>11000</td><td>7700.0</td></tr>\n",
       "\t<tr><td>광주</td><td>01월 03일</td><td>4720</td><td>11800</td><td>8260.0</td></tr>\n",
       "\t<tr><td>대전</td><td>01월 03일</td><td>4630</td><td>11575</td><td>8102.5</td></tr>\n",
       "\t<tr><td>서울</td><td>01월 04일</td><td>4950</td><td>12375</td><td>8662.5</td></tr>\n",
       "</tbody>\n",
       "</table>\n"
      ],
      "text/latex": [
       "A tibble: 6 × 5\n",
       "\\begin{tabular}{lllll}\n",
       " 지역 & 날짜 & 토마토 & 딸기 & 평균가격\\\\\n",
       " <chr> & <chr> & <dbl> & <dbl> & <dbl>\\\\\n",
       "\\hline\n",
       "\t 서울 & 01월 03일 & 4950 & 12375 & 8662.5\\\\\n",
       "\t 부산 & 01월 03일 & 4000 & 10000 & 7000.0\\\\\n",
       "\t 대구 & 01월 03일 & 4400 & 11000 & 7700.0\\\\\n",
       "\t 광주 & 01월 03일 & 4720 & 11800 & 8260.0\\\\\n",
       "\t 대전 & 01월 03일 & 4630 & 11575 & 8102.5\\\\\n",
       "\t 서울 & 01월 04일 & 4950 & 12375 & 8662.5\\\\\n",
       "\\end{tabular}\n"
      ],
      "text/markdown": [
       "\n",
       "A tibble: 6 × 5\n",
       "\n",
       "| 지역 &lt;chr&gt; | 날짜 &lt;chr&gt; | 토마토 &lt;dbl&gt; | 딸기 &lt;dbl&gt; | 평균가격 &lt;dbl&gt; |\n",
       "|---|---|---|---|---|\n",
       "| 서울 | 01월 03일 | 4950 | 12375 | 8662.5 |\n",
       "| 부산 | 01월 03일 | 4000 | 10000 | 7000.0 |\n",
       "| 대구 | 01월 03일 | 4400 | 11000 | 7700.0 |\n",
       "| 광주 | 01월 03일 | 4720 | 11800 | 8260.0 |\n",
       "| 대전 | 01월 03일 | 4630 | 11575 | 8102.5 |\n",
       "| 서울 | 01월 04일 | 4950 | 12375 | 8662.5 |\n",
       "\n"
      ],
      "text/plain": [
       "  지역 날짜      토마토 딸기  평균가격\n",
       "1 서울 01월 03일 4950   12375 8662.5  \n",
       "2 부산 01월 03일 4000   10000 7000.0  \n",
       "3 대구 01월 03일 4400   11000 7700.0  \n",
       "4 광주 01월 03일 4720   11800 8260.0  \n",
       "5 대전 01월 03일 4630   11575 8102.5  \n",
       "6 서울 01월 04일 4950   12375 8662.5  "
      ]
     },
     "metadata": {},
     "output_type": "display_data"
    }
   ],
   "source": [
    "data %>% \n",
    "    mutate(평균가격 =(토마토 + 딸기) / 2 ) %>% head()"
   ]
  },
  {
   "cell_type": "markdown",
   "id": "f9e364d6",
   "metadata": {},
   "source": [
    "### groupyby + summarize"
   ]
  },
  {
   "cell_type": "markdown",
   "id": "c6831782",
   "metadata": {},
   "source": [
    "* 데이터의 그룹별 요약 통계량을 통해 그룹별 데이터의 형태를 파악할 수 있다."
   ]
  },
  {
   "cell_type": "markdown",
   "id": "2c008be9",
   "metadata": {},
   "source": [
    "* 현재 `iris` 데이터의 경우 총 3가지의 종으로 나누어져 있다."
   ]
  },
  {
   "cell_type": "markdown",
   "id": "ba33a0ed",
   "metadata": {},
   "source": [
    "`1` 각 그룹별 빈도수 세기"
   ]
  },
  {
   "cell_type": "code",
   "execution_count": 98,
   "id": "5349e491",
   "metadata": {},
   "outputs": [
    {
     "data": {
      "text/html": [
       "<table class=\"dataframe\">\n",
       "<caption>A grouped_df: 5 × 2</caption>\n",
       "<thead>\n",
       "\t<tr><th scope=col>지역</th><th scope=col>n</th></tr>\n",
       "\t<tr><th scope=col>&lt;chr&gt;</th><th scope=col>&lt;int&gt;</th></tr>\n",
       "</thead>\n",
       "<tbody>\n",
       "\t<tr><td>광주</td><td>116</td></tr>\n",
       "\t<tr><td>대구</td><td>116</td></tr>\n",
       "\t<tr><td>대전</td><td>116</td></tr>\n",
       "\t<tr><td>부산</td><td>116</td></tr>\n",
       "\t<tr><td>서울</td><td>116</td></tr>\n",
       "</tbody>\n",
       "</table>\n"
      ],
      "text/latex": [
       "A grouped\\_df: 5 × 2\n",
       "\\begin{tabular}{ll}\n",
       " 지역 & n\\\\\n",
       " <chr> & <int>\\\\\n",
       "\\hline\n",
       "\t 광주 & 116\\\\\n",
       "\t 대구 & 116\\\\\n",
       "\t 대전 & 116\\\\\n",
       "\t 부산 & 116\\\\\n",
       "\t 서울 & 116\\\\\n",
       "\\end{tabular}\n"
      ],
      "text/markdown": [
       "\n",
       "A grouped_df: 5 × 2\n",
       "\n",
       "| 지역 &lt;chr&gt; | n &lt;int&gt; |\n",
       "|---|---|\n",
       "| 광주 | 116 |\n",
       "| 대구 | 116 |\n",
       "| 대전 | 116 |\n",
       "| 부산 | 116 |\n",
       "| 서울 | 116 |\n",
       "\n"
      ],
      "text/plain": [
       "  지역 n  \n",
       "1 광주 116\n",
       "2 대구 116\n",
       "3 대전 116\n",
       "4 부산 116\n",
       "5 서울 116"
      ]
     },
     "metadata": {},
     "output_type": "display_data"
    }
   ],
   "source": [
    "data %>% \n",
    "        group_by(지역) %>% count()"
   ]
  },
  {
   "cell_type": "markdown",
   "id": "6f0adb62",
   "metadata": {},
   "source": [
    "`2` 각 지역별 토마토와 채소 평균가격 산출"
   ]
  },
  {
   "cell_type": "code",
   "execution_count": 99,
   "id": "92cc4d46",
   "metadata": {},
   "outputs": [
    {
     "data": {
      "text/html": [
       "<table class=\"dataframe\">\n",
       "<caption>A tibble: 5 × 3</caption>\n",
       "<thead>\n",
       "\t<tr><th scope=col>지역</th><th scope=col>mean_tomato</th><th scope=col>mean_strawberry</th></tr>\n",
       "\t<tr><th scope=col>&lt;chr&gt;</th><th scope=col>&lt;dbl&gt;</th><th scope=col>&lt;dbl&gt;</th></tr>\n",
       "</thead>\n",
       "<tbody>\n",
       "\t<tr><td>광주</td><td>3285.000</td><td>8212.500</td></tr>\n",
       "\t<tr><td>대구</td><td>3370.690</td><td>8426.724</td></tr>\n",
       "\t<tr><td>대전</td><td>3386.810</td><td>8467.026</td></tr>\n",
       "\t<tr><td>부산</td><td>3189.310</td><td>7973.276</td></tr>\n",
       "\t<tr><td>서울</td><td>3240.603</td><td>8101.509</td></tr>\n",
       "</tbody>\n",
       "</table>\n"
      ],
      "text/latex": [
       "A tibble: 5 × 3\n",
       "\\begin{tabular}{lll}\n",
       " 지역 & mean\\_tomato & mean\\_strawberry\\\\\n",
       " <chr> & <dbl> & <dbl>\\\\\n",
       "\\hline\n",
       "\t 광주 & 3285.000 & 8212.500\\\\\n",
       "\t 대구 & 3370.690 & 8426.724\\\\\n",
       "\t 대전 & 3386.810 & 8467.026\\\\\n",
       "\t 부산 & 3189.310 & 7973.276\\\\\n",
       "\t 서울 & 3240.603 & 8101.509\\\\\n",
       "\\end{tabular}\n"
      ],
      "text/markdown": [
       "\n",
       "A tibble: 5 × 3\n",
       "\n",
       "| 지역 &lt;chr&gt; | mean_tomato &lt;dbl&gt; | mean_strawberry &lt;dbl&gt; |\n",
       "|---|---|---|\n",
       "| 광주 | 3285.000 | 8212.500 |\n",
       "| 대구 | 3370.690 | 8426.724 |\n",
       "| 대전 | 3386.810 | 8467.026 |\n",
       "| 부산 | 3189.310 | 7973.276 |\n",
       "| 서울 | 3240.603 | 8101.509 |\n",
       "\n"
      ],
      "text/plain": [
       "  지역 mean_tomato mean_strawberry\n",
       "1 광주 3285.000    8212.500       \n",
       "2 대구 3370.690    8426.724       \n",
       "3 대전 3386.810    8467.026       \n",
       "4 부산 3189.310    7973.276       \n",
       "5 서울 3240.603    8101.509       "
      ]
     },
     "metadata": {},
     "output_type": "display_data"
    }
   ],
   "source": [
    "data %>% group_by(지역) %>% \n",
    "                    summarize(mean_tomato = mean(토마토),\n",
    "                              mean_strawberry = mean(딸기))"
   ]
  },
  {
   "cell_type": "markdown",
   "id": "4e94b4e4",
   "metadata": {},
   "source": [
    "### Join"
   ]
  },
  {
   "cell_type": "markdown",
   "id": "c770b47b",
   "metadata": {},
   "source": [
    "* 보통의 데이터는 한 가지의 데이터 프레임이 아닌 다수의 데이터 프레임을 결합하여 형성한다."
   ]
  },
  {
   "cell_type": "markdown",
   "id": "434427dc",
   "metadata": {},
   "source": [
    "* 이러한 것을 데이터 프레임들을 **\"join\"** 한다고 하며 이 경우 각 데이터 프레임의 `key` 값을 이용한다."
   ]
  },
  {
   "cell_type": "code",
   "execution_count": 100,
   "id": "b794d5c1",
   "metadata": {},
   "outputs": [],
   "source": [
    "data1 <- data %>% select(1,2,3)\n",
    "names(data1)[1:2] <- c(\"지역1\",\"날짜1\")\n",
    "data2 <- data %>% select(1,2,4)\n",
    "names(data2)[1:2] <- c(\"지역2\",\"날짜2\")"
   ]
  },
  {
   "cell_type": "code",
   "execution_count": 101,
   "id": "55543074",
   "metadata": {},
   "outputs": [
    {
     "data": {
      "text/html": [
       "<table class=\"dataframe\">\n",
       "<caption>A tibble: 6 × 3</caption>\n",
       "<thead>\n",
       "\t<tr><th scope=col>지역1</th><th scope=col>날짜1</th><th scope=col>토마토</th></tr>\n",
       "\t<tr><th scope=col>&lt;chr&gt;</th><th scope=col>&lt;chr&gt;</th><th scope=col>&lt;dbl&gt;</th></tr>\n",
       "</thead>\n",
       "<tbody>\n",
       "\t<tr><td>서울</td><td>01월 03일</td><td>4950</td></tr>\n",
       "\t<tr><td>부산</td><td>01월 03일</td><td>4000</td></tr>\n",
       "\t<tr><td>대구</td><td>01월 03일</td><td>4400</td></tr>\n",
       "\t<tr><td>광주</td><td>01월 03일</td><td>4720</td></tr>\n",
       "\t<tr><td>대전</td><td>01월 03일</td><td>4630</td></tr>\n",
       "\t<tr><td>서울</td><td>01월 04일</td><td>4950</td></tr>\n",
       "</tbody>\n",
       "</table>\n"
      ],
      "text/latex": [
       "A tibble: 6 × 3\n",
       "\\begin{tabular}{lll}\n",
       " 지역1 & 날짜1 & 토마토\\\\\n",
       " <chr> & <chr> & <dbl>\\\\\n",
       "\\hline\n",
       "\t 서울 & 01월 03일 & 4950\\\\\n",
       "\t 부산 & 01월 03일 & 4000\\\\\n",
       "\t 대구 & 01월 03일 & 4400\\\\\n",
       "\t 광주 & 01월 03일 & 4720\\\\\n",
       "\t 대전 & 01월 03일 & 4630\\\\\n",
       "\t 서울 & 01월 04일 & 4950\\\\\n",
       "\\end{tabular}\n"
      ],
      "text/markdown": [
       "\n",
       "A tibble: 6 × 3\n",
       "\n",
       "| 지역1 &lt;chr&gt; | 날짜1 &lt;chr&gt; | 토마토 &lt;dbl&gt; |\n",
       "|---|---|---|\n",
       "| 서울 | 01월 03일 | 4950 |\n",
       "| 부산 | 01월 03일 | 4000 |\n",
       "| 대구 | 01월 03일 | 4400 |\n",
       "| 광주 | 01월 03일 | 4720 |\n",
       "| 대전 | 01월 03일 | 4630 |\n",
       "| 서울 | 01월 04일 | 4950 |\n",
       "\n"
      ],
      "text/plain": [
       "  지역1 날짜1     토마토\n",
       "1 서울  01월 03일 4950  \n",
       "2 부산  01월 03일 4000  \n",
       "3 대구  01월 03일 4400  \n",
       "4 광주  01월 03일 4720  \n",
       "5 대전  01월 03일 4630  \n",
       "6 서울  01월 04일 4950  "
      ]
     },
     "metadata": {},
     "output_type": "display_data"
    }
   ],
   "source": [
    "head(data1)"
   ]
  },
  {
   "cell_type": "code",
   "execution_count": 102,
   "id": "f2b4c6b2",
   "metadata": {},
   "outputs": [
    {
     "data": {
      "text/html": [
       "<table class=\"dataframe\">\n",
       "<caption>A tibble: 6 × 3</caption>\n",
       "<thead>\n",
       "\t<tr><th scope=col>지역2</th><th scope=col>날짜2</th><th scope=col>딸기</th></tr>\n",
       "\t<tr><th scope=col>&lt;chr&gt;</th><th scope=col>&lt;chr&gt;</th><th scope=col>&lt;dbl&gt;</th></tr>\n",
       "</thead>\n",
       "<tbody>\n",
       "\t<tr><td>서울</td><td>01월 03일</td><td>12375</td></tr>\n",
       "\t<tr><td>부산</td><td>01월 03일</td><td>10000</td></tr>\n",
       "\t<tr><td>대구</td><td>01월 03일</td><td>11000</td></tr>\n",
       "\t<tr><td>광주</td><td>01월 03일</td><td>11800</td></tr>\n",
       "\t<tr><td>대전</td><td>01월 03일</td><td>11575</td></tr>\n",
       "\t<tr><td>서울</td><td>01월 04일</td><td>12375</td></tr>\n",
       "</tbody>\n",
       "</table>\n"
      ],
      "text/latex": [
       "A tibble: 6 × 3\n",
       "\\begin{tabular}{lll}\n",
       " 지역2 & 날짜2 & 딸기\\\\\n",
       " <chr> & <chr> & <dbl>\\\\\n",
       "\\hline\n",
       "\t 서울 & 01월 03일 & 12375\\\\\n",
       "\t 부산 & 01월 03일 & 10000\\\\\n",
       "\t 대구 & 01월 03일 & 11000\\\\\n",
       "\t 광주 & 01월 03일 & 11800\\\\\n",
       "\t 대전 & 01월 03일 & 11575\\\\\n",
       "\t 서울 & 01월 04일 & 12375\\\\\n",
       "\\end{tabular}\n"
      ],
      "text/markdown": [
       "\n",
       "A tibble: 6 × 3\n",
       "\n",
       "| 지역2 &lt;chr&gt; | 날짜2 &lt;chr&gt; | 딸기 &lt;dbl&gt; |\n",
       "|---|---|---|\n",
       "| 서울 | 01월 03일 | 12375 |\n",
       "| 부산 | 01월 03일 | 10000 |\n",
       "| 대구 | 01월 03일 | 11000 |\n",
       "| 광주 | 01월 03일 | 11800 |\n",
       "| 대전 | 01월 03일 | 11575 |\n",
       "| 서울 | 01월 04일 | 12375 |\n",
       "\n"
      ],
      "text/plain": [
       "  지역2 날짜2     딸기 \n",
       "1 서울  01월 03일 12375\n",
       "2 부산  01월 03일 10000\n",
       "3 대구  01월 03일 11000\n",
       "4 광주  01월 03일 11800\n",
       "5 대전  01월 03일 11575\n",
       "6 서울  01월 04일 12375"
      ]
     },
     "metadata": {},
     "output_type": "display_data"
    }
   ],
   "source": [
    "head(data2)"
   ]
  },
  {
   "cell_type": "code",
   "execution_count": 111,
   "id": "b18ea135",
   "metadata": {},
   "outputs": [
    {
     "data": {
      "text/html": [
       "<table class=\"dataframe\">\n",
       "<caption>A tibble: 6 × 4</caption>\n",
       "<thead>\n",
       "\t<tr><th scope=col>지역1</th><th scope=col>날짜1</th><th scope=col>토마토</th><th scope=col>딸기</th></tr>\n",
       "\t<tr><th scope=col>&lt;chr&gt;</th><th scope=col>&lt;chr&gt;</th><th scope=col>&lt;dbl&gt;</th><th scope=col>&lt;dbl&gt;</th></tr>\n",
       "</thead>\n",
       "<tbody>\n",
       "\t<tr><td>서울</td><td>01월 03일</td><td>4950</td><td>12375</td></tr>\n",
       "\t<tr><td>부산</td><td>01월 03일</td><td>4000</td><td>10000</td></tr>\n",
       "\t<tr><td>대구</td><td>01월 03일</td><td>4400</td><td>11000</td></tr>\n",
       "\t<tr><td>광주</td><td>01월 03일</td><td>4720</td><td>11800</td></tr>\n",
       "\t<tr><td>대전</td><td>01월 03일</td><td>4630</td><td>11575</td></tr>\n",
       "\t<tr><td>서울</td><td>01월 04일</td><td>4950</td><td>12375</td></tr>\n",
       "</tbody>\n",
       "</table>\n"
      ],
      "text/latex": [
       "A tibble: 6 × 4\n",
       "\\begin{tabular}{llll}\n",
       " 지역1 & 날짜1 & 토마토 & 딸기\\\\\n",
       " <chr> & <chr> & <dbl> & <dbl>\\\\\n",
       "\\hline\n",
       "\t 서울 & 01월 03일 & 4950 & 12375\\\\\n",
       "\t 부산 & 01월 03일 & 4000 & 10000\\\\\n",
       "\t 대구 & 01월 03일 & 4400 & 11000\\\\\n",
       "\t 광주 & 01월 03일 & 4720 & 11800\\\\\n",
       "\t 대전 & 01월 03일 & 4630 & 11575\\\\\n",
       "\t 서울 & 01월 04일 & 4950 & 12375\\\\\n",
       "\\end{tabular}\n"
      ],
      "text/markdown": [
       "\n",
       "A tibble: 6 × 4\n",
       "\n",
       "| 지역1 &lt;chr&gt; | 날짜1 &lt;chr&gt; | 토마토 &lt;dbl&gt; | 딸기 &lt;dbl&gt; |\n",
       "|---|---|---|---|\n",
       "| 서울 | 01월 03일 | 4950 | 12375 |\n",
       "| 부산 | 01월 03일 | 4000 | 10000 |\n",
       "| 대구 | 01월 03일 | 4400 | 11000 |\n",
       "| 광주 | 01월 03일 | 4720 | 11800 |\n",
       "| 대전 | 01월 03일 | 4630 | 11575 |\n",
       "| 서울 | 01월 04일 | 4950 | 12375 |\n",
       "\n"
      ],
      "text/plain": [
       "  지역1 날짜1     토마토 딸기 \n",
       "1 서울  01월 03일 4950   12375\n",
       "2 부산  01월 03일 4000   10000\n",
       "3 대구  01월 03일 4400   11000\n",
       "4 광주  01월 03일 4720   11800\n",
       "5 대전  01월 03일 4630   11575\n",
       "6 서울  01월 04일 4950   12375"
      ]
     },
     "metadata": {},
     "output_type": "display_data"
    }
   ],
   "source": [
    "data1 %>% \n",
    "        left_join(data2,by=c(\"지역1\"=\"지역2\",\"날짜1\"=\"날짜2\")) %>% head()"
   ]
  },
  {
   "cell_type": "markdown",
   "id": "7c66da53",
   "metadata": {},
   "source": [
    "***"
   ]
  },
  {
   "cell_type": "markdown",
   "id": "0a099157",
   "metadata": {},
   "source": [
    "## 2. 데이터 분석"
   ]
  },
  {
   "cell_type": "markdown",
   "id": "a28985e4",
   "metadata": {},
   "source": [
    "### 일표본 T 검정"
   ]
  },
  {
   "cell_type": "markdown",
   "id": "a71782b6",
   "metadata": {},
   "source": [
    "* 개념 : 단일모집단에서 관심이 있는 연속형 벼수의 평균값을 특정기준값과 비교하고자 할 때 사용\n"
   ]
  },
  {
   "cell_type": "code",
   "execution_count": 104,
   "id": "11b4d035",
   "metadata": {},
   "outputs": [
    {
     "data": {
      "text/html": [
       "3294.48275862069"
      ],
      "text/latex": [
       "3294.48275862069"
      ],
      "text/markdown": [
       "3294.48275862069"
      ],
      "text/plain": [
       "[1] 3294.483"
      ]
     },
     "metadata": {},
     "output_type": "display_data"
    }
   ],
   "source": [
    "mean(data$`토마토`)"
   ]
  },
  {
   "cell_type": "markdown",
   "id": "e007931f",
   "metadata": {},
   "source": [
    "> example : 토마토 평균 도매가격이 `3,200` 인지 검정한다."
   ]
  },
  {
   "cell_type": "markdown",
   "id": "20331b83",
   "metadata": {},
   "source": [
    "$$H_0 : \\mu = 3,200 \\quad H_1 :  \\mu \\neq 3,200$$"
   ]
  },
  {
   "cell_type": "code",
   "execution_count": 105,
   "id": "d163e4c6",
   "metadata": {},
   "outputs": [
    {
     "data": {
      "text/plain": [
       "\n",
       "\tOne Sample t-test\n",
       "\n",
       "data:  data$토마토\n",
       "t = 3.0602, df = 579, p-value = 0.002314\n",
       "alternative hypothesis: true mean is not equal to 3200\n",
       "95 percent confidence interval:\n",
       " 3233.844 3355.122\n",
       "sample estimates:\n",
       "mean of x \n",
       " 3294.483 \n"
      ]
     },
     "metadata": {},
     "output_type": "display_data"
    }
   ],
   "source": [
    "t.test(data$`토마토`,mu=3200,alternative= \"two.sided\")"
   ]
  },
  {
   "cell_type": "markdown",
   "id": "92566a8c",
   "metadata": {},
   "source": [
    "* 검정통계량의 근거한 p-value 값을 보았을 때 귀무가설을 기각한다. **즉, 토마토의 평균 도매가격은 3,200원이 아니다.**"
   ]
  },
  {
   "cell_type": "markdown",
   "id": "238055a5",
   "metadata": {},
   "source": [
    "### 대응표본 T-검정"
   ]
  },
  {
   "cell_type": "markdown",
   "id": "63ccc15e",
   "metadata": {},
   "source": [
    "* 단일모집단에 대해 두번의 처리를 가했을 때, 두 개의 처리에 따른 평균 차이를 비교하고자 할 때 사용"
   ]
  },
  {
   "cell_type": "markdown",
   "id": "12701114",
   "metadata": {},
   "source": [
    "* 표본 내의 개체들에 대해서 두 번의 측정을 실시  즉, 관측값들은 서로 독립적이지 않고 쌍으로 이루어져 있다."
   ]
  },
  {
   "cell_type": "markdown",
   "id": "1eeebefe",
   "metadata": {},
   "source": [
    "* 상황 가정 : 코로나로 인해 토마토의 도매가격이 kg당 200원씩 상승했다."
   ]
  },
  {
   "cell_type": "markdown",
   "id": "290c104a",
   "metadata": {},
   "source": [
    "$$H_0 : \\mu_x = \\mu_y,\\quad H_1 = \\text{not}\\,\\, H_0$$"
   ]
  },
  {
   "cell_type": "markdown",
   "id": "5654a37d",
   "metadata": {},
   "source": [
    "$$H_0: \\mu_x - \\mu_y= 0 \\quad H_1 : \\text{not} \\,\\, H_0$$"
   ]
  },
  {
   "cell_type": "code",
   "execution_count": 106,
   "id": "bd4b669e",
   "metadata": {},
   "outputs": [
    {
     "data": {
      "text/html": [
       "<table class=\"dataframe\">\n",
       "<caption>A tibble: 6 × 3</caption>\n",
       "<thead>\n",
       "\t<tr><th scope=col>지역</th><th scope=col>토마토_before</th><th scope=col>토마토_after</th></tr>\n",
       "\t<tr><th scope=col>&lt;chr&gt;</th><th scope=col>&lt;dbl&gt;</th><th scope=col>&lt;dbl&gt;</th></tr>\n",
       "</thead>\n",
       "<tbody>\n",
       "\t<tr><td>서울</td><td>4950</td><td>5150</td></tr>\n",
       "\t<tr><td>부산</td><td>4000</td><td>4200</td></tr>\n",
       "\t<tr><td>대구</td><td>4400</td><td>4600</td></tr>\n",
       "\t<tr><td>광주</td><td>4720</td><td>4920</td></tr>\n",
       "\t<tr><td>대전</td><td>4630</td><td>4830</td></tr>\n",
       "\t<tr><td>서울</td><td>4950</td><td>5150</td></tr>\n",
       "</tbody>\n",
       "</table>\n"
      ],
      "text/latex": [
       "A tibble: 6 × 3\n",
       "\\begin{tabular}{lll}\n",
       " 지역 & 토마토\\_before & 토마토\\_after\\\\\n",
       " <chr> & <dbl> & <dbl>\\\\\n",
       "\\hline\n",
       "\t 서울 & 4950 & 5150\\\\\n",
       "\t 부산 & 4000 & 4200\\\\\n",
       "\t 대구 & 4400 & 4600\\\\\n",
       "\t 광주 & 4720 & 4920\\\\\n",
       "\t 대전 & 4630 & 4830\\\\\n",
       "\t 서울 & 4950 & 5150\\\\\n",
       "\\end{tabular}\n"
      ],
      "text/markdown": [
       "\n",
       "A tibble: 6 × 3\n",
       "\n",
       "| 지역 &lt;chr&gt; | 토마토_before &lt;dbl&gt; | 토마토_after &lt;dbl&gt; |\n",
       "|---|---|---|\n",
       "| 서울 | 4950 | 5150 |\n",
       "| 부산 | 4000 | 4200 |\n",
       "| 대구 | 4400 | 4600 |\n",
       "| 광주 | 4720 | 4920 |\n",
       "| 대전 | 4630 | 4830 |\n",
       "| 서울 | 4950 | 5150 |\n",
       "\n"
      ],
      "text/plain": [
       "  지역 토마토_before 토마토_after\n",
       "1 서울 4950          5150        \n",
       "2 부산 4000          4200        \n",
       "3 대구 4400          4600        \n",
       "4 광주 4720          4920        \n",
       "5 대전 4630          4830        \n",
       "6 서울 4950          5150        "
      ]
     },
     "metadata": {},
     "output_type": "display_data"
    }
   ],
   "source": [
    "temp <- data\n",
    "temp <- temp %>% mutate(after_t = 토마토 + 200) %>% select(1,3,5)\n",
    "names(temp)[2:3] <- c(\"토마토_before\",\"토마토_after\")\n",
    "temp %>% head()"
   ]
  },
  {
   "cell_type": "code",
   "execution_count": 107,
   "id": "3c28d393",
   "metadata": {},
   "outputs": [
    {
     "data": {
      "text/plain": [
       "\n",
       "\tWelch Two Sample t-test\n",
       "\n",
       "data:  temp$토마토_before and temp$토마토_after\n",
       "t = -4.5806, df = 1158, p-value = 5.139e-06\n",
       "alternative hypothesis: true difference in means is not equal to 0\n",
       "95 percent confidence interval:\n",
       " -285.667 -114.333\n",
       "sample estimates:\n",
       "mean of x mean of y \n",
       " 3294.483  3494.483 \n"
      ]
     },
     "metadata": {},
     "output_type": "display_data"
    }
   ],
   "source": [
    "t.test(temp$`토마토_before`, temp$`토마토_after`,paird=T)"
   ]
  },
  {
   "cell_type": "markdown",
   "id": "103074e8",
   "metadata": {},
   "source": [
    "* 검정통계량의 근거한 p-value 값을 보았을 때 귀무가설을 기각한다. **즉, 코로나 이후 토마토 도매가격의 평균 차이가 있다.**"
   ]
  },
  {
   "cell_type": "markdown",
   "id": "16596006",
   "metadata": {},
   "source": [
    "### 독립표본 T검정"
   ]
  },
  {
   "cell_type": "markdown",
   "id": "a7a129e6",
   "metadata": {},
   "source": [
    "* 두 개의 독립된 모집단의 평균을 비교하고자 할 때 사용하는 검정 방법"
   ]
  },
  {
   "cell_type": "markdown",
   "id": "716c9122",
   "metadata": {},
   "source": [
    "* 토마토와 딸기 kg당 도매가격의 유의미한 차이가 있는지 확인해보자"
   ]
  },
  {
   "cell_type": "code",
   "execution_count": 110,
   "id": "ea80d8d4",
   "metadata": {},
   "outputs": [
    {
     "data": {
      "text/plain": [
       "\n",
       "\tWelch Two Sample t-test\n",
       "\n",
       "data:  data$토마토 and data$딸기\n",
       "t = -59.445, df = 759.66, p-value < 2.2e-16\n",
       "alternative hypothesis: true difference in means is not equal to 0\n",
       "95 percent confidence interval:\n",
       " -5104.919 -4778.529\n",
       "sample estimates:\n",
       "mean of x mean of y \n",
       " 3294.483  8236.207 \n"
      ]
     },
     "metadata": {},
     "output_type": "display_data"
    }
   ],
   "source": [
    "t.test(data$`토마토`,data$`딸기`)"
   ]
  },
  {
   "cell_type": "markdown",
   "id": "3ded7dfa",
   "metadata": {},
   "source": [
    "* 검정통계량의 근거한 p-value 값을 보았을 때 귀무가설을 기각한다. **즉, 딸기와 토마토 평균 도매가격의 차이는 유의미하다.**"
   ]
  },
  {
   "cell_type": "markdown",
   "id": "50e7d6c8",
   "metadata": {},
   "source": [
    "***"
   ]
  },
  {
   "cell_type": "markdown",
   "id": "746aeda6",
   "metadata": {},
   "source": [
    "### 일원배치 분산분석"
   ]
  },
  {
   "cell_type": "markdown",
   "id": "40621056",
   "metadata": {},
   "source": [
    "* T-검정과 달리 두 개 이상의 다수 집단 간 평균을 비교하는 통계분석 방법"
   ]
  },
  {
   "cell_type": "markdown",
   "id": "bd6b995e",
   "metadata": {},
   "source": [
    "* 반응값에 대한 하나의 범주형 변수(지역)의 영향을 알아보기 위해 사용한다."
   ]
  },
  {
   "cell_type": "markdown",
   "id": "5fdb5de1",
   "metadata": {},
   "source": [
    "* 지역별 토마토 도매가격의 평군차이가 있는지 확인해보자"
   ]
  },
  {
   "cell_type": "code",
   "execution_count": 112,
   "id": "358281e8",
   "metadata": {},
   "outputs": [],
   "source": [
    "result_1 <- aov(토마토~지역,data)"
   ]
  },
  {
   "cell_type": "code",
   "execution_count": 114,
   "id": "59fcfdaa",
   "metadata": {},
   "outputs": [
    {
     "data": {
      "text/plain": [
       "             Df    Sum Sq Mean Sq F value Pr(>F)\n",
       "지역          4   3292778  823194   1.494  0.202\n",
       "Residuals   575 316817167  550986               "
      ]
     },
     "metadata": {},
     "output_type": "display_data"
    }
   ],
   "source": [
    "summary(result_1)"
   ]
  },
  {
   "cell_type": "markdown",
   "id": "656cbc4b",
   "metadata": {},
   "source": [
    "* F-통계량을 보았을 때 지역별 토마토 평균 도매가격의 차이는 존재하지 않는다."
   ]
  },
  {
   "cell_type": "markdown",
   "id": "95020ab7",
   "metadata": {},
   "source": [
    "### 상관분석"
   ]
  },
  {
   "cell_type": "markdown",
   "id": "ad059fe8",
   "metadata": {},
   "source": [
    "* 두 변수간 어느 정도의 상관성이 있는지 확인하는 분석"
   ]
  },
  {
   "cell_type": "markdown",
   "id": "4e8336ff",
   "metadata": {},
   "source": [
    "* 상관분석에서 산출된 상관계수는 두 변수간의 인과관계를 설명해주진 않는다."
   ]
  },
  {
   "cell_type": "markdown",
   "id": "826175e8",
   "metadata": {},
   "source": [
    "* 단지, 두 변수간 어느 정도의 연관성이 있는지 확인하는 척도이다."
   ]
  },
  {
   "cell_type": "markdown",
   "id": "f2e22710",
   "metadata": {},
   "source": [
    "* 현재 데이터의 날짜가 1월부터 6월까지이므로 점차 기온이 올라간다는 가정하에 임시 기온 데이터를 생성하고 강수량 데이터를 추가"
   ]
  },
  {
   "cell_type": "code",
   "execution_count": 188,
   "id": "39910e2e",
   "metadata": {},
   "outputs": [],
   "source": [
    "#collapse-hide\n",
    "te <- 1:580\n",
    "te <- (te-1)/(580-1)*33\n",
    "te <- te + rnorm(580,mean=4,sd=2)\n",
    "\n",
    "data$온도  <- te\n",
    "\n",
    "rain  <- rnorm(580,10,0.2)\n",
    "\n",
    "data$강수량 <- rain"
   ]
  },
  {
   "cell_type": "code",
   "execution_count": 189,
   "id": "36d3f247",
   "metadata": {},
   "outputs": [
    {
     "data": {
      "text/html": [
       "<table class=\"dataframe\">\n",
       "<caption>A matrix: 3 × 3 of type dbl</caption>\n",
       "<thead>\n",
       "\t<tr><th></th><th scope=col>토마토</th><th scope=col>온도</th><th scope=col>강수량</th></tr>\n",
       "</thead>\n",
       "<tbody>\n",
       "\t<tr><th scope=row>토마토</th><td> 1.00000000</td><td>-0.88597295</td><td> 0.07388668</td></tr>\n",
       "\t<tr><th scope=row>온도</th><td>-0.88597295</td><td> 1.00000000</td><td>-0.05656151</td></tr>\n",
       "\t<tr><th scope=row>강수량</th><td> 0.07388668</td><td>-0.05656151</td><td> 1.00000000</td></tr>\n",
       "</tbody>\n",
       "</table>\n"
      ],
      "text/latex": [
       "A matrix: 3 × 3 of type dbl\n",
       "\\begin{tabular}{r|lll}\n",
       "  & 토마토 & 온도 & 강수량\\\\\n",
       "\\hline\n",
       "\t토마토 &  1.00000000 & -0.88597295 &  0.07388668\\\\\n",
       "\t온도 & -0.88597295 &  1.00000000 & -0.05656151\\\\\n",
       "\t강수량 &  0.07388668 & -0.05656151 &  1.00000000\\\\\n",
       "\\end{tabular}\n"
      ],
      "text/markdown": [
       "\n",
       "A matrix: 3 × 3 of type dbl\n",
       "\n",
       "| <!--/--> | 토마토 | 온도 | 강수량 |\n",
       "|---|---|---|---|\n",
       "| 토마토 |  1.00000000 | -0.88597295 |  0.07388668 |\n",
       "| 온도 | -0.88597295 |  1.00000000 | -0.05656151 |\n",
       "| 강수량 |  0.07388668 | -0.05656151 |  1.00000000 |\n",
       "\n"
      ],
      "text/plain": [
       "       토마토      온도        강수량     \n",
       "토마토  1.00000000 -0.88597295  0.07388668\n",
       "온도   -0.88597295  1.00000000 -0.05656151\n",
       "강수량  0.07388668 -0.05656151  1.00000000"
      ]
     },
     "metadata": {},
     "output_type": "display_data"
    }
   ],
   "source": [
    "cor(data %>% select(3,5,6))"
   ]
  },
  {
   "cell_type": "code",
   "execution_count": 190,
   "id": "e0eb0541",
   "metadata": {},
   "outputs": [
    {
     "data": {
      "text/html": [
       "<table class=\"dataframe\">\n",
       "<caption>A matrix: 3 × 3 of type dbl</caption>\n",
       "<thead>\n",
       "\t<tr><th></th><th scope=col>딸기</th><th scope=col>온도</th><th scope=col>강수량</th></tr>\n",
       "</thead>\n",
       "<tbody>\n",
       "\t<tr><th scope=row>딸기</th><td> 1.00000000</td><td>-0.88597295</td><td> 0.07388668</td></tr>\n",
       "\t<tr><th scope=row>온도</th><td>-0.88597295</td><td> 1.00000000</td><td>-0.05656151</td></tr>\n",
       "\t<tr><th scope=row>강수량</th><td> 0.07388668</td><td>-0.05656151</td><td> 1.00000000</td></tr>\n",
       "</tbody>\n",
       "</table>\n"
      ],
      "text/latex": [
       "A matrix: 3 × 3 of type dbl\n",
       "\\begin{tabular}{r|lll}\n",
       "  & 딸기 & 온도 & 강수량\\\\\n",
       "\\hline\n",
       "\t딸기 &  1.00000000 & -0.88597295 &  0.07388668\\\\\n",
       "\t온도 & -0.88597295 &  1.00000000 & -0.05656151\\\\\n",
       "\t강수량 &  0.07388668 & -0.05656151 &  1.00000000\\\\\n",
       "\\end{tabular}\n"
      ],
      "text/markdown": [
       "\n",
       "A matrix: 3 × 3 of type dbl\n",
       "\n",
       "| <!--/--> | 딸기 | 온도 | 강수량 |\n",
       "|---|---|---|---|\n",
       "| 딸기 |  1.00000000 | -0.88597295 |  0.07388668 |\n",
       "| 온도 | -0.88597295 |  1.00000000 | -0.05656151 |\n",
       "| 강수량 |  0.07388668 | -0.05656151 |  1.00000000 |\n",
       "\n"
      ],
      "text/plain": [
       "       딸기        온도        강수량     \n",
       "딸기    1.00000000 -0.88597295  0.07388668\n",
       "온도   -0.88597295  1.00000000 -0.05656151\n",
       "강수량  0.07388668 -0.05656151  1.00000000"
      ]
     },
     "metadata": {},
     "output_type": "display_data"
    }
   ],
   "source": [
    "cor(data %>% select(4:6))"
   ]
  },
  {
   "cell_type": "markdown",
   "id": "eafef156",
   "metadata": {},
   "source": [
    "### 회귀분석"
   ]
  },
  {
   "cell_type": "markdown",
   "id": "b5d1e2ce",
   "metadata": {},
   "source": [
    "* ‘회귀’라는 단어는 키가 큰 아버지의 아들 키가 세대를 거치면서 모집단의 평균키로 회귀한다는 발견에서 유래됨"
   ]
  },
  {
   "cell_type": "markdown",
   "id": "de5f4aac",
   "metadata": {},
   "source": [
    "* 변수들간의 관계를 모형화하고 조사하는 통계적 기법\n"
   ]
  },
  {
   "cell_type": "markdown",
   "id": "e3354201",
   "metadata": {},
   "source": [
    "$$y= \\beta_0 + \\beta_1x_1+ \\dots \\beta_px_p$$"
   ]
  },
  {
   "cell_type": "markdown",
   "id": "b3e85f31",
   "metadata": {},
   "source": [
    "* $x$ : 독립변수, $y$ : 목표변수(예측변수)"
   ]
  },
  {
   "cell_type": "markdown",
   "id": "2c257dd0",
   "metadata": {},
   "source": [
    "`-` 예제 : 온도와 강수량을 통해 토마토의 도매가격을 예측하는 모형 적합"
   ]
  },
  {
   "cell_type": "code",
   "execution_count": 191,
   "id": "386a45ad",
   "metadata": {},
   "outputs": [
    {
     "data": {
      "text/plain": [
       "\n",
       "Call:\n",
       "lm(formula = 토마토 ~ 온도 + 강수량, data = data)\n",
       "\n",
       "Residuals:\n",
       "     Min       1Q   Median       3Q      Max \n",
       "-1055.91  -204.89     6.26   224.81   878.45 \n",
       "\n",
       "Coefficients:\n",
       "            Estimate Std. Error t value Pr(>|t|)    \n",
       "(Intercept) 3831.335    676.771   5.661 2.37e-08 ***\n",
       "온도         -66.744      1.457 -45.809  < 2e-16 ***\n",
       "강수량        83.245     67.400   1.235    0.217    \n",
       "---\n",
       "Signif. codes:  0 '***' 0.001 '**' 0.01 '*' 0.05 '.' 0.1 ' ' 1\n",
       "\n",
       "Residual standard error: 345 on 577 degrees of freedom\n",
       "Multiple R-squared:  0.7855,\tAdjusted R-squared:  0.7848 \n",
       "F-statistic:  1057 on 2 and 577 DF,  p-value: < 2.2e-16\n"
      ]
     },
     "metadata": {},
     "output_type": "display_data"
    }
   ],
   "source": [
    "fit1 <- lm(토마토~온도 + 강수량,data)\n",
    "summary(fit1)"
   ]
  },
  {
   "cell_type": "code",
   "execution_count": 192,
   "id": "8f6ec51b",
   "metadata": {},
   "outputs": [
    {
     "data": {
      "image/png": "[encoded data removed]",
      "text/plain": [
       "Plot with title \"토마토 ~ 강수량\""
      ]
     },
     "metadata": {
      "image/png": {
       "height": 375,
       "width": 525
      }
     },
     "output_type": "display_data"
    }
   ],
   "source": [
    "#collapse-hide\n",
    "options(repr.plot.res=150,repr.plot.height=5,repr.plot.weight=10)\n",
    "par(mfrow= c(1,2))\n",
    "plot(data$온도, data$토마토,main = \"토마토 ~ 온도\", xlab=NULL,ylab=NULL)\n",
    "plot(data$온도, data$토마토,main = \"토마토 ~ 강수량\", xlab=NULL,ylab=NULL)"
   ]
  },
  {
   "cell_type": "markdown",
   "id": "a11a2273",
   "metadata": {},
   "source": [
    "#### 모형진단"
   ]
  },
  {
   "cell_type": "markdown",
   "id": "7bac3ada",
   "metadata": {},
   "source": [
    "`1` 회귀모형의 유의성 파악 $\\to$  F통계량에 근거한 p-value 값 살펴보기"
   ]
  },
  {
   "cell_type": "code",
   "execution_count": 193,
   "id": "522cf16a",
   "metadata": {},
   "outputs": [
    {
     "data": {
      "text/plain": [
       "\n",
       "Call:\n",
       "lm(formula = 토마토 ~ 온도 + 강수량, data = data)\n",
       "\n",
       "Residuals:\n",
       "     Min       1Q   Median       3Q      Max \n",
       "-1055.91  -204.89     6.26   224.81   878.45 \n",
       "\n",
       "Coefficients:\n",
       "            Estimate Std. Error t value Pr(>|t|)    \n",
       "(Intercept) 3831.335    676.771   5.661 2.37e-08 ***\n",
       "온도         -66.744      1.457 -45.809  < 2e-16 ***\n",
       "강수량        83.245     67.400   1.235    0.217    \n",
       "---\n",
       "Signif. codes:  0 '***' 0.001 '**' 0.01 '*' 0.05 '.' 0.1 ' ' 1\n",
       "\n",
       "Residual standard error: 345 on 577 degrees of freedom\n",
       "Multiple R-squared:  0.7855,\tAdjusted R-squared:  0.7848 \n",
       "F-statistic:  1057 on 2 and 577 DF,  p-value: < 2.2e-16\n"
      ]
     },
     "metadata": {},
     "output_type": "display_data"
    }
   ],
   "source": [
    "summary(fit1)"
   ]
  },
  {
   "cell_type": "markdown",
   "id": "6366f224",
   "metadata": {},
   "source": [
    "`2` 개별 회귀계수의 유의성파악 $\\to$ t통계량에 근거한 p-value 값 살펴보기"
   ]
  },
  {
   "cell_type": "markdown",
   "id": "c74203fa",
   "metadata": {},
   "source": [
    "`3` 결정계수 및 수정된 결정계수값 확인"
   ]
  },
  {
   "cell_type": "markdown",
   "id": "46e8e837",
   "metadata": {},
   "source": [
    "`4` 잔차 진단"
   ]
  },
  {
   "cell_type": "code",
   "execution_count": 187,
   "id": "162433a6",
   "metadata": {},
   "outputs": [
    {
     "data": {
      "image/png": "[encoded data removed]",
      "text/plain": [
       "Plot with title \"\""
      ]
     },
     "metadata": {
      "image/png": {
       "height": 500,
       "width": 700
      }
     },
     "output_type": "display_data"
    }
   ],
   "source": [
    "options(repr.plot.res=200)\n",
    "par(mfrow=c(1,2))\n",
    "plot(fit1,1)\n",
    "plot(fit1,2)"
   ]
  }
 ],
 "metadata": {
  "kernelspec": {
   "display_name": "R",
   "language": "R",
   "name": "ir"
  },
  "language_info": {
   "codemirror_mode": "r",
   "file_extension": ".r",
   "mimetype": "text/x-r-source",
   "name": "R",
   "pygments_lexer": "r",
   "version": "4.1.3"
  },
  "toc": {
   "base_numbering": 1,
   "nav_menu": {},
   "number_sections": false,
   "sideBar": true,
   "skip_h1_title": false,
   "title_cell": "Table of Contents",
   "title_sidebar": "Contents",
   "toc_cell": false,
   "toc_position": {
    "height": "calc(100% - 180px)",
    "left": "10px",
    "top": "150px",
    "width": "409.6px"
   },
   "toc_section_display": true,
   "toc_window_display": true
  }
 },
 "nbformat": 4,
 "nbformat_minor": 5
}
