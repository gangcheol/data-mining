{
 "cells": [
  {
   "cell_type": "markdown",
   "id": "90047028",
   "metadata": {
    "id": "90047028"
   },
   "source": [
    "# (4주차) 과제\n",
    "- toc:true\n",
    "- branch: master\n",
    "- badges: true\n",
    "- comments: true\n",
    "- editor : 이강철\n",
    "- published : true\n",
    "- hide : false"
   ]
  },
  {
   "cell_type": "markdown",
   "id": "799fe3ce",
   "metadata": {
    "id": "799fe3ce"
   },
   "source": [
    "# 1번"
   ]
  },
  {
   "cell_type": "markdown",
   "id": "8e89a889",
   "metadata": {
    "id": "8e89a889"
   },
   "source": [
    "설명변수가 1개($X$)이고, 반응변수가 1개($Y$)인데이터를 가지고 있다고 하자. $(n = 100)$ 그리고 다음의 두\n",
    "모형(linear regression, cubic regression)을 적합시키려고 한다.\n"
   ]
  },
  {
   "cell_type": "markdown",
   "id": "b2c6ac46",
   "metadata": {
    "id": "b2c6ac46"
   },
   "source": [
    "$$Y = \\beta_{0}+\\beta_{1}X + \\varepsilon\\quad\\quad\\quad\\quad\\quad\\quad\\quad\\quad (1)$$"
   ]
  },
  {
   "cell_type": "markdown",
   "id": "50d351f4",
   "metadata": {
    "id": "50d351f4"
   },
   "source": [
    "$$Y = \\beta_{0}+\\beta_{1}X +\\beta_{2}X^2+\\beta_{3}X^3+ \\varepsilon\\quad\\quad (2)$$"
   ]
  },
  {
   "cell_type": "markdown",
   "id": "db222e22",
   "metadata": {
    "id": "db222e22"
   },
   "source": [
    "## (a)"
   ]
  },
  {
   "cell_type": "markdown",
   "id": "d7f6d09a",
   "metadata": {
    "id": "d7f6d09a"
   },
   "source": [
    "실제 $X,Y$가 선형(linear)관계가 있다고 가정 하자. 모델 (1),(2)의 $SSE$(잔차제곱합)의 크기를 비교할\n",
    "수 있는지 설명하여라.\n"
   ]
  },
  {
   "cell_type": "markdown",
   "id": "40b24705",
   "metadata": {
    "id": "40b24705"
   },
   "source": [
    "### Solution"
   ]
  },
  {
   "cell_type": "markdown",
   "id": "dd4d36c4",
   "metadata": {},
   "source": [
    "* 비교할 수 있다. train sse의 경우 과적합된 cubic regreesion이 낮은 train sse를 보일 것이다. 그러나 선형관계라는 가정이 존재하기 때문에 test sse는 linear regression 이 더 낮은 수치를 보일 것이다."
   ]
  },
  {
   "cell_type": "markdown",
   "id": "d76add61",
   "metadata": {
    "id": "d76add61"
   },
   "source": [
    "## (b)"
   ]
  },
  {
   "cell_type": "markdown",
   "id": "d2047ef8",
   "metadata": {
    "id": "d2047ef8"
   },
   "source": [
    "실제 $X, Y$ 가 비선형(non-linear)관계가 있다고 가정 하자. 대신 실제 모형에 대한 정보는 없다. 모델\n",
    "(1),(2)의 $SSE$(잔차제곱합)의 크기를 비교할 수 있는지 설명하여라.\n"
   ]
  },
  {
   "cell_type": "markdown",
   "id": "1bb8841a",
   "metadata": {
    "id": "1bb8841a"
   },
   "source": [
    "### Solution"
   ]
  },
  {
   "cell_type": "markdown",
   "id": "d1d9ab10",
   "metadata": {},
   "source": [
    "* 비교할 수 없다. (a) 번의 경우 두 변수는 선형관계라는 모형 정보가 존재했다. 그러나 (b)번의 경우 모형에 대한 정보가 없기 때문에 test 데이터에 대한 sse로 모형을 비교할 수 없다."
   ]
  },
  {
   "cell_type": "markdown",
   "id": "5b0951f4",
   "metadata": {
    "id": "5b0951f4"
   },
   "source": [
    "***"
   ]
  },
  {
   "cell_type": "markdown",
   "id": "6e79860f",
   "metadata": {
    "id": "6e79860f"
   },
   "source": [
    "# 2번"
   ]
  },
  {
   "cell_type": "markdown",
   "id": "8526cfb9",
   "metadata": {
    "id": "8526cfb9"
   },
   "source": [
    "’Auto.csv’ 데이터를 이용하여 단순선형 회귀 모형을 적합한다."
   ]
  },
  {
   "cell_type": "markdown",
   "id": "1d622269",
   "metadata": {
    "id": "1d622269"
   },
   "source": [
    "(자료형 변환 후 결측치 제거)"
   ]
  },
  {
   "cell_type": "code",
   "execution_count": 14,
   "id": "dc07d973",
   "metadata": {
    "id": "dc07d973",
    "outputId": "d69963ef-dc3c-412d-f02d-c987f537f3f5"
   },
   "outputs": [
    {
     "name": "stderr",
     "output_type": "stream",
     "text": [
      "-- \u001b[1mAttaching packages\u001b[22m ------------------------------------------------------------------------------- tidyverse 1.3.1 --\n",
      "\n",
      "\u001b[32mv\u001b[39m \u001b[34mggplot2\u001b[39m 3.3.5     \u001b[32mv\u001b[39m \u001b[34mpurrr  \u001b[39m 0.3.4\n",
      "\u001b[32mv\u001b[39m \u001b[34mtibble \u001b[39m 3.1.6     \u001b[32mv\u001b[39m \u001b[34mdplyr  \u001b[39m 1.0.8\n",
      "\u001b[32mv\u001b[39m \u001b[34mtidyr  \u001b[39m 1.2.0     \u001b[32mv\u001b[39m \u001b[34mstringr\u001b[39m 1.4.0\n",
      "\u001b[32mv\u001b[39m \u001b[34mreadr  \u001b[39m 2.1.2     \u001b[32mv\u001b[39m \u001b[34mforcats\u001b[39m 0.5.1\n",
      "\n",
      "-- \u001b[1mConflicts\u001b[22m ---------------------------------------------------------------------------------- tidyverse_conflicts() --\n",
      "\u001b[31mx\u001b[39m \u001b[34mdplyr\u001b[39m::\u001b[32mfilter()\u001b[39m masks \u001b[34mstats\u001b[39m::filter()\n",
      "\u001b[31mx\u001b[39m \u001b[34mdplyr\u001b[39m::\u001b[32mlag()\u001b[39m    masks \u001b[34mstats\u001b[39m::lag()\n",
      "\n"
     ]
    },
    {
     "ename": "ERROR",
     "evalue": "Error: 'Auto(1).csv' does not exist in current working directory ('C:/Users/rkdcj/데이터마이닝특강').\n",
     "output_type": "error",
     "traceback": [
      "Error: 'Auto(1).csv' does not exist in current working directory ('C:/Users/rkdcj/데이터마이닝특강').\nTraceback:\n",
      "1. read_csv(\"Auto(1).csv\")",
      "2. vroom::vroom(file, delim = \",\", col_names = col_names, col_types = col_types, \n .     col_select = {\n .         {\n .             col_select\n .         }\n .     }, id = id, .name_repair = name_repair, skip = skip, n_max = n_max, \n .     na = na, quote = quote, comment = comment, skip_empty_rows = skip_empty_rows, \n .     trim_ws = trim_ws, escape_double = TRUE, escape_backslash = FALSE, \n .     locale = locale, guess_max = guess_max, show_col_types = show_col_types, \n .     progress = progress, altrep = lazy, num_threads = num_threads)",
      "3. vroom_(file, delim = delim %||% col_types$delim, col_names = col_names, \n .     col_types = col_types, id = id, skip = skip, col_select = col_select, \n .     name_repair = .name_repair, na = na, quote = quote, trim_ws = trim_ws, \n .     escape_double = escape_double, escape_backslash = escape_backslash, \n .     comment = comment, skip_empty_rows = skip_empty_rows, locale = locale, \n .     guess_max = guess_max, n_max = n_max, altrep = vroom_altrep(altrep), \n .     num_threads = num_threads, progress = progress)",
      "4. (function (path, write = FALSE) \n . {\n .     if (is.raw(path)) {\n .         return(rawConnection(path, \"rb\"))\n .     }\n .     if (!is.character(path)) {\n .         return(path)\n .     }\n .     if (is_url(path)) {\n .         if (requireNamespace(\"curl\", quietly = TRUE)) {\n .             con <- curl::curl(path)\n .         }\n .         else {\n .             rlang::inform(\"`curl` package not installed, falling back to using `url()`\")\n .             con <- url(path)\n .         }\n .         ext <- tolower(tools::file_ext(path))\n .         return(switch(ext, zip = , bz2 = , xz = {\n .             close(con)\n .             stop(\"Reading from remote `\", ext, \"` compressed files is not supported,\\n\", \n .                 \"  download the files locally first.\", call. = FALSE)\n .         }, gz = gzcon(con), con))\n .     }\n .     p <- split_path_ext(basename(path))\n .     if (write) {\n .         path <- normalizePath(path, mustWork = FALSE)\n .     }\n .     else {\n .         path <- check_path(path)\n .     }\n .     if (rlang::is_installed(\"archive\")) {\n .         formats <- archive_formats(p$extension)\n .         extension <- p$extension\n .         while (is.null(formats) && nzchar(extension)) {\n .             extension <- split_path_ext(extension)$extension\n .             formats <- archive_formats(extension)\n .         }\n .         if (!is.null(formats)) {\n .             p$extension <- extension\n .             if (write) {\n .                 if (is.null(formats[[1]])) {\n .                   return(archive::file_write(path, filter = formats[[2]]))\n .                 }\n .                 return(archive::archive_write(path, p$path, format = formats[[1]], \n .                   filter = formats[[2]]))\n .             }\n .             if (is.null(formats[[1]])) {\n .                 return(archive::file_read(path, filter = formats[[2]]))\n .             }\n .             return(archive::archive_read(path, format = formats[[1]], \n .                 filter = formats[[2]]))\n .         }\n .     }\n .     if (!write) {\n .         compression <- detect_compression(path)\n .     }\n .     else {\n .         compression <- NA\n .     }\n .     if (is.na(compression)) {\n .         compression <- tools::file_ext(path)\n .     }\n .     if (write && compression == \"zip\") {\n .         stop(\"Can only read from, not write to, .zip\", call. = FALSE)\n .     }\n .     switch(compression, gz = gzfile(path, \"\"), bz2 = bzfile(path, \n .         \"\"), xz = xzfile(path, \"\"), zip = zipfile(path, \"\"), \n .         if (!has_trailing_newline(path)) {\n .             file(path)\n .         } else {\n .             path\n .         })\n . })(\"Auto(1).csv\")",
      "5. check_path(path)",
      "6. stop(\"'\", path, \"' does not exist\", if (!is_absolute_path(path)) {\n .     paste0(\" in current working directory ('\", getwd(), \"')\")\n . }, \".\", call. = FALSE)"
     ]
    }
   ],
   "source": [
    "library(tidyverse)\n",
    "data  <- read_csv(\"Auto(1).csv\")\n",
    "data$horsepower <- as.numeric(data$horsepower)\n",
    "glimpse(data)"
   ]
  },
  {
   "cell_type": "code",
   "execution_count": null,
   "id": "e4cf7ebc",
   "metadata": {
    "id": "e4cf7ebc",
    "outputId": "2c9370d4-bd2d-4b47-a35c-6a09f5d24ed2"
   },
   "outputs": [
    {
     "data": {
      "text/plain": [
       "      mpg          cylinders      displacement     horsepower        weight    \n",
       " Min.   : 9.00   Min.   :3.000   Min.   : 68.0   Min.   : 46.0   Min.   :1613  \n",
       " 1st Qu.:17.50   1st Qu.:4.000   1st Qu.:104.0   1st Qu.: 75.0   1st Qu.:2223  \n",
       " Median :23.00   Median :4.000   Median :146.0   Median : 93.5   Median :2800  \n",
       " Mean   :23.52   Mean   :5.458   Mean   :193.5   Mean   :104.5   Mean   :2970  \n",
       " 3rd Qu.:29.00   3rd Qu.:8.000   3rd Qu.:262.0   3rd Qu.:126.0   3rd Qu.:3609  \n",
       " Max.   :46.60   Max.   :8.000   Max.   :455.0   Max.   :230.0   Max.   :5140  \n",
       "                                                 NA's   :5                     \n",
       "  acceleration        year           origin          name          \n",
       " Min.   : 8.00   Min.   :70.00   Min.   :1.000   Length:397        \n",
       " 1st Qu.:13.80   1st Qu.:73.00   1st Qu.:1.000   Class :character  \n",
       " Median :15.50   Median :76.00   Median :1.000   Mode  :character  \n",
       " Mean   :15.56   Mean   :75.99   Mean   :1.574                     \n",
       " 3rd Qu.:17.10   3rd Qu.:79.00   3rd Qu.:2.000                     \n",
       " Max.   :24.80   Max.   :82.00   Max.   :3.000                     \n",
       "                                                                   "
      ]
     },
     "metadata": {},
     "output_type": "display_data"
    }
   ],
   "source": [
    "summary(data)"
   ]
  },
  {
   "cell_type": "code",
   "execution_count": null,
   "id": "87ae163d",
   "metadata": {
    "id": "87ae163d"
   },
   "outputs": [],
   "source": [
    "data <- na.omit(data)"
   ]
  },
  {
   "cell_type": "markdown",
   "id": "5b2c5cc0",
   "metadata": {
    "id": "5b2c5cc0"
   },
   "source": [
    "## (a)"
   ]
  },
  {
   "cell_type": "markdown",
   "id": "be77e01f",
   "metadata": {
    "id": "be77e01f"
   },
   "source": [
    "반응변수 mpg, 설명변수는 horsepower로 하는 단순선형회귀모형을 적합 시킨 후 summary() 함수의\n",
    "결과 확인하고 다음의 물음에 답하여라."
   ]
  },
  {
   "cell_type": "code",
   "execution_count": null,
   "id": "68a5334a",
   "metadata": {
    "id": "68a5334a",
    "outputId": "f9e445a8-99dc-4027-9696-1ee29a7db77f"
   },
   "outputs": [
    {
     "data": {
      "text/plain": [
       "\n",
       "Call:\n",
       "lm(formula = mpg ~ horsepower, data = data)\n",
       "\n",
       "Residuals:\n",
       "     Min       1Q   Median       3Q      Max \n",
       "-13.5710  -3.2592  -0.3435   2.7630  16.9240 \n",
       "\n",
       "Coefficients:\n",
       "             Estimate Std. Error t value Pr(>|t|)    \n",
       "(Intercept) 39.935861   0.717499   55.66   <2e-16 ***\n",
       "horsepower  -0.157845   0.006446  -24.49   <2e-16 ***\n",
       "---\n",
       "Signif. codes:  0 '***' 0.001 '**' 0.01 '*' 0.05 '.' 0.1 ' ' 1\n",
       "\n",
       "Residual standard error: 4.906 on 390 degrees of freedom\n",
       "Multiple R-squared:  0.6059,\tAdjusted R-squared:  0.6049 \n",
       "F-statistic: 599.7 on 1 and 390 DF,  p-value: < 2.2e-16\n"
      ]
     },
     "metadata": {},
     "output_type": "display_data"
    }
   ],
   "source": [
    "fit1 <- lm(mpg~horsepower,data)\n",
    "summary(fit1)"
   ]
  },
  {
   "cell_type": "markdown",
   "id": "013f69f4",
   "metadata": {
    "id": "013f69f4"
   },
   "source": [
    "### (i)"
   ]
  },
  {
   "cell_type": "markdown",
   "id": "6ee7681a",
   "metadata": {
    "id": "6ee7681a"
   },
   "source": [
    "두 변수 사이에 관계가 있는가?\n"
   ]
  },
  {
   "cell_type": "markdown",
   "id": "524e39a2",
   "metadata": {
    "id": "524e39a2"
   },
   "source": [
    "#### Solution"
   ]
  },
  {
   "cell_type": "markdown",
   "id": "4af5d0a7",
   "metadata": {
    "id": "4af5d0a7"
   },
   "source": [
    "t 통계량에 근거한 p-value 값을 살펴본 결과 두 변수는 통계적으로 유의미한 선형관계에 있다"
   ]
  },
  {
   "cell_type": "markdown",
   "id": "f3d5c393",
   "metadata": {
    "id": "f3d5c393"
   },
   "source": [
    "### (ii)"
   ]
  },
  {
   "cell_type": "markdown",
   "id": "ee7498af",
   "metadata": {
    "id": "ee7498af"
   },
   "source": [
    "두 변수 사이의 관계는 얼마나 강한가?\n"
   ]
  },
  {
   "cell_type": "markdown",
   "id": "f52e3cd7",
   "metadata": {
    "id": "f52e3cd7"
   },
   "source": [
    "#### Solution"
   ]
  },
  {
   "cell_type": "code",
   "execution_count": null,
   "id": "f703a73e",
   "metadata": {
    "id": "f703a73e",
    "outputId": "29394c21-92bb-4fc5-b9bc-bfdbfd52fb66"
   },
   "outputs": [
    {
     "data": {
      "text/plain": [
       "\n",
       "Call:\n",
       "lm(formula = mpg ~ horsepower, data = data)\n",
       "\n",
       "Residuals:\n",
       "     Min       1Q   Median       3Q      Max \n",
       "-13.5710  -3.2592  -0.3435   2.7630  16.9240 \n",
       "\n",
       "Coefficients:\n",
       "             Estimate Std. Error t value Pr(>|t|)    \n",
       "(Intercept) 39.935861   0.717499   55.66   <2e-16 ***\n",
       "horsepower  -0.157845   0.006446  -24.49   <2e-16 ***\n",
       "---\n",
       "Signif. codes:  0 '***' 0.001 '**' 0.01 '*' 0.05 '.' 0.1 ' ' 1\n",
       "\n",
       "Residual standard error: 4.906 on 390 degrees of freedom\n",
       "Multiple R-squared:  0.6059,\tAdjusted R-squared:  0.6049 \n",
       "F-statistic: 599.7 on 1 and 390 DF,  p-value: < 2.2e-16\n"
      ]
     },
     "metadata": {},
     "output_type": "display_data"
    }
   ],
   "source": [
    "summary(fit1)"
   ]
  },
  {
   "cell_type": "markdown",
   "id": "5ef17ea1",
   "metadata": {
    "id": "5ef17ea1"
   },
   "source": [
    "horsepower 변수가 1씩 증가할 때 mpg 변수는 -0.1575 만큼 감소한다."
   ]
  },
  {
   "cell_type": "markdown",
   "id": "8d8fe3dd",
   "metadata": {
    "id": "8d8fe3dd"
   },
   "source": [
    "### (iii)"
   ]
  },
  {
   "cell_type": "markdown",
   "id": "12b69493",
   "metadata": {
    "id": "12b69493"
   },
   "source": [
    "두 변수는 음의 관계가 있는가? 양의 관계가 있는가?"
   ]
  },
  {
   "cell_type": "markdown",
   "id": "0f588681",
   "metadata": {
    "id": "0f588681"
   },
   "source": [
    "#### Solution"
   ]
  },
  {
   "cell_type": "markdown",
   "id": "075d9a14",
   "metadata": {
    "id": "075d9a14"
   },
   "source": [
    "추정된 $\\beta_1$을 보았을 때 음의 관계이다."
   ]
  },
  {
   "cell_type": "markdown",
   "id": "b00a2f89",
   "metadata": {
    "id": "b00a2f89"
   },
   "source": [
    "### (iv)"
   ]
  },
  {
   "cell_type": "markdown",
   "id": "b2316bd2",
   "metadata": {
    "id": "b2316bd2"
   },
   "source": [
    "horsepower의 값이 98일 때, mpg의 예측값은 무엇인가 95% 신뢰구간은 무엇인가?"
   ]
  },
  {
   "cell_type": "markdown",
   "id": "cbbc3d7d",
   "metadata": {
    "id": "cbbc3d7d"
   },
   "source": [
    "#### Solution"
   ]
  },
  {
   "cell_type": "code",
   "execution_count": null,
   "id": "ffc2c5c9",
   "metadata": {
    "id": "ffc2c5c9",
    "outputId": "51826eb1-00e1-4b26-a472-685eba45f066"
   },
   "outputs": [
    {
     "data": {
      "text/html": [
       "<table class=\"dataframe\">\n",
       "<caption>A matrix: 1 × 3 of type dbl</caption>\n",
       "<thead>\n",
       "\t<tr><th></th><th scope=col>fit</th><th scope=col>lwr</th><th scope=col>upr</th></tr>\n",
       "</thead>\n",
       "<tbody>\n",
       "\t<tr><th scope=row>1</th><td>24.46708</td><td>23.97308</td><td>24.96108</td></tr>\n",
       "</tbody>\n",
       "</table>\n"
      ],
      "text/latex": [
       "A matrix: 1 × 3 of type dbl\n",
       "\\begin{tabular}{r|lll}\n",
       "  & fit & lwr & upr\\\\\n",
       "\\hline\n",
       "\t1 & 24.46708 & 23.97308 & 24.96108\\\\\n",
       "\\end{tabular}\n"
      ],
      "text/markdown": [
       "\n",
       "A matrix: 1 × 3 of type dbl\n",
       "\n",
       "| <!--/--> | fit | lwr | upr |\n",
       "|---|---|---|---|\n",
       "| 1 | 24.46708 | 23.97308 | 24.96108 |\n",
       "\n"
      ],
      "text/plain": [
       "  fit      lwr      upr     \n",
       "1 24.46708 23.97308 24.96108"
      ]
     },
     "metadata": {},
     "output_type": "display_data"
    }
   ],
   "source": [
    "test <- data.frame(horsepower=c(98))\n",
    "predict(fit1,test,interval = \"confidence\")"
   ]
  },
  {
   "cell_type": "markdown",
   "id": "e5f8a90a",
   "metadata": {
    "id": "e5f8a90a"
   },
   "source": [
    "## (b)"
   ]
  },
  {
   "cell_type": "markdown",
   "id": "4d443ea9",
   "metadata": {
    "id": "4d443ea9"
   },
   "source": [
    "설명변수와 반응변수의 산점도를 그리고, 회귀직선을 추가하여라. (abline() 사용)"
   ]
  },
  {
   "cell_type": "markdown",
   "id": "73a171ec",
   "metadata": {
    "id": "73a171ec"
   },
   "source": [
    "### Solution"
   ]
  },
  {
   "cell_type": "code",
   "execution_count": null,
   "id": "d264a54f",
   "metadata": {
    "id": "d264a54f",
    "outputId": "d28ff222-bb1d-434f-9953-16baa83902b5"
   },
   "outputs": [
    {
     "data": {
      "text/html": [
       "<style>\n",
       ".dl-inline {width: auto; margin:0; padding: 0}\n",
       ".dl-inline>dt, .dl-inline>dd {float: none; width: auto; display: inline-block}\n",
       ".dl-inline>dt::after {content: \":\\0020\"; padding-right: .5ex}\n",
       ".dl-inline>dt:not(:first-of-type) {padding-left: .5ex}\n",
       "</style><dl class=dl-inline><dt>(Intercept)</dt><dd>39.9358610211705</dd><dt>horsepower</dt><dd>-0.157844733353654</dd></dl>\n"
      ],
      "text/latex": [
       "\\begin{description*}\n",
       "\\item[(Intercept)] 39.9358610211705\n",
       "\\item[horsepower] -0.157844733353654\n",
       "\\end{description*}\n"
      ],
      "text/markdown": [
       "(Intercept)\n",
       ":   39.9358610211705horsepower\n",
       ":   -0.157844733353654\n",
       "\n"
      ],
      "text/plain": [
       "(Intercept)  horsepower \n",
       " 39.9358610  -0.1578447 "
      ]
     },
     "metadata": {},
     "output_type": "display_data"
    }
   ],
   "source": [
    "# collapse-hide\n",
    "fit1$coefficients"
   ]
  },
  {
   "cell_type": "code",
   "execution_count": null,
   "id": "f9396f54",
   "metadata": {
    "id": "f9396f54",
    "outputId": "5008ece2-c153-4516-b628-d9b8f3f67db2"
   },
   "outputs": [
    {
     "data": {
      "image/png": "[encoded data removed]",
      "text/plain": [
       "Plot with title \"plot with abline\""
      ]
     },
     "metadata": {
      "image/png": {
       "height": 525,
       "width": 750
      }
     },
     "output_type": "display_data"
    }
   ],
   "source": [
    "# collapse-hide\n",
    "options(repr.plot.res=150,repr.plot.width=10)\n",
    "plot(data$horsepower,data$mpg,xlab=\"horsepower\",ylab=\"mpg\",main = \"plot with abline\")\n",
    "abline(a = fit1$coefficients[1],b=fit1$coefficients[2],col=\"red\",lwd=2)"
   ]
  },
  {
   "cell_type": "markdown",
   "id": "97e5a3ce",
   "metadata": {
    "id": "97e5a3ce"
   },
   "source": [
    "***"
   ]
  },
  {
   "cell_type": "markdown",
   "id": "3738e1f9",
   "metadata": {
    "id": "3738e1f9"
   },
   "source": [
    "# 3번"
   ]
  },
  {
   "cell_type": "markdown",
   "id": "627546f7",
   "metadata": {
    "id": "627546f7"
   },
   "source": [
    "이 문제는 다중공선성(collinearity)에 관련한 것이다."
   ]
  },
  {
   "cell_type": "markdown",
   "id": "b0476378",
   "metadata": {
    "id": "b0476378"
   },
   "source": [
    "## (a)"
   ]
  },
  {
   "cell_type": "markdown",
   "id": "60c70bc2",
   "metadata": {
    "id": "60c70bc2"
   },
   "source": [
    "R\n",
    "```\n",
    "set.seed(1)\n",
    "x1 = runif(100)\n",
    "x2 = 0.5*x1 + rnorm(100)/10\n",
    "y  = 2 + 2*x1+0.3*x2 + rnorm(100)\n",
    "```"
   ]
  },
  {
   "cell_type": "markdown",
   "id": "f4e49ee6",
   "metadata": {
    "id": "f4e49ee6"
   },
   "source": [
    "마지막 줄이 두개의 설명변수를 이용한 중회귀모형이다. 회귀모형을 쓰시오. ($\\beta$ 등을 이용하여)"
   ]
  },
  {
   "cell_type": "markdown",
   "id": "a4dee71a",
   "metadata": {
    "id": "a4dee71a"
   },
   "source": [
    "### Solution "
   ]
  },
  {
   "cell_type": "code",
   "execution_count": 1,
   "id": "dfac31a6",
   "metadata": {
    "id": "dfac31a6"
   },
   "outputs": [],
   "source": [
    "#collapse-hide\n",
    "set.seed(1)\n",
    "x1 = runif(100)\n",
    "x2 = 0.5*x1 + rnorm(100)/10\n",
    "y  = 2 + 2*x1+0.3*x2 + rnorm(100)"
   ]
  },
  {
   "cell_type": "markdown",
   "id": "09b16740",
   "metadata": {
    "id": "09b16740"
   },
   "source": [
    "$$y= \\beta_1 x_1 + \\beta_2 x_2 + \\varepsilon, \\quad \\varepsilon \\sim N(0, \\sigma^2)$$"
   ]
  },
  {
   "cell_type": "markdown",
   "id": "a6e8aa56",
   "metadata": {
    "id": "a6e8aa56"
   },
   "source": [
    "## (b)"
   ]
  },
  {
   "cell_type": "markdown",
   "id": "3d6e81cc",
   "metadata": {
    "id": "3d6e81cc"
   },
   "source": [
    "두 설명변수 $x_1$과 $x_2$ 사이에 상관관계(correlation)이 있는가? 산점도를 그려서 확인하여라"
   ]
  },
  {
   "cell_type": "markdown",
   "id": "a2e064be",
   "metadata": {
    "id": "a2e064be"
   },
   "source": [
    "### Solution"
   ]
  },
  {
   "cell_type": "code",
   "execution_count": 5,
   "id": "4945c357",
   "metadata": {
    "id": "4945c357",
    "outputId": "478a1721-0f4f-49c8-f385-1e0adee6c697"
   },
   "outputs": [
    {
     "data": {
      "image/png": "[encoded data removed]",
      "text/plain": [
       "Plot with title \"x1, x2 correlation\""
      ]
     },
     "metadata": {
      "image/png": {
       "height": 700,
       "width": 700
      }
     },
     "output_type": "display_data"
    }
   ],
   "source": [
    "#collapse-hide\n",
    "options(repr.plot.res=200)\n",
    "plot(x1,x2,main = \"x1, x2 correlation\")\n",
    "abline(a=-0.1,b=1,col=\"red\")"
   ]
  },
  {
   "cell_type": "markdown",
   "id": "dc90041f",
   "metadata": {
    "id": "dc90041f"
   },
   "source": [
    "산점도를 그려본 결과 $x_1,x_2$의 분포가 직선 형태의 가까운 형태이다. 따라서 두 변수 사이에 강한 상관성이 있어보인다."
   ]
  },
  {
   "cell_type": "markdown",
   "id": "9367eff9",
   "metadata": {
    "id": "9367eff9"
   },
   "source": [
    "## (c)"
   ]
  },
  {
   "cell_type": "markdown",
   "id": "9e96352c",
   "metadata": {
    "id": "9e96352c"
   },
   "source": [
    "생성된 데이터를 이용하여 (a) 모형의 회귀계수를 추정하여라. 실제 회귀계수와 추정된 회귀계수와\n",
    "비교하여라. $H_0 : \\beta_1 = 0$을 기각할 수 있는가? $H_1 : \\beta_2 = 0$을 기각할 수 있는가?"
   ]
  },
  {
   "cell_type": "markdown",
   "id": "661d111b",
   "metadata": {
    "id": "661d111b"
   },
   "source": [
    "### Solution"
   ]
  },
  {
   "cell_type": "code",
   "execution_count": 6,
   "id": "0fa32117",
   "metadata": {
    "id": "0fa32117",
    "outputId": "1f94fb36-6a8e-440c-f8e3-5672a68a1383"
   },
   "outputs": [
    {
     "data": {
      "text/plain": [
       "\n",
       "Call:\n",
       "lm(formula = y ~ x1 + x2)\n",
       "\n",
       "Residuals:\n",
       "    Min      1Q  Median      3Q     Max \n",
       "-2.8311 -0.7273 -0.0537  0.6338  2.3359 \n",
       "\n",
       "Coefficients:\n",
       "            Estimate Std. Error t value Pr(>|t|)    \n",
       "(Intercept)   2.1305     0.2319   9.188 7.61e-15 ***\n",
       "x1            1.4396     0.7212   1.996   0.0487 *  \n",
       "x2            1.0097     1.1337   0.891   0.3754    \n",
       "---\n",
       "Signif. codes:  0 '***' 0.001 '**' 0.01 '*' 0.05 '.' 0.1 ' ' 1\n",
       "\n",
       "Residual standard error: 1.056 on 97 degrees of freedom\n",
       "Multiple R-squared:  0.2088,\tAdjusted R-squared:  0.1925 \n",
       "F-statistic:  12.8 on 2 and 97 DF,  p-value: 1.164e-05\n"
      ]
     },
     "metadata": {},
     "output_type": "display_data"
    }
   ],
   "source": [
    "#collapse-hide\n",
    "fit2  <- lm(y~x1+x2)\n",
    "summary(fit2)"
   ]
  },
  {
   "cell_type": "markdown",
   "id": "7d8a2921",
   "metadata": {
    "id": "7d8a2921"
   },
   "source": [
    " t 통계량에 근거한 p-value 값을 보았을 때 $H_0 : \\beta_1 = 0$ 이라는 기각가능하나, $H_0 : \\beta_2 = 0$ 기각하지 못한다"
   ]
  },
  {
   "cell_type": "markdown",
   "id": "0dde576b",
   "metadata": {
    "id": "0dde576b"
   },
   "source": [
    "## (d)"
   ]
  },
  {
   "cell_type": "markdown",
   "id": "8225bddd",
   "metadata": {
    "id": "8225bddd"
   },
   "source": [
    "이번에는 $x_1$만을 이용한 단순선형회귀 모형을 적합하여라. 결과를 분석하여라. $H_0 : \\beta_1 = 0$을 기각할\n",
    "수 있는가"
   ]
  },
  {
   "cell_type": "markdown",
   "id": "c80ddc1a",
   "metadata": {
    "id": "c80ddc1a"
   },
   "source": [
    "### Solution"
   ]
  },
  {
   "cell_type": "code",
   "execution_count": 7,
   "id": "f1a5f0bb",
   "metadata": {
    "id": "f1a5f0bb",
    "outputId": "465333ea-d53e-4a72-af2d-79c6b6fcc28b"
   },
   "outputs": [
    {
     "data": {
      "text/plain": [
       "\n",
       "Call:\n",
       "lm(formula = y ~ x1)\n",
       "\n",
       "Residuals:\n",
       "     Min       1Q   Median       3Q      Max \n",
       "-2.89495 -0.66874 -0.07785  0.59221  2.45560 \n",
       "\n",
       "Coefficients:\n",
       "            Estimate Std. Error t value Pr(>|t|)    \n",
       "(Intercept)   2.1124     0.2307   9.155 8.27e-15 ***\n",
       "x1            1.9759     0.3963   4.986 2.66e-06 ***\n",
       "---\n",
       "Signif. codes:  0 '***' 0.001 '**' 0.01 '*' 0.05 '.' 0.1 ' ' 1\n",
       "\n",
       "Residual standard error: 1.055 on 98 degrees of freedom\n",
       "Multiple R-squared:  0.2024,\tAdjusted R-squared:  0.1942 \n",
       "F-statistic: 24.86 on 1 and 98 DF,  p-value: 2.661e-06\n"
      ]
     },
     "metadata": {},
     "output_type": "display_data"
    }
   ],
   "source": [
    "# collapse-hide\n",
    "fit3 <- lm(y~x1)\n",
    "summary(fit3)"
   ]
  },
  {
   "cell_type": "markdown",
   "id": "0bc4cc3c",
   "metadata": {
    "id": "0bc4cc3c"
   },
   "source": [
    "기각 가능하다."
   ]
  },
  {
   "cell_type": "markdown",
   "id": "e95e8239",
   "metadata": {
    "id": "e95e8239"
   },
   "source": [
    "## (e)"
   ]
  },
  {
   "cell_type": "markdown",
   "id": "ee6a18c0",
   "metadata": {
    "id": "ee6a18c0"
   },
   "source": [
    "이번에는 $x_2$만을 이용한 단순선형회귀 모형을 적합하여라. 결과를 분석하여라. $H_0 : \\beta_2 = 0$을 기각할\n",
    "수 있는가?\n"
   ]
  },
  {
   "cell_type": "markdown",
   "id": "93276b9f",
   "metadata": {
    "id": "93276b9f"
   },
   "source": [
    "### Solution"
   ]
  },
  {
   "cell_type": "code",
   "execution_count": 8,
   "id": "c7792835",
   "metadata": {
    "id": "c7792835",
    "outputId": "2a38e2e7-9e09-438f-85cd-0a2e048f3901"
   },
   "outputs": [
    {
     "data": {
      "text/plain": [
       "\n",
       "Call:\n",
       "lm(formula = y ~ x2)\n",
       "\n",
       "Residuals:\n",
       "     Min       1Q   Median       3Q      Max \n",
       "-2.62687 -0.75156 -0.03598  0.72383  2.44890 \n",
       "\n",
       "Coefficients:\n",
       "            Estimate Std. Error t value Pr(>|t|)    \n",
       "(Intercept)   2.3899     0.1949   12.26  < 2e-16 ***\n",
       "x2            2.8996     0.6330    4.58 1.37e-05 ***\n",
       "---\n",
       "Signif. codes:  0 '***' 0.001 '**' 0.01 '*' 0.05 '.' 0.1 ' ' 1\n",
       "\n",
       "Residual standard error: 1.072 on 98 degrees of freedom\n",
       "Multiple R-squared:  0.1763,\tAdjusted R-squared:  0.1679 \n",
       "F-statistic: 20.98 on 1 and 98 DF,  p-value: 1.366e-05\n"
      ]
     },
     "metadata": {},
     "output_type": "display_data"
    }
   ],
   "source": [
    "# collapse-hide\n",
    "fit4 <- lm(y~x2)\n",
    "summary(fit4)"
   ]
  },
  {
   "cell_type": "markdown",
   "id": "342085c5",
   "metadata": {
    "id": "342085c5"
   },
   "source": [
    "기각 가능하다"
   ]
  },
  {
   "cell_type": "markdown",
   "id": "f3604073",
   "metadata": {
    "id": "f3604073"
   },
   "source": [
    "## (f)"
   ]
  },
  {
   "cell_type": "markdown",
   "id": "a24b0e6d",
   "metadata": {
    "id": "a24b0e6d"
   },
   "source": [
    "(c)-(e)의 결과가 서로 모순되는가? 설명하여라."
   ]
  },
  {
   "cell_type": "markdown",
   "id": "6fba0245",
   "metadata": {
    "id": "6fba0245"
   },
   "source": [
    "### Solution"
   ]
  },
  {
   "cell_type": "markdown",
   "id": "783ff281",
   "metadata": {
    "id": "783ff281"
   },
   "source": [
    "결론 : 모순이 아니다"
   ]
  },
  {
   "cell_type": "markdown",
   "id": "df342537",
   "metadata": {
    "id": "df342537"
   },
   "source": [
    "현재 $x_1,x_2$를 독립변수로  $y$를 반응변수로 하여 적합한 중회귀모형 모델은 $\\beta_1\\neq0$, $\\beta_2=0$이다."
   ]
  },
  {
   "cell_type": "markdown",
   "id": "1301f099",
   "metadata": {
    "id": "1301f099"
   },
   "source": [
    "그러나 $x_1,x_2$ 각각의 경우를 $y$변수에 적합한 결과 $\\beta_i \\neq 0, \\quad i=\\{1,2\\}$를 보였다."
   ]
  },
  {
   "cell_type": "markdown",
   "id": "27982230",
   "metadata": {
    "id": "27982230"
   },
   "source": [
    "현재 $x_2= 0.5 \\times x_1 + \\varepsilon$의 형태이다."
   ]
  },
  {
   "cell_type": "markdown",
   "id": "37c285fe",
   "metadata": {
    "id": "37c285fe"
   },
   "source": [
    "즉 $x_2$와 $x_1$을 이미 선형관계를 전제했기 때문에 두 변수를 이용하여 $y$변수에 적합시킬 경우 다중공선성의 문제로 인하여 위와 같은 현상이 발생한다. 따라서 이는 모순이 아닌 합당한 결과이다. $x_1,x_2$는 선형의 관계이므로 주성분 분석을 이용하여 하나의 변수로 통합시킬 수 있다."
   ]
  },
  {
   "cell_type": "markdown",
   "id": "491e61c8",
   "metadata": {
    "id": "491e61c8"
   },
   "source": [
    "## (g)"
   ]
  },
  {
   "cell_type": "markdown",
   "id": "3a0906f9",
   "metadata": {
    "id": "3a0906f9"
   },
   "source": [
    "새로운 데이터가 관측되었다고 하자.(이 데이터는 잘못 측정된 것이다.)"
   ]
  },
  {
   "cell_type": "markdown",
   "id": "4a449cf7",
   "metadata": {
    "id": "4a449cf7"
   },
   "source": [
    "R\n",
    "```\n",
    "x1  <- c(x1,0.1)\n",
    "x2  <- c(x2,0.8)\n",
    "ㅛ <- c(y,6)\n",
    "```"
   ]
  },
  {
   "cell_type": "markdown",
   "id": "84309210",
   "metadata": {
    "id": "84309210"
   },
   "source": [
    "추가된 데이터를 이용하여 (c)-(e)를 다시 적합하여라. 결과가 어떻게 달라졌는가? 각 모형에서 새로\n",
    "운 데이터는 이상점인가?(잔차가 기존에 있는 데이터에 비해 많이 큰가?) 아니면 영향점인가?(추가된\n",
    "데이터로 인해 회귀계수의 값이 많이 바뀌었는가?) 설명하여라."
   ]
  },
  {
   "cell_type": "markdown",
   "id": "96ba09e5",
   "metadata": {
    "id": "96ba09e5"
   },
   "source": [
    "### Solution"
   ]
  },
  {
   "cell_type": "code",
   "execution_count": 9,
   "id": "b421ac16",
   "metadata": {
    "id": "b421ac16"
   },
   "outputs": [],
   "source": [
    "#collapse-hide\n",
    "x1  <- c(x1,0.1)\n",
    "x2  <- c(x2,0.8)\n",
    "y <- c(y,6)"
   ]
  },
  {
   "cell_type": "code",
   "execution_count": 12,
   "id": "f8a188f0",
   "metadata": {
    "id": "f8a188f0"
   },
   "outputs": [
    {
     "data": {
      "image/png": "[encoded data removed]",
      "text/plain": [
       "Plot with title \"추가후 y ~ x2\""
      ]
     },
     "metadata": {
      "image/png": {
       "height": 700,
       "width": 700
      }
     },
     "output_type": "display_data"
    }
   ],
   "source": [
    "f1 <- lm(y~x1+x2)\n",
    "f2 <- lm(y~x1)\n",
    "f3 <- lm(y~x2)\n",
    "\n",
    "\n",
    "par(mfrow=c(3,2))\n",
    "plot(fit2,1,main = \"추가전 y ~ x1+x2\")\n",
    "plot(f1,1,main = \"추가후 y ~ x1+x2\")\n",
    "\n",
    "plot(fit3,1,main = \"추가전 y ~ x1\")\n",
    "plot(f2,1,main = \"추가후 y ~ x1\")\n",
    "\n",
    "plot(fit4,1,main = \"추가전 y ~ x2\")\n",
    "plot(f3,1,main = \"추가후 y ~ x2\")"
   ]
  },
  {
   "cell_type": "markdown",
   "id": "ea9e1d4e",
   "metadata": {
    "id": "ea9e1d4e"
   },
   "source": [
    " ***"
   ]
  },
  {
   "cell_type": "markdown",
   "id": "dcc12ef7",
   "metadata": {},
   "source": [
    "- 해설 1 : 데이터 추가 후 잔차를 살펴본 결과 이상치로 판단되지 않는다."
   ]
  },
  {
   "cell_type": "markdown",
   "id": "78e6d29e",
   "metadata": {},
   "source": [
    "- 해설 2 : 데이터 추가 후 의 변화를 살펴본 결과  의 경우 데이터 추가 후 , 의 감소량이 눈에 띈다. 따라서 추가된 데이터는 영향치로 판단된다."
   ]
  },
  {
   "cell_type": "markdown",
   "id": "e96d8bc3",
   "metadata": {
    "id": "e96d8bc3"
   },
   "source": [
    "# Exercises for Logistic Regression\n"
   ]
  },
  {
   "cell_type": "markdown",
   "id": "0db5268b",
   "metadata": {
    "id": "0db5268b"
   },
   "source": [
    "## 1번"
   ]
  },
  {
   "cell_type": "markdown",
   "id": "51d79fd5",
   "metadata": {
    "id": "51d79fd5"
   },
   "source": [
    "두개의 설명변수 (X1 = 공부시간, X2 = 학부평점)를 이용하여 A학점을 받을 확률을 예측하기 위해 로지스틱 회귀모형을 적합하였다. 추정된 회귀계수는 $\\beta_0 = −6,\\, \\beta_1 = 0.05,\\, \\beta_2 = 1$이다.\n"
   ]
  },
  {
   "cell_type": "markdown",
   "id": "2c484d93",
   "metadata": {
    "id": "2c484d93"
   },
   "source": [
    "## (a)"
   ]
  },
  {
   "cell_type": "markdown",
   "id": "4120ca6e",
   "metadata": {
    "id": "4120ca6e"
   },
   "source": [
    " 40시간 공부하고, 평점이 3.5인 학생이 A를 받았을 확률을 예측하여라.\n"
   ]
  },
  {
   "cell_type": "markdown",
   "id": "cf40495b",
   "metadata": {
    "id": "cf40495b"
   },
   "source": [
    "### Solution"
   ]
  },
  {
   "cell_type": "markdown",
   "id": "9b37ab88",
   "metadata": {},
   "source": [
    "$$P(X) = \\frac {e^{\\beta_0+ \\beta_1x_1+\\beta_2 x_2}}{1+e^{\\beta_0+ \\beta_1 x_1 + \\beta_2 x_2}}$$"
   ]
  },
  {
   "cell_type": "markdown",
   "id": "06da495b",
   "metadata": {},
   "source": [
    "$$\\therefore \\quad P(X | x_1 = 40, x_2 = 3.5) = 0.377$$"
   ]
  },
  {
   "cell_type": "markdown",
   "id": "bc5c784c",
   "metadata": {
    "id": "bc5c784c"
   },
   "source": [
    "## (b)"
   ]
  },
  {
   "cell_type": "markdown",
   "id": "78d30880",
   "metadata": {
    "id": "78d30880"
   },
   "source": [
    "평점이 3.5인 학생은 얼마나 공부를 해야 A를 받을 확률이 50%를 넘을 것인가?\n"
   ]
  },
  {
   "cell_type": "markdown",
   "id": "0e3704f4",
   "metadata": {
    "id": "0e3704f4"
   },
   "source": [
    "### Solution"
   ]
  },
  {
   "cell_type": "code",
   "execution_count": 16,
   "id": "c693d051",
   "metadata": {},
   "outputs": [
    {
     "data": {
      "image/png": "[encoded data removed]",
      "text/plain": [
       "plot without title"
      ]
     },
     "metadata": {
      "image/png": {
       "height": 700,
       "width": 700
      }
     },
     "output_type": "display_data"
    }
   ],
   "source": [
    "#collapse-hide\n",
    "x1 <- 40:100\n",
    "x2 <- 3.5\n",
    "P_x <- (exp(-6+0.05*x1 + x2))/(1+exp(-6+0.05*x1 + x2))\n",
    "\n",
    "\n",
    "d <- tibble(x1,P_x) %>% mutate(label = ifelse(P_x>0.5,\"A\",\"not A\"))\n",
    "d %>% ggplot(aes(x=x1,y=P_x,color=label)) +\n",
    "        geom_label(aes(label= x1)) +\n",
    "        ggtitle(\"공부시간에 따른 학점변화\") +\n",
    "        theme(\n",
    "        plot.title = element_text(family = \"serif\", face = \"bold\", \n",
    "                              hjust = 0.5, size = 20, color = \"darkblue\"),\n",
    "      axis.text.x=element_text(size=15),\n",
    "      axis.text.y=element_text(size=15),\n",
    "      axis.title.x = element_text(size=18, hjust=0.5,color=\"darkblue\",\n",
    "                                  family = \"serif\",face = \"bold\"),\n",
    "      axis.title.y = element_text(size=18, hjust=0.5,color=\"darkblue\",\n",
    "                                family = \"serif\",face = \"bold\"),\n",
    "    )"
   ]
  },
  {
   "cell_type": "markdown",
   "id": "4e547713",
   "metadata": {
    "id": "4e547713"
   },
   "source": [
    "# 2번"
   ]
  },
  {
   "cell_type": "markdown",
   "id": "66472de1",
   "metadata": {
    "id": "66472de1"
   },
   "source": [
    "다음은 odds에 관한 문제이다."
   ]
  },
  {
   "cell_type": "markdown",
   "id": "180a1838",
   "metadata": {
    "id": "180a1838"
   },
   "source": [
    "## (a)"
   ]
  },
  {
   "cell_type": "markdown",
   "id": "e22b2075",
   "metadata": {
    "id": "e22b2075"
   },
   "source": [
    "신용카드결재 문제에서 결재를 하지 못하는 경우(default)에 대한 odds가 0.37인 사람들이 실제로\n",
    "defalut할 확률은 평균적으로 얼마인가?\n"
   ]
  },
  {
   "cell_type": "markdown",
   "id": "f1e8b090",
   "metadata": {
    "id": "f1e8b090"
   },
   "source": [
    "### Solution"
   ]
  },
  {
   "cell_type": "markdown",
   "id": "1ac69130",
   "metadata": {},
   "source": [
    "$$Odds = \\frac{p}{1-p}  \\to E(Y=default| X)=p  = \\frac {Odds}{1+Odds}$$"
   ]
  },
  {
   "cell_type": "markdown",
   "id": "2ae6106e",
   "metadata": {},
   "source": [
    "$$p = \\frac{0.37}{1+0.37}= 0.270073$$"
   ]
  },
  {
   "cell_type": "markdown",
   "id": "66e30b87",
   "metadata": {
    "id": "66e30b87"
   },
   "source": [
    "## (b)"
   ]
  },
  {
   "cell_type": "markdown",
   "id": "2fd4c969",
   "metadata": {
    "id": "2fd4c969"
   },
   "source": [
    "어떤 개인이 default할 확률이 16% 라고 하자. 그 사람이 default할 odds는 얼마인가?"
   ]
  },
  {
   "cell_type": "markdown",
   "id": "1048581d",
   "metadata": {
    "id": "1048581d"
   },
   "source": [
    "### Solution"
   ]
  },
  {
   "cell_type": "markdown",
   "id": "134e7654",
   "metadata": {},
   "source": [
    "$$Odds =\\frac {0.16}{1-0.16} = 0.1904$$"
   ]
  }
 ],
 "metadata": {
  "colab": {
   "name": "2022-03-30-(4주차) 과제.ipynb",
   "provenance": []
  },
  "kernelspec": {
   "display_name": "R",
   "language": "R",
   "name": "ir"
  },
  "language_info": {
   "codemirror_mode": "r",
   "file_extension": ".r",
   "mimetype": "text/x-r-source",
   "name": "R",
   "pygments_lexer": "r",
   "version": "4.1.2"
  },
  "toc": {
   "base_numbering": 1,
   "nav_menu": {},
   "number_sections": false,
   "sideBar": true,
   "skip_h1_title": false,
   "title_cell": "Table of Contents",
   "title_sidebar": "Contents",
   "toc_cell": false,
   "toc_position": {
    "height": "calc(100% - 180px)",
    "left": "10px",
    "top": "150px",
    "width": "349.091px"
   },
   "toc_section_display": true,
   "toc_window_display": true
  }
 },
 "nbformat": 4,
 "nbformat_minor": 5
}
