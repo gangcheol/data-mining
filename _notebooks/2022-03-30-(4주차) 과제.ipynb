{
 "cells": [
  {
   "cell_type": "markdown",
   "id": "1e5cb024",
   "metadata": {},
   "source": [
    "# (4주차) 과제\n",
    "- toc:true\n",
    "- branch: master\n",
    "- badges: true\n",
    "- comments: true\n",
    "- editor : 이강철\n",
    "- published : true\n",
    "- hide : false"
   ]
  },
  {
   "cell_type": "markdown",
   "id": "ca8d9388",
   "metadata": {},
   "source": [
    "# 1번"
   ]
  },
  {
   "cell_type": "markdown",
   "id": "36a0afd8",
   "metadata": {},
   "source": [
    "설명변수가 1개($X$)이고, 반응변수가 1개($Y$)인데이터를 가지고 있다고 하자. $(n = 100)$ 그리고 다음의 두\n",
    "모형(linear regression, cubic regression)을 적합시키려고 한다.\n"
   ]
  },
  {
   "cell_type": "markdown",
   "id": "dc3710c0",
   "metadata": {},
   "source": [
    "$$Y = \\beta_{0}+\\beta_{1}X + \\varepsilon$$"
   ]
  },
  {
   "cell_type": "markdown",
   "id": "8cccd188",
   "metadata": {},
   "source": [
    "$$Y = \\beta_{0}+\\beta_{1}X +\\beta_{2}X^2+\\beta_{3}X 3+ \\varepsilon$$"
   ]
  },
  {
   "cell_type": "markdown",
   "id": "4dafef33",
   "metadata": {},
   "source": [
    "## (a)"
   ]
  },
  {
   "cell_type": "markdown",
   "id": "1d3dfafc",
   "metadata": {},
   "source": [
    "실제 $X,Y$가 선형(linear)관계가 있다고 가정 하자. 모델 (1),(2)의 SSE(잔차제곱합)의 크기를 비교할\n",
    "수 있는지 설명하여라.\n"
   ]
  },
  {
   "cell_type": "markdown",
   "id": "61c16919",
   "metadata": {},
   "source": [
    "### Solution"
   ]
  },
  {
   "cell_type": "markdown",
   "id": "7429a91d",
   "metadata": {},
   "source": [
    "## (b)"
   ]
  },
  {
   "cell_type": "markdown",
   "id": "03e5f17f",
   "metadata": {},
   "source": [
    "실제 $X, Y$ 가 비선형(non-linear)관계가 있다고 가정 하자. 대신 실제 모형에 대한 정보는 없다. 모델\n",
    "(1),(2)의 $SSE$(잔차제곱합)의 크기를 비교할 수 있는지 설명하여라.\n"
   ]
  },
  {
   "cell_type": "markdown",
   "id": "fecac4f6",
   "metadata": {},
   "source": [
    "### Solution"
   ]
  },
  {
   "cell_type": "markdown",
   "id": "334125d2",
   "metadata": {},
   "source": [
    "***"
   ]
  },
  {
   "cell_type": "markdown",
   "id": "29f8553e",
   "metadata": {},
   "source": [
    "# 2번"
   ]
  },
  {
   "cell_type": "markdown",
   "id": "d36cf07d",
   "metadata": {},
   "source": [
    "’Auto.csv’ 데이터를 이용하여 단순선형 회귀 모형을 적합한다."
   ]
  },
  {
   "cell_type": "code",
   "execution_count": 12,
   "id": "43cb4a65",
   "metadata": {},
   "outputs": [
    {
     "name": "stderr",
     "output_type": "stream",
     "text": [
      "\u001b[1mRows: \u001b[22m\u001b[34m397\u001b[39m \u001b[1mColumns: \u001b[22m\u001b[34m9\u001b[39m\n",
      "\n",
      "\u001b[36m--\u001b[39m \u001b[1mColumn specification\u001b[22m \u001b[36m------------------------------------------------------------------------------------------------\u001b[39m\n",
      "\u001b[1mDelimiter:\u001b[22m \",\"\n",
      "\u001b[31mchr\u001b[39m (2): horsepower, name\n",
      "\u001b[32mdbl\u001b[39m (7): mpg, cylinders, displacement, weight, acceleration, year, origin\n",
      "\n",
      "\n",
      "\u001b[36mi\u001b[39m Use \u001b[30m\u001b[47m\u001b[30m\u001b[47m`spec()`\u001b[47m\u001b[30m\u001b[49m\u001b[39m to retrieve the full column specification for this data.\n",
      "\u001b[36mi\u001b[39m Specify the column types or set \u001b[30m\u001b[47m\u001b[30m\u001b[47m`show_col_types = FALSE`\u001b[47m\u001b[30m\u001b[49m\u001b[39m to quiet this message.\n",
      "\n"
     ]
    },
    {
     "name": "stdout",
     "output_type": "stream",
     "text": [
      "Rows: 397\n",
      "Columns: 9\n",
      "$ mpg          \u001b[3m\u001b[90m<dbl>\u001b[39m\u001b[23m 18, 15, 18, 16, 17, 15, 14, 14, 14, 15, 15, 14, 15, 14, 2~\n",
      "$ cylinders    \u001b[3m\u001b[90m<dbl>\u001b[39m\u001b[23m 8, 8, 8, 8, 8, 8, 8, 8, 8, 8, 8, 8, 8, 8, 4, 6, 6, 6, 4, ~\n",
      "$ displacement \u001b[3m\u001b[90m<dbl>\u001b[39m\u001b[23m 307, 350, 318, 304, 302, 429, 454, 440, 455, 390, 383, 34~\n",
      "$ horsepower   \u001b[3m\u001b[90m<chr>\u001b[39m\u001b[23m \"130\", \"165\", \"150\", \"150\", \"140\", \"198\", \"220\", \"215\", \"~\n",
      "$ weight       \u001b[3m\u001b[90m<dbl>\u001b[39m\u001b[23m 3504, 3693, 3436, 3433, 3449, 4341, 4354, 4312, 4425, 385~\n",
      "$ acceleration \u001b[3m\u001b[90m<dbl>\u001b[39m\u001b[23m 12.0, 11.5, 11.0, 12.0, 10.5, 10.0, 9.0, 8.5, 10.0, 8.5, ~\n",
      "$ year         \u001b[3m\u001b[90m<dbl>\u001b[39m\u001b[23m 70, 70, 70, 70, 70, 70, 70, 70, 70, 70, 70, 70, 70, 70, 7~\n",
      "$ origin       \u001b[3m\u001b[90m<dbl>\u001b[39m\u001b[23m 1, 1, 1, 1, 1, 1, 1, 1, 1, 1, 1, 1, 1, 1, 3, 1, 1, 1, 3, ~\n",
      "$ name         \u001b[3m\u001b[90m<chr>\u001b[39m\u001b[23m \"chevrolet chevelle malibu\", \"buick skylark 320\", \"plymou~\n"
     ]
    }
   ],
   "source": [
    "library(tidyverse)\n",
    "data  <- read_csv(\"Auto(1).csv\")\n",
    "glimpse(data)"
   ]
  },
  {
   "cell_type": "markdown",
   "id": "9c49c645",
   "metadata": {},
   "source": [
    "## (a)"
   ]
  },
  {
   "cell_type": "markdown",
   "id": "5c669fb6",
   "metadata": {},
   "source": [
    "반응변수 mpg, 설명변수는 horsepower로 하는 단순선형회귀모형을 적합 시킨 후 summary() 함수의\n",
    "결과 확인하고 다음의 물음에 답하여라."
   ]
  },
  {
   "cell_type": "markdown",
   "id": "681f560a",
   "metadata": {},
   "source": [
    "### (i)"
   ]
  },
  {
   "cell_type": "markdown",
   "id": "511b9681",
   "metadata": {},
   "source": [
    "두 변수 사이에 관계가 있는가?\n"
   ]
  },
  {
   "cell_type": "markdown",
   "id": "989f3d2a",
   "metadata": {},
   "source": [
    "#### Solution"
   ]
  },
  {
   "cell_type": "markdown",
   "id": "4fa913fb",
   "metadata": {},
   "source": [
    "### (ii)"
   ]
  },
  {
   "cell_type": "markdown",
   "id": "34e0f4a4",
   "metadata": {},
   "source": [
    "#### Solution"
   ]
  },
  {
   "cell_type": "markdown",
   "id": "18ce982b",
   "metadata": {},
   "source": [
    "두 변수 사이의 관계는 얼마나 강한가?\n"
   ]
  },
  {
   "cell_type": "markdown",
   "id": "8592e860",
   "metadata": {},
   "source": [
    "### (iii)"
   ]
  },
  {
   "cell_type": "markdown",
   "id": "c33e3d0e",
   "metadata": {},
   "source": [
    "#### Solution"
   ]
  },
  {
   "cell_type": "markdown",
   "id": "e665df0f",
   "metadata": {},
   "source": [
    "horsepower의 값이 98일 때, mpg의 예측값은 무엇인가 95% 신뢰구간은 무엇인가?"
   ]
  },
  {
   "cell_type": "markdown",
   "id": "efb8f4d3",
   "metadata": {},
   "source": [
    "### (iv)"
   ]
  },
  {
   "cell_type": "markdown",
   "id": "f8e46453",
   "metadata": {},
   "source": [
    "#### Solution"
   ]
  },
  {
   "cell_type": "markdown",
   "id": "bacd7419",
   "metadata": {},
   "source": [
    "## (b)"
   ]
  },
  {
   "cell_type": "markdown",
   "id": "09098a5c",
   "metadata": {},
   "source": [
    "설명변수와 반응변수의 산점도를 그리고, 회귀직선을 추가하여라. (abline() 사용)"
   ]
  },
  {
   "cell_type": "markdown",
   "id": "a9f1bbc2",
   "metadata": {},
   "source": [
    "### Solution"
   ]
  },
  {
   "cell_type": "markdown",
   "id": "242e8315",
   "metadata": {},
   "source": [
    "***"
   ]
  },
  {
   "cell_type": "markdown",
   "id": "057f15d6",
   "metadata": {},
   "source": [
    "# 3번"
   ]
  },
  {
   "cell_type": "markdown",
   "id": "a58c36e0",
   "metadata": {},
   "source": [
    "이 문제는 다중공선성(collinearity)에 관련한 것이다."
   ]
  },
  {
   "cell_type": "markdown",
   "id": "84899fc9",
   "metadata": {},
   "source": [
    "## (a)"
   ]
  },
  {
   "cell_type": "markdown",
   "id": "2198e224",
   "metadata": {},
   "source": [
    "R\n",
    "```\n",
    "set.seed(1)\n",
    "x1 = runif(100)\n",
    "x2 = 0.5*x1 + rnorm(100)/10\n",
    "y  = 2 + 2*x1+0.3*x2 + rnorm(100)\n",
    "```"
   ]
  },
  {
   "cell_type": "markdown",
   "id": "44b11616",
   "metadata": {},
   "source": [
    "마지막 줄이 두개의 설명변수를 이용한 중회귀모형이다. 회귀모형을 쓰시오. ($\\beta$ 등을 이용하여)"
   ]
  },
  {
   "cell_type": "markdown",
   "id": "bd158914",
   "metadata": {},
   "source": [
    "### Solution "
   ]
  },
  {
   "cell_type": "markdown",
   "id": "47b845f9",
   "metadata": {},
   "source": [
    "## (b)"
   ]
  },
  {
   "cell_type": "markdown",
   "id": "b821ffaa",
   "metadata": {},
   "source": [
    "두 설명변수 $x_1$과 $x_2$ 사이에 상관관계(correlation)이 있는가? 산점도를 그려서 확인하여라"
   ]
  },
  {
   "cell_type": "markdown",
   "id": "1badeab8",
   "metadata": {},
   "source": [
    "### Solution"
   ]
  },
  {
   "cell_type": "markdown",
   "id": "195564cd",
   "metadata": {},
   "source": [
    "## (c)"
   ]
  },
  {
   "cell_type": "markdown",
   "id": "99f4b117",
   "metadata": {},
   "source": [
    "생성된 데이터를 이용하여 (a) 모형의 회귀계수를 추정하여라. 실제 회귀계수와 추정된 회귀계수와\n",
    "비교하여라. $H_0 : \\beta_1 = 0$을 기각할 수 있는가? $H_1 : \\beta_2 = 0$을 기각할 수 있는가?"
   ]
  },
  {
   "cell_type": "markdown",
   "id": "73287d8f",
   "metadata": {},
   "source": [
    "### Solution"
   ]
  },
  {
   "cell_type": "markdown",
   "id": "5405880a",
   "metadata": {},
   "source": [
    "## (d)"
   ]
  },
  {
   "cell_type": "markdown",
   "id": "6f5688e0",
   "metadata": {},
   "source": [
    "이번에는 $x_1$만을 이용한 단순선형회귀 모형을 적합하여라. 결과를 분석하여라. $H_0 : \\beta_1 = 0$을 기각할\n",
    "수 있는가"
   ]
  },
  {
   "cell_type": "markdown",
   "id": "d67089d7",
   "metadata": {},
   "source": [
    "### Solution"
   ]
  },
  {
   "cell_type": "markdown",
   "id": "6209041c",
   "metadata": {},
   "source": [
    "## (e)"
   ]
  },
  {
   "cell_type": "markdown",
   "id": "093b9ad4",
   "metadata": {},
   "source": [
    "이번에는 $x_2$만을 이용한 단순선형회귀 모형을 적합하여라. 결과를 분석하여라. $H_0 : \\beta_2 = 0$을 기각할\n",
    "수 있는가?\n"
   ]
  },
  {
   "cell_type": "markdown",
   "id": "f000a409",
   "metadata": {},
   "source": [
    "### Solution"
   ]
  },
  {
   "cell_type": "markdown",
   "id": "19957082",
   "metadata": {},
   "source": [
    "## (f)"
   ]
  },
  {
   "cell_type": "markdown",
   "id": "ac17b14a",
   "metadata": {},
   "source": [
    "(c)-(e)의 결과가 서로 모순되는가? 설명하여라."
   ]
  },
  {
   "cell_type": "markdown",
   "id": "ccd08694",
   "metadata": {},
   "source": [
    "### Solution"
   ]
  },
  {
   "cell_type": "markdown",
   "id": "51006b23",
   "metadata": {},
   "source": [
    "## (g)"
   ]
  },
  {
   "cell_type": "markdown",
   "id": "b8f1ff15",
   "metadata": {},
   "source": [
    "새로운 데이터가 관측되었다고 하자.(이 데이터는 잘못 측정된 것이다.)"
   ]
  },
  {
   "cell_type": "markdown",
   "id": "d045752f",
   "metadata": {},
   "source": [
    "R\n",
    "```\n",
    "x1  <- c(x1,0.1)\n",
    "x2  <- c(x2,0.8)\n",
    "\n",
    "```"
   ]
  },
  {
   "cell_type": "markdown",
   "id": "2c1175e8",
   "metadata": {},
   "source": [
    "추가된 데이터를 이용하여 (c)-(e)를 다시 적합하여라. 결과가 어떻게 달라졌는가? 각 모형에서 새로\n",
    "운 데이터는 이상점인가?(잔차가 기존에 있는 데이터에 비해 많이 큰가?) 아니면 영향점인가?(추가된\n",
    "데이터로 인해 회귀계수의 값이 많이 바뀌었는가?) 설명하여라."
   ]
  },
  {
   "cell_type": "markdown",
   "id": "f511a644",
   "metadata": {},
   "source": [
    "### Solution"
   ]
  },
  {
   "cell_type": "markdown",
   "id": "441fa06a",
   "metadata": {},
   "source": [
    "***"
   ]
  },
  {
   "cell_type": "markdown",
   "id": "1c71df84",
   "metadata": {},
   "source": [
    "# Exercises for Logistic Regression\n"
   ]
  },
  {
   "cell_type": "markdown",
   "id": "bed05332",
   "metadata": {},
   "source": [
    "## 1번"
   ]
  },
  {
   "cell_type": "markdown",
   "id": "32e6faf7",
   "metadata": {},
   "source": [
    "두개의 설명변수 (X1 = 공부시간, X2 = 학부평점)를 이용하여 A학점을 받을 확률을 예측하기 위해 로지스틱 회귀모형을 적합하였다. 추정된 회귀계수는 $\\beta_0 = −6,\\, \\beta_1 = 0.05,\\, \\beta_2 = 1$이다.\n"
   ]
  },
  {
   "cell_type": "markdown",
   "id": "4766e01e",
   "metadata": {},
   "source": [
    "## (a)"
   ]
  },
  {
   "cell_type": "markdown",
   "id": "deeb7de2",
   "metadata": {},
   "source": [
    " 40시간 공부하고, 평점이 3.5인 학생이 A를 받았을 확률을 예측하여라.\n"
   ]
  },
  {
   "cell_type": "markdown",
   "id": "9e0d3d9d",
   "metadata": {},
   "source": [
    "### Solution"
   ]
  },
  {
   "cell_type": "markdown",
   "id": "9e0a64a2",
   "metadata": {},
   "source": [
    "## (b)"
   ]
  },
  {
   "cell_type": "markdown",
   "id": "e21dbedb",
   "metadata": {},
   "source": [
    "평점이 3.5인 학생은 얼마나 공부를 해야 A를 받을 확률이 50%를 넘을 것인가?\n"
   ]
  },
  {
   "cell_type": "markdown",
   "id": "e310d116",
   "metadata": {},
   "source": [
    "### Solution"
   ]
  },
  {
   "cell_type": "markdown",
   "id": "a829670d",
   "metadata": {},
   "source": [
    "# 2번"
   ]
  },
  {
   "cell_type": "markdown",
   "id": "d96b526d",
   "metadata": {},
   "source": [
    "다음은 odds에 관한 문제이다."
   ]
  },
  {
   "cell_type": "markdown",
   "id": "b5346582",
   "metadata": {},
   "source": [
    "## (a)"
   ]
  },
  {
   "cell_type": "markdown",
   "id": "9db95157",
   "metadata": {},
   "source": [
    "신용카드결재 문제에서 결재를 하지 못하는 경우(default)에 대한 odds가 0.37인 사람들이 실제로\n",
    "defalut할 확률은 평균적으로 얼마인가?\n"
   ]
  },
  {
   "cell_type": "markdown",
   "id": "c5cfcf81",
   "metadata": {},
   "source": [
    "### Solution"
   ]
  },
  {
   "cell_type": "markdown",
   "id": "bf14410c",
   "metadata": {},
   "source": [
    "## (b)"
   ]
  },
  {
   "cell_type": "markdown",
   "id": "09d194f7",
   "metadata": {},
   "source": [
    "어떤 개인이 default할 확률이 16% 라고 하자. 그 사람이 default할 odds는 얼마인가?"
   ]
  },
  {
   "cell_type": "markdown",
   "id": "37619615",
   "metadata": {},
   "source": [
    "### Solution"
   ]
  }
 ],
 "metadata": {
  "kernelspec": {
   "display_name": "R",
   "language": "R",
   "name": "ir"
  },
  "language_info": {
   "codemirror_mode": "r",
   "file_extension": ".r",
   "mimetype": "text/x-r-source",
   "name": "R",
   "pygments_lexer": "r",
   "version": "4.1.2"
  },
  "toc": {
   "base_numbering": 1,
   "nav_menu": {},
   "number_sections": false,
   "sideBar": true,
   "skip_h1_title": false,
   "title_cell": "Table of Contents",
   "title_sidebar": "Contents",
   "toc_cell": false,
   "toc_position": {},
   "toc_section_display": true,
   "toc_window_display": true
  }
 },
 "nbformat": 4,
 "nbformat_minor": 5
}
