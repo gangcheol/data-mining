{
 "cells": [
  {
   "cell_type": "markdown",
   "id": "90047028",
   "metadata": {},
   "source": [
    "# (4주차) 과제\n",
    "- toc:true\n",
    "- branch: master\n",
    "- badges: true\n",
    "- comments: true\n",
    "- editor : 이강철\n",
    "- published : true\n",
    "- hide : false"
   ]
  },
  {
   "cell_type": "markdown",
   "id": "799fe3ce",
   "metadata": {},
   "source": [
    "# 1번"
   ]
  },
  {
   "cell_type": "markdown",
   "id": "8e89a889",
   "metadata": {},
   "source": [
    "설명변수가 1개($X$)이고, 반응변수가 1개($Y$)인데이터를 가지고 있다고 하자. $(n = 100)$ 그리고 다음의 두\n",
    "모형(linear regression, cubic regression)을 적합시키려고 한다.\n"
   ]
  },
  {
   "cell_type": "markdown",
   "id": "b2c6ac46",
   "metadata": {},
   "source": [
    "$$Y = \\beta_{0}+\\beta_{1}X + \\varepsilon$$"
   ]
  },
  {
   "cell_type": "markdown",
   "id": "50d351f4",
   "metadata": {},
   "source": [
    "$$Y = \\beta_{0}+\\beta_{1}X +\\beta_{2}X^2+\\beta_{3}X 3+ \\varepsilon$$"
   ]
  },
  {
   "cell_type": "markdown",
   "id": "db222e22",
   "metadata": {},
   "source": [
    "## (a)"
   ]
  },
  {
   "cell_type": "markdown",
   "id": "d7f6d09a",
   "metadata": {},
   "source": [
    "실제 $X,Y$가 선형(linear)관계가 있다고 가정 하자. 모델 (1),(2)의 SSE(잔차제곱합)의 크기를 비교할\n",
    "수 있는지 설명하여라.\n"
   ]
  },
  {
   "cell_type": "markdown",
   "id": "40b24705",
   "metadata": {},
   "source": [
    "### Solution"
   ]
  },
  {
   "cell_type": "markdown",
   "id": "d76add61",
   "metadata": {},
   "source": [
    "## (b)"
   ]
  },
  {
   "cell_type": "markdown",
   "id": "d2047ef8",
   "metadata": {},
   "source": [
    "실제 $X, Y$ 가 비선형(non-linear)관계가 있다고 가정 하자. 대신 실제 모형에 대한 정보는 없다. 모델\n",
    "(1),(2)의 $SSE$(잔차제곱합)의 크기를 비교할 수 있는지 설명하여라.\n"
   ]
  },
  {
   "cell_type": "markdown",
   "id": "1bb8841a",
   "metadata": {},
   "source": [
    "### Solution"
   ]
  },
  {
   "cell_type": "markdown",
   "id": "5b0951f4",
   "metadata": {},
   "source": [
    "***"
   ]
  },
  {
   "cell_type": "markdown",
   "id": "6e79860f",
   "metadata": {},
   "source": [
    "# 2번"
   ]
  },
  {
   "cell_type": "markdown",
   "id": "8526cfb9",
   "metadata": {},
   "source": [
    "’Auto.csv’ 데이터를 이용하여 단순선형 회귀 모형을 적합한다."
   ]
  },
  {
   "cell_type": "markdown",
   "id": "1d622269",
   "metadata": {},
   "source": [
    "(자료형 변환 후 결측치 제거)"
   ]
  },
  {
   "cell_type": "code",
   "execution_count": 14,
   "id": "dc07d973",
   "metadata": {},
   "outputs": [
    {
     "name": "stderr",
     "output_type": "stream",
     "text": [
      "\u001b[1mRows: \u001b[22m\u001b[34m397\u001b[39m \u001b[1mColumns: \u001b[22m\u001b[34m9\u001b[39m\n",
      "\n",
      "\u001b[36m--\u001b[39m \u001b[1mColumn specification\u001b[22m \u001b[36m------------------------------------------------------------------------------------------------\u001b[39m\n",
      "\u001b[1mDelimiter:\u001b[22m \",\"\n",
      "\u001b[31mchr\u001b[39m (2): horsepower, name\n",
      "\u001b[32mdbl\u001b[39m (7): mpg, cylinders, displacement, weight, acceleration, year, origin\n",
      "\n",
      "\n",
      "\u001b[36mi\u001b[39m Use \u001b[30m\u001b[47m\u001b[30m\u001b[47m`spec()`\u001b[47m\u001b[30m\u001b[49m\u001b[39m to retrieve the full column specification for this data.\n",
      "\u001b[36mi\u001b[39m Specify the column types or set \u001b[30m\u001b[47m\u001b[30m\u001b[47m`show_col_types = FALSE`\u001b[47m\u001b[30m\u001b[49m\u001b[39m to quiet this message.\n",
      "\n",
      "Warning message in eval(expr, envir, enclos):\n",
      "\"강제형변환에 의해 생성된 NA 입니다\"\n"
     ]
    },
    {
     "name": "stdout",
     "output_type": "stream",
     "text": [
      "Rows: 397\n",
      "Columns: 9\n",
      "$ mpg          \u001b[3m\u001b[90m<dbl>\u001b[39m\u001b[23m 18, 15, 18, 16, 17, 15, 14, 14, 14, 15, 15, 14, 15, 14, 2~\n",
      "$ cylinders    \u001b[3m\u001b[90m<dbl>\u001b[39m\u001b[23m 8, 8, 8, 8, 8, 8, 8, 8, 8, 8, 8, 8, 8, 8, 4, 6, 6, 6, 4, ~\n",
      "$ displacement \u001b[3m\u001b[90m<dbl>\u001b[39m\u001b[23m 307, 350, 318, 304, 302, 429, 454, 440, 455, 390, 383, 34~\n",
      "$ horsepower   \u001b[3m\u001b[90m<dbl>\u001b[39m\u001b[23m 130, 165, 150, 150, 140, 198, 220, 215, 225, 190, 170, 16~\n",
      "$ weight       \u001b[3m\u001b[90m<dbl>\u001b[39m\u001b[23m 3504, 3693, 3436, 3433, 3449, 4341, 4354, 4312, 4425, 385~\n",
      "$ acceleration \u001b[3m\u001b[90m<dbl>\u001b[39m\u001b[23m 12.0, 11.5, 11.0, 12.0, 10.5, 10.0, 9.0, 8.5, 10.0, 8.5, ~\n",
      "$ year         \u001b[3m\u001b[90m<dbl>\u001b[39m\u001b[23m 70, 70, 70, 70, 70, 70, 70, 70, 70, 70, 70, 70, 70, 70, 7~\n",
      "$ origin       \u001b[3m\u001b[90m<dbl>\u001b[39m\u001b[23m 1, 1, 1, 1, 1, 1, 1, 1, 1, 1, 1, 1, 1, 1, 3, 1, 1, 1, 3, ~\n",
      "$ name         \u001b[3m\u001b[90m<chr>\u001b[39m\u001b[23m \"chevrolet chevelle malibu\", \"buick skylark 320\", \"plymou~\n"
     ]
    }
   ],
   "source": [
    "library(tidyverse)\n",
    "data  <- read_csv(\"Auto(1).csv\")\n",
    "data$horsepower <- as.numeric(data$horsepower)\n",
    "glimpse(data)"
   ]
  },
  {
   "cell_type": "code",
   "execution_count": 15,
   "id": "e4cf7ebc",
   "metadata": {},
   "outputs": [
    {
     "data": {
      "text/plain": [
       "      mpg          cylinders      displacement     horsepower        weight    \n",
       " Min.   : 9.00   Min.   :3.000   Min.   : 68.0   Min.   : 46.0   Min.   :1613  \n",
       " 1st Qu.:17.50   1st Qu.:4.000   1st Qu.:104.0   1st Qu.: 75.0   1st Qu.:2223  \n",
       " Median :23.00   Median :4.000   Median :146.0   Median : 93.5   Median :2800  \n",
       " Mean   :23.52   Mean   :5.458   Mean   :193.5   Mean   :104.5   Mean   :2970  \n",
       " 3rd Qu.:29.00   3rd Qu.:8.000   3rd Qu.:262.0   3rd Qu.:126.0   3rd Qu.:3609  \n",
       " Max.   :46.60   Max.   :8.000   Max.   :455.0   Max.   :230.0   Max.   :5140  \n",
       "                                                 NA's   :5                     \n",
       "  acceleration        year           origin          name          \n",
       " Min.   : 8.00   Min.   :70.00   Min.   :1.000   Length:397        \n",
       " 1st Qu.:13.80   1st Qu.:73.00   1st Qu.:1.000   Class :character  \n",
       " Median :15.50   Median :76.00   Median :1.000   Mode  :character  \n",
       " Mean   :15.56   Mean   :75.99   Mean   :1.574                     \n",
       " 3rd Qu.:17.10   3rd Qu.:79.00   3rd Qu.:2.000                     \n",
       " Max.   :24.80   Max.   :82.00   Max.   :3.000                     \n",
       "                                                                   "
      ]
     },
     "metadata": {},
     "output_type": "display_data"
    }
   ],
   "source": [
    "summary(data)"
   ]
  },
  {
   "cell_type": "code",
   "execution_count": 19,
   "id": "87ae163d",
   "metadata": {},
   "outputs": [],
   "source": [
    "data <- na.omit(data)"
   ]
  },
  {
   "cell_type": "markdown",
   "id": "5b2c5cc0",
   "metadata": {},
   "source": [
    "## (a)"
   ]
  },
  {
   "cell_type": "markdown",
   "id": "be77e01f",
   "metadata": {},
   "source": [
    "반응변수 mpg, 설명변수는 horsepower로 하는 단순선형회귀모형을 적합 시킨 후 summary() 함수의\n",
    "결과 확인하고 다음의 물음에 답하여라."
   ]
  },
  {
   "cell_type": "code",
   "execution_count": 20,
   "id": "68a5334a",
   "metadata": {},
   "outputs": [
    {
     "data": {
      "text/plain": [
       "\n",
       "Call:\n",
       "lm(formula = mpg ~ horsepower, data = data)\n",
       "\n",
       "Residuals:\n",
       "     Min       1Q   Median       3Q      Max \n",
       "-13.5710  -3.2592  -0.3435   2.7630  16.9240 \n",
       "\n",
       "Coefficients:\n",
       "             Estimate Std. Error t value Pr(>|t|)    \n",
       "(Intercept) 39.935861   0.717499   55.66   <2e-16 ***\n",
       "horsepower  -0.157845   0.006446  -24.49   <2e-16 ***\n",
       "---\n",
       "Signif. codes:  0 '***' 0.001 '**' 0.01 '*' 0.05 '.' 0.1 ' ' 1\n",
       "\n",
       "Residual standard error: 4.906 on 390 degrees of freedom\n",
       "Multiple R-squared:  0.6059,\tAdjusted R-squared:  0.6049 \n",
       "F-statistic: 599.7 on 1 and 390 DF,  p-value: < 2.2e-16\n"
      ]
     },
     "metadata": {},
     "output_type": "display_data"
    }
   ],
   "source": [
    "fit1 <- lm(mpg~horsepower,data)\n",
    "summary(fit1)"
   ]
  },
  {
   "cell_type": "markdown",
   "id": "013f69f4",
   "metadata": {},
   "source": [
    "### (i)"
   ]
  },
  {
   "cell_type": "markdown",
   "id": "6ee7681a",
   "metadata": {},
   "source": [
    "두 변수 사이에 관계가 있는가?\n"
   ]
  },
  {
   "cell_type": "markdown",
   "id": "524e39a2",
   "metadata": {},
   "source": [
    "#### Solution"
   ]
  },
  {
   "cell_type": "markdown",
   "id": "4af5d0a7",
   "metadata": {},
   "source": [
    "t 통계량에 근거한 p-value 값을 살펴본 결과 두 변수는 통계적으로 유의미한 선형관계에 있다"
   ]
  },
  {
   "cell_type": "markdown",
   "id": "f3d5c393",
   "metadata": {},
   "source": [
    "### (ii)"
   ]
  },
  {
   "cell_type": "markdown",
   "id": "ee7498af",
   "metadata": {},
   "source": [
    "두 변수 사이의 관계는 얼마나 강한가?\n"
   ]
  },
  {
   "cell_type": "markdown",
   "id": "f52e3cd7",
   "metadata": {},
   "source": [
    "#### Solution"
   ]
  },
  {
   "cell_type": "code",
   "execution_count": 21,
   "id": "f703a73e",
   "metadata": {},
   "outputs": [
    {
     "data": {
      "text/plain": [
       "\n",
       "Call:\n",
       "lm(formula = mpg ~ horsepower, data = data)\n",
       "\n",
       "Residuals:\n",
       "     Min       1Q   Median       3Q      Max \n",
       "-13.5710  -3.2592  -0.3435   2.7630  16.9240 \n",
       "\n",
       "Coefficients:\n",
       "             Estimate Std. Error t value Pr(>|t|)    \n",
       "(Intercept) 39.935861   0.717499   55.66   <2e-16 ***\n",
       "horsepower  -0.157845   0.006446  -24.49   <2e-16 ***\n",
       "---\n",
       "Signif. codes:  0 '***' 0.001 '**' 0.01 '*' 0.05 '.' 0.1 ' ' 1\n",
       "\n",
       "Residual standard error: 4.906 on 390 degrees of freedom\n",
       "Multiple R-squared:  0.6059,\tAdjusted R-squared:  0.6049 \n",
       "F-statistic: 599.7 on 1 and 390 DF,  p-value: < 2.2e-16\n"
      ]
     },
     "metadata": {},
     "output_type": "display_data"
    }
   ],
   "source": [
    "summary(fit1)"
   ]
  },
  {
   "cell_type": "markdown",
   "id": "5ef17ea1",
   "metadata": {},
   "source": [
    "horsepower 변수가 1씩 증가할 때 mpg 변수는 -0.1575 만큼 감소한다."
   ]
  },
  {
   "cell_type": "markdown",
   "id": "8d8fe3dd",
   "metadata": {},
   "source": [
    "### (iii)"
   ]
  },
  {
   "cell_type": "markdown",
   "id": "12b69493",
   "metadata": {},
   "source": [
    "두 변수는 음의 관계가 있는가? 양의 관계가 있는가?"
   ]
  },
  {
   "cell_type": "markdown",
   "id": "0f588681",
   "metadata": {},
   "source": [
    "#### Solution"
   ]
  },
  {
   "cell_type": "markdown",
   "id": "075d9a14",
   "metadata": {},
   "source": [
    "추정된 $\\beta_1$을 보았을 때 음의 관계이다."
   ]
  },
  {
   "cell_type": "markdown",
   "id": "b00a2f89",
   "metadata": {},
   "source": [
    "### (iv)"
   ]
  },
  {
   "cell_type": "markdown",
   "id": "b2316bd2",
   "metadata": {},
   "source": [
    "horsepower의 값이 98일 때, mpg의 예측값은 무엇인가 95% 신뢰구간은 무엇인가?"
   ]
  },
  {
   "cell_type": "markdown",
   "id": "cbbc3d7d",
   "metadata": {},
   "source": [
    "#### Solution"
   ]
  },
  {
   "cell_type": "code",
   "execution_count": 26,
   "id": "ffc2c5c9",
   "metadata": {},
   "outputs": [
    {
     "data": {
      "text/html": [
       "<table class=\"dataframe\">\n",
       "<caption>A matrix: 1 × 3 of type dbl</caption>\n",
       "<thead>\n",
       "\t<tr><th></th><th scope=col>fit</th><th scope=col>lwr</th><th scope=col>upr</th></tr>\n",
       "</thead>\n",
       "<tbody>\n",
       "\t<tr><th scope=row>1</th><td>24.46708</td><td>23.97308</td><td>24.96108</td></tr>\n",
       "</tbody>\n",
       "</table>\n"
      ],
      "text/latex": [
       "A matrix: 1 × 3 of type dbl\n",
       "\\begin{tabular}{r|lll}\n",
       "  & fit & lwr & upr\\\\\n",
       "\\hline\n",
       "\t1 & 24.46708 & 23.97308 & 24.96108\\\\\n",
       "\\end{tabular}\n"
      ],
      "text/markdown": [
       "\n",
       "A matrix: 1 × 3 of type dbl\n",
       "\n",
       "| <!--/--> | fit | lwr | upr |\n",
       "|---|---|---|---|\n",
       "| 1 | 24.46708 | 23.97308 | 24.96108 |\n",
       "\n"
      ],
      "text/plain": [
       "  fit      lwr      upr     \n",
       "1 24.46708 23.97308 24.96108"
      ]
     },
     "metadata": {},
     "output_type": "display_data"
    }
   ],
   "source": [
    "test <- data.frame(horsepower=c(98))\n",
    "predict(fit1,test,interval = \"confidence\")"
   ]
  },
  {
   "cell_type": "markdown",
   "id": "e5f8a90a",
   "metadata": {},
   "source": [
    "## (b)"
   ]
  },
  {
   "cell_type": "markdown",
   "id": "4d443ea9",
   "metadata": {},
   "source": [
    "설명변수와 반응변수의 산점도를 그리고, 회귀직선을 추가하여라. (abline() 사용)"
   ]
  },
  {
   "cell_type": "markdown",
   "id": "73a171ec",
   "metadata": {},
   "source": [
    "### Solution"
   ]
  },
  {
   "cell_type": "code",
   "execution_count": 29,
   "id": "d264a54f",
   "metadata": {},
   "outputs": [
    {
     "data": {
      "text/html": [
       "<style>\n",
       ".dl-inline {width: auto; margin:0; padding: 0}\n",
       ".dl-inline>dt, .dl-inline>dd {float: none; width: auto; display: inline-block}\n",
       ".dl-inline>dt::after {content: \":\\0020\"; padding-right: .5ex}\n",
       ".dl-inline>dt:not(:first-of-type) {padding-left: .5ex}\n",
       "</style><dl class=dl-inline><dt>(Intercept)</dt><dd>39.9358610211705</dd><dt>horsepower</dt><dd>-0.157844733353654</dd></dl>\n"
      ],
      "text/latex": [
       "\\begin{description*}\n",
       "\\item[(Intercept)] 39.9358610211705\n",
       "\\item[horsepower] -0.157844733353654\n",
       "\\end{description*}\n"
      ],
      "text/markdown": [
       "(Intercept)\n",
       ":   39.9358610211705horsepower\n",
       ":   -0.157844733353654\n",
       "\n"
      ],
      "text/plain": [
       "(Intercept)  horsepower \n",
       " 39.9358610  -0.1578447 "
      ]
     },
     "metadata": {},
     "output_type": "display_data"
    }
   ],
   "source": [
    "# collapse-hide\n",
    "fit1$coefficients"
   ]
  },
  {
   "cell_type": "code",
   "execution_count": 40,
   "id": "f9396f54",
   "metadata": {},
   "outputs": [
    {
     "data": {
      "image/png": "[encoded data removed]",
      "text/plain": [
       "Plot with title \"plot with abline\""
      ]
     },
     "metadata": {
      "image/png": {
       "height": 525,
       "width": 750
      }
     },
     "output_type": "display_data"
    }
   ],
   "source": [
    "# collapse-hide\n",
    "options(repr.plot.res=150,repr.plot.width=10)\n",
    "plot(data$horsepower,data$mpg,xlab=\"horsepower\",ylab=\"mpg\",main = \"plot with abline\")\n",
    "abline(a = fit1$coefficients[1],b=fit1$coefficients[2],col=\"red\",lwd=2)"
   ]
  },
  {
   "cell_type": "markdown",
   "id": "97e5a3ce",
   "metadata": {},
   "source": [
    "***"
   ]
  },
  {
   "cell_type": "markdown",
   "id": "3738e1f9",
   "metadata": {},
   "source": [
    "# 3번"
   ]
  },
  {
   "cell_type": "markdown",
   "id": "627546f7",
   "metadata": {},
   "source": [
    "이 문제는 다중공선성(collinearity)에 관련한 것이다."
   ]
  },
  {
   "cell_type": "markdown",
   "id": "b0476378",
   "metadata": {},
   "source": [
    "## (a)"
   ]
  },
  {
   "cell_type": "markdown",
   "id": "60c70bc2",
   "metadata": {},
   "source": [
    "R\n",
    "```\n",
    "set.seed(1)\n",
    "x1 = runif(100)\n",
    "x2 = 0.5*x1 + rnorm(100)/10\n",
    "y  = 2 + 2*x1+0.3*x2 + rnorm(100)\n",
    "```"
   ]
  },
  {
   "cell_type": "markdown",
   "id": "f4e49ee6",
   "metadata": {},
   "source": [
    "마지막 줄이 두개의 설명변수를 이용한 중회귀모형이다. 회귀모형을 쓰시오. ($\\beta$ 등을 이용하여)"
   ]
  },
  {
   "cell_type": "markdown",
   "id": "a4dee71a",
   "metadata": {},
   "source": [
    "### Solution "
   ]
  },
  {
   "cell_type": "code",
   "execution_count": 93,
   "id": "dfac31a6",
   "metadata": {},
   "outputs": [],
   "source": [
    "#collapse-hide\n",
    "set.seed(1)\n",
    "x1 = runif(100)\n",
    "x2 = 0.5*x1 + rnorm(100)/10\n",
    "y  = 2 + 2*x1+0.3*x2 + rnorm(100)"
   ]
  },
  {
   "cell_type": "markdown",
   "id": "09b16740",
   "metadata": {},
   "source": [
    "$$y= \\beta_1 x_1 + \\beta_2 x_2 + \\varepsilon, \\quad \\varepsilon \\sim N(0, \\sigma^2)$$"
   ]
  },
  {
   "cell_type": "markdown",
   "id": "a6e8aa56",
   "metadata": {},
   "source": [
    "## (b)"
   ]
  },
  {
   "cell_type": "markdown",
   "id": "3d6e81cc",
   "metadata": {},
   "source": [
    "두 설명변수 $x_1$과 $x_2$ 사이에 상관관계(correlation)이 있는가? 산점도를 그려서 확인하여라"
   ]
  },
  {
   "cell_type": "markdown",
   "id": "a2e064be",
   "metadata": {},
   "source": [
    "### Solution"
   ]
  },
  {
   "cell_type": "code",
   "execution_count": 71,
   "id": "4945c357",
   "metadata": {},
   "outputs": [
    {
     "data": {
      "image/png": "[encoded data removed]",
      "text/plain": [
       "Plot with title \"x1, x2 correlation\""
      ]
     },
     "metadata": {
      "image/png": {
       "height": 525,
       "width": 750
      }
     },
     "output_type": "display_data"
    }
   ],
   "source": [
    "plot(x1,x2,main = \"x1, x2 correlation\")\n",
    "abline(a=-0.1,b=1,col=\"red\")"
   ]
  },
  {
   "cell_type": "markdown",
   "id": "dc90041f",
   "metadata": {},
   "source": [
    "산점도를 그려본 결과 $x1,x2$의 분포가 직선 형태의 가까운 형태이다."
   ]
  },
  {
   "cell_type": "markdown",
   "id": "9367eff9",
   "metadata": {},
   "source": [
    "## (c)"
   ]
  },
  {
   "cell_type": "markdown",
   "id": "9e96352c",
   "metadata": {},
   "source": [
    "생성된 데이터를 이용하여 (a) 모형의 회귀계수를 추정하여라. 실제 회귀계수와 추정된 회귀계수와\n",
    "비교하여라. $H_0 : \\beta_1 = 0$을 기각할 수 있는가? $H_1 : \\beta_2 = 0$을 기각할 수 있는가?"
   ]
  },
  {
   "cell_type": "markdown",
   "id": "661d111b",
   "metadata": {},
   "source": [
    "### Solution"
   ]
  },
  {
   "cell_type": "code",
   "execution_count": 74,
   "id": "0fa32117",
   "metadata": {},
   "outputs": [
    {
     "data": {
      "text/plain": [
       "\n",
       "Call:\n",
       "lm(formula = y ~ x1 + x2)\n",
       "\n",
       "Residuals:\n",
       "    Min      1Q  Median      3Q     Max \n",
       "-2.8311 -0.7273 -0.0537  0.6338  2.3359 \n",
       "\n",
       "Coefficients:\n",
       "            Estimate Std. Error t value Pr(>|t|)    \n",
       "(Intercept)   2.1305     0.2319   9.188 7.61e-15 ***\n",
       "x1            1.4396     0.7212   1.996   0.0487 *  \n",
       "x2            1.0097     1.1337   0.891   0.3754    \n",
       "---\n",
       "Signif. codes:  0 '***' 0.001 '**' 0.01 '*' 0.05 '.' 0.1 ' ' 1\n",
       "\n",
       "Residual standard error: 1.056 on 97 degrees of freedom\n",
       "Multiple R-squared:  0.2088,\tAdjusted R-squared:  0.1925 \n",
       "F-statistic:  12.8 on 2 and 97 DF,  p-value: 1.164e-05\n"
      ]
     },
     "metadata": {},
     "output_type": "display_data"
    }
   ],
   "source": [
    "#collapse-hide\n",
    "fit2  <- lm(y~x1+x2)\n",
    "summary(fit2)"
   ]
  },
  {
   "cell_type": "markdown",
   "id": "7d8a2921",
   "metadata": {},
   "source": [
    " t 통계량에 근거한 p-value 값을 보았을 때 $H_0 : \\beta_1 = 0$ 이라는 기각가능하나, $H_0 : \\beta_2 = 0$ 기각하지 못한다"
   ]
  },
  {
   "cell_type": "markdown",
   "id": "0dde576b",
   "metadata": {},
   "source": [
    "## (d)"
   ]
  },
  {
   "cell_type": "markdown",
   "id": "8225bddd",
   "metadata": {},
   "source": [
    "이번에는 $x_1$만을 이용한 단순선형회귀 모형을 적합하여라. 결과를 분석하여라. $H_0 : \\beta_1 = 0$을 기각할\n",
    "수 있는가"
   ]
  },
  {
   "cell_type": "markdown",
   "id": "c80ddc1a",
   "metadata": {},
   "source": [
    "### Solution"
   ]
  },
  {
   "cell_type": "code",
   "execution_count": 77,
   "id": "f1a5f0bb",
   "metadata": {},
   "outputs": [
    {
     "data": {
      "text/plain": [
       "\n",
       "Call:\n",
       "lm(formula = y ~ x1)\n",
       "\n",
       "Residuals:\n",
       "     Min       1Q   Median       3Q      Max \n",
       "-2.89495 -0.66874 -0.07785  0.59221  2.45560 \n",
       "\n",
       "Coefficients:\n",
       "            Estimate Std. Error t value Pr(>|t|)    \n",
       "(Intercept)   2.1124     0.2307   9.155 8.27e-15 ***\n",
       "x1            1.9759     0.3963   4.986 2.66e-06 ***\n",
       "---\n",
       "Signif. codes:  0 '***' 0.001 '**' 0.01 '*' 0.05 '.' 0.1 ' ' 1\n",
       "\n",
       "Residual standard error: 1.055 on 98 degrees of freedom\n",
       "Multiple R-squared:  0.2024,\tAdjusted R-squared:  0.1942 \n",
       "F-statistic: 24.86 on 1 and 98 DF,  p-value: 2.661e-06\n"
      ]
     },
     "metadata": {},
     "output_type": "display_data"
    }
   ],
   "source": [
    "# collapse-hide\n",
    "fit3 <- lm(y~x1)\n",
    "summary(fit3)"
   ]
  },
  {
   "cell_type": "markdown",
   "id": "0bc4cc3c",
   "metadata": {},
   "source": [
    "기각 가능하다."
   ]
  },
  {
   "cell_type": "markdown",
   "id": "e95e8239",
   "metadata": {},
   "source": [
    "## (e)"
   ]
  },
  {
   "cell_type": "markdown",
   "id": "ee6a18c0",
   "metadata": {},
   "source": [
    "이번에는 $x_2$만을 이용한 단순선형회귀 모형을 적합하여라. 결과를 분석하여라. $H_0 : \\beta_2 = 0$을 기각할\n",
    "수 있는가?\n"
   ]
  },
  {
   "cell_type": "markdown",
   "id": "93276b9f",
   "metadata": {},
   "source": [
    "### Solution"
   ]
  },
  {
   "cell_type": "code",
   "execution_count": 78,
   "id": "c7792835",
   "metadata": {},
   "outputs": [
    {
     "data": {
      "text/plain": [
       "\n",
       "Call:\n",
       "lm(formula = y ~ x2)\n",
       "\n",
       "Residuals:\n",
       "     Min       1Q   Median       3Q      Max \n",
       "-2.62687 -0.75156 -0.03598  0.72383  2.44890 \n",
       "\n",
       "Coefficients:\n",
       "            Estimate Std. Error t value Pr(>|t|)    \n",
       "(Intercept)   2.3899     0.1949   12.26  < 2e-16 ***\n",
       "x2            2.8996     0.6330    4.58 1.37e-05 ***\n",
       "---\n",
       "Signif. codes:  0 '***' 0.001 '**' 0.01 '*' 0.05 '.' 0.1 ' ' 1\n",
       "\n",
       "Residual standard error: 1.072 on 98 degrees of freedom\n",
       "Multiple R-squared:  0.1763,\tAdjusted R-squared:  0.1679 \n",
       "F-statistic: 20.98 on 1 and 98 DF,  p-value: 1.366e-05\n"
      ]
     },
     "metadata": {},
     "output_type": "display_data"
    }
   ],
   "source": [
    "# collapse-hide\n",
    "fit4 <- lm(y~x2)\n",
    "summary(fit4)"
   ]
  },
  {
   "cell_type": "markdown",
   "id": "342085c5",
   "metadata": {},
   "source": [
    "기각 가능하다"
   ]
  },
  {
   "cell_type": "markdown",
   "id": "f3604073",
   "metadata": {},
   "source": [
    "## (f)"
   ]
  },
  {
   "cell_type": "markdown",
   "id": "a24b0e6d",
   "metadata": {},
   "source": [
    "(c)-(e)의 결과가 서로 모순되는가? 설명하여라."
   ]
  },
  {
   "cell_type": "markdown",
   "id": "6fba0245",
   "metadata": {},
   "source": [
    "### Solution"
   ]
  },
  {
   "cell_type": "markdown",
   "id": "783ff281",
   "metadata": {},
   "source": [
    "결론 : 모순이 아니다"
   ]
  },
  {
   "cell_type": "markdown",
   "id": "df342537",
   "metadata": {},
   "source": [
    "현재 $x_1,x_2$를 독립변수로  $y$를 반응변수로 하여 적합한 모델은 $\\beta_1\\neq0$, $\\beta_2=0$이다."
   ]
  },
  {
   "cell_type": "markdown",
   "id": "1301f099",
   "metadata": {},
   "source": [
    "그러나 $x_1,x_2$ 각각의 경우를 $y$변수에 적합한 결과 $\\beta_i \\neq 0, \\quad i=\\{1,2\\}$를 보였다."
   ]
  },
  {
   "cell_type": "markdown",
   "id": "27982230",
   "metadata": {},
   "source": [
    "현재 $x_2= 0.5 \\times x_1 + \\varepsilon$의 형태이다."
   ]
  },
  {
   "cell_type": "markdown",
   "id": "37c285fe",
   "metadata": {},
   "source": [
    "즉 $x_2$와 $x_1$을 이미 선형관계를 전제했기 때문에 두 변수를 이용하여 $y$변수에 적합시킬 경우 다중공선성의 문제로 인하여 위와 같은 현상이 발생한다. 따라서 이는 모순이 아닌 합당한 결과이다. $x_1,x_2$는 선형의 관계이므로 주성분 분석을 이용하여 하나의 변수로 통합키킬 수 있다."
   ]
  },
  {
   "cell_type": "markdown",
   "id": "491e61c8",
   "metadata": {},
   "source": [
    "## (g)"
   ]
  },
  {
   "cell_type": "markdown",
   "id": "3a0906f9",
   "metadata": {},
   "source": [
    "새로운 데이터가 관측되었다고 하자.(이 데이터는 잘못 측정된 것이다.)"
   ]
  },
  {
   "cell_type": "markdown",
   "id": "4a449cf7",
   "metadata": {},
   "source": [
    "R\n",
    "```\n",
    "x1  <- c(x1,0.1)\n",
    "x2  <- c(x2,0.8)\n",
    "\n",
    "```"
   ]
  },
  {
   "cell_type": "markdown",
   "id": "84309210",
   "metadata": {},
   "source": [
    "추가된 데이터를 이용하여 (c)-(e)를 다시 적합하여라. 결과가 어떻게 달라졌는가? 각 모형에서 새로\n",
    "운 데이터는 이상점인가?(잔차가 기존에 있는 데이터에 비해 많이 큰가?) 아니면 영향점인가?(추가된\n",
    "데이터로 인해 회귀계수의 값이 많이 바뀌었는가?) 설명하여라."
   ]
  },
  {
   "cell_type": "markdown",
   "id": "96ba09e5",
   "metadata": {},
   "source": [
    "### Solution"
   ]
  },
  {
   "cell_type": "code",
   "execution_count": 94,
   "id": "b421ac16",
   "metadata": {},
   "outputs": [],
   "source": [
    "#collapse-hide\n",
    "x1  <- c(x1,0.1)\n",
    "x2  <- c(x2,0.8)\n",
    "y <- c(y,6)"
   ]
  },
  {
   "cell_type": "code",
   "execution_count": 96,
   "id": "f8a188f0",
   "metadata": {},
   "outputs": [],
   "source": [
    "f1 <- lm(y~x1+x2)\n",
    "f2 <- lm(y~x1)\n",
    "f3 <- lm(y~x2)"
   ]
  },
  {
   "cell_type": "code",
   "execution_count": 112,
   "id": "4c1d65c8",
   "metadata": {},
   "outputs": [
    {
     "data": {
      "text/plain": [
       "\n",
       "Call:\n",
       "lm(formula = y ~ x1 + x2)\n",
       "\n",
       "Residuals:\n",
       "     Min       1Q   Median       3Q      Max \n",
       "-2.73348 -0.69318 -0.05263  0.66385  2.30619 \n",
       "\n",
       "Coefficients:\n",
       "            Estimate Std. Error t value Pr(>|t|)    \n",
       "(Intercept)   2.2267     0.2314   9.624 7.91e-16 ***\n",
       "x1            0.5394     0.5922   0.911  0.36458    \n",
       "x2            2.5146     0.8977   2.801  0.00614 ** \n",
       "---\n",
       "Signif. codes:  0 '***' 0.001 '**' 0.01 '*' 0.05 '.' 0.1 ' ' 1\n",
       "\n",
       "Residual standard error: 1.075 on 98 degrees of freedom\n",
       "Multiple R-squared:  0.2188,\tAdjusted R-squared:  0.2029 \n",
       "F-statistic: 13.72 on 2 and 98 DF,  p-value: 5.564e-06\n"
      ]
     },
     "metadata": {},
     "output_type": "display_data"
    },
    {
     "data": {
      "text/plain": [
       "\n",
       "Call:\n",
       "lm(formula = y ~ x1)\n",
       "\n",
       "Residuals:\n",
       "    Min      1Q  Median      3Q     Max \n",
       "-2.8897 -0.6556 -0.0909  0.5682  3.5665 \n",
       "\n",
       "Coefficients:\n",
       "            Estimate Std. Error t value Pr(>|t|)    \n",
       "(Intercept)   2.2569     0.2390   9.445 1.78e-15 ***\n",
       "x1            1.7657     0.4124   4.282 4.29e-05 ***\n",
       "---\n",
       "Signif. codes:  0 '***' 0.001 '**' 0.01 '*' 0.05 '.' 0.1 ' ' 1\n",
       "\n",
       "Residual standard error: 1.111 on 99 degrees of freedom\n",
       "Multiple R-squared:  0.1562,\tAdjusted R-squared:  0.1477 \n",
       "F-statistic: 18.33 on 1 and 99 DF,  p-value: 4.295e-05\n"
      ]
     },
     "metadata": {},
     "output_type": "display_data"
    },
    {
     "data": {
      "text/plain": [
       "\n",
       "Call:\n",
       "lm(formula = y ~ x2)\n",
       "\n",
       "Residuals:\n",
       "     Min       1Q   Median       3Q      Max \n",
       "-2.64729 -0.71021 -0.06899  0.72699  2.38074 \n",
       "\n",
       "Coefficients:\n",
       "            Estimate Std. Error t value Pr(>|t|)    \n",
       "(Intercept)   2.3451     0.1912  12.264  < 2e-16 ***\n",
       "x2            3.1190     0.6040   5.164 1.25e-06 ***\n",
       "---\n",
       "Signif. codes:  0 '***' 0.001 '**' 0.01 '*' 0.05 '.' 0.1 ' ' 1\n",
       "\n",
       "Residual standard error: 1.074 on 99 degrees of freedom\n",
       "Multiple R-squared:  0.2122,\tAdjusted R-squared:  0.2042 \n",
       "F-statistic: 26.66 on 1 and 99 DF,  p-value: 1.253e-06\n"
      ]
     },
     "metadata": {},
     "output_type": "display_data"
    }
   ],
   "source": [
    "summary(f1);summary(f2);summary(f3)"
   ]
  },
  {
   "cell_type": "markdown",
   "id": "2416c0c9",
   "metadata": {},
   "source": [
    "새로운 데이터를 추가 후 결과를 살펴본 결과 개별 변수를 적합시킨 경우는 이전과 동일하게 $\\beta_i \\neq 0$이었으나 두 변수를 모두 적합시킨 회귀모형은 $\\beta_2\\neq0, \\beta_1=0$의 가설을 채택하였다. 또한, $\\beta_i$의 값이 많이 바뀐 경우는 두 변수를 모두 적합시킨 회귀모형을 제외하고 큰 변화가 없었다."
   ]
  },
  {
   "cell_type": "code",
   "execution_count": 124,
   "id": "096b295b",
   "metadata": {},
   "outputs": [
    {
     "data": {
      "image/png": "[encoded data removed]",
      "text/plain": [
       "Plot with title \"대이터 추가 후 잔차 (y=x1+x2)\""
      ]
     },
     "metadata": {
      "image/png": {
       "height": 525,
       "width": 750
      }
     },
     "output_type": "display_data"
    }
   ],
   "source": [
    "# collapse-hide\n",
    "options(repr.plot.res=150,repr.plot.hight=4)\n",
    "par(mfrow=c(1,2))\n",
    "boxplot(fit2$residuals,main=\"대이터 추가 전 잔차 (y=x1+x2)\",ylim=c(-3,3));boxplot(f1$residuals,main=\"대이터 추가 후 잔차 (y=x1+x2)\",ylim=c(-3,3))"
   ]
  },
  {
   "cell_type": "markdown",
   "id": "0d3ab016",
   "metadata": {},
   "source": [
    "boxplot을 통해 데이터 추가 전,후 $y=x1+x2$에 대한 잔차를 살펴보았다. 현재 $x_1$에는 0.1,$x_2$에는 0.8이 추가되었는데 $y=x1+x2$에 대한 잔차의 경우 크게 새로 추가된 데이터로 인하여 큰 변화가 없어보인다."
   ]
  },
  {
   "cell_type": "code",
   "execution_count": 127,
   "id": "0d40cceb",
   "metadata": {},
   "outputs": [
    {
     "data": {
      "image/png": "[encoded data removed]",
      "text/plain": [
       "Plot with title \"대이터 추가 후 잔차 (y=x1)\""
      ]
     },
     "metadata": {
      "image/png": {
       "height": 525,
       "width": 750
      }
     },
     "output_type": "display_data"
    }
   ],
   "source": [
    "# collapse-hide\n",
    "options(repr.plot.res=150,repr.plot.hight=4)\n",
    "par(mfrow=c(1,2))\n",
    "boxplot(fit3$residuals,main=\"대이터 추가 전 잔차 (y=x1)\",ylim=c(-3,3));boxplot(f2$residuals,main=\"대이터 추가 후 잔차 (y=x1)\",ylim=c(-3,3))"
   ]
  },
  {
   "cell_type": "markdown",
   "id": "f53da3c7",
   "metadata": {},
   "source": [
    "$y=x_1$에 대한 잔차 분포를 살펴본 결과 데이터 추가 후 잔차의 이상치로 보이는 점의 개수가 늘었다."
   ]
  },
  {
   "cell_type": "code",
   "execution_count": 145,
   "id": "bc514a46",
   "metadata": {},
   "outputs": [
    {
     "data": {
      "image/png": "[encoded data removed]",
      "text/plain": [
       "Plot with title \"대이터 추가 후 잔차 (y=x2)\""
      ]
     },
     "metadata": {
      "image/png": {
       "height": 525,
       "width": 750
      }
     },
     "output_type": "display_data"
    }
   ],
   "source": [
    "# collapse-hide\n",
    "options(repr.plot.res=150,repr.plot.hight=4)\n",
    "par(mfrow=c(1,2))\n",
    "boxplot(fit4$residuals,main=\"대이터 추가 전 잔차 (y=x2)\",ylim=c(-3,3));boxplot(f3$residuals,main=\"대이터 추가 후 잔차 (y=x2)\",ylim=c(-3,3))"
   ]
  },
  {
   "cell_type": "markdown",
   "id": "1fe07c66",
   "metadata": {},
   "source": [
    "$y=x_2$에 대한 잔차 분포를 살펴본 결과 데이터 추가 후 잔차의 크기 변화가 거의 없다."
   ]
  },
  {
   "cell_type": "markdown",
   "id": "8a4bf60b",
   "metadata": {},
   "source": [
    "결론"
   ]
  },
  {
   "cell_type": "markdown",
   "id": "d65a9599",
   "metadata": {},
   "source": [
    "`1` 새로 추가된 데이터들은 $y=x_1+x_2$에서 회귀계수의 변화가 크므로 영향점이라고 판단되나 잔차의 변화가 미비해 이상점이라고 판단하기 어렵다."
   ]
  },
  {
   "cell_type": "markdown",
   "id": "55e7e84a",
   "metadata": {},
   "source": [
    "`2` $y=x_1$에서는 데이터 추가 후 이상치로 판단되는 잔차의 수가 늘었다. 따라서 $y=x_1$ 모델에서 추가된 데이터들은 이상점이라고 판단된다."
   ]
  },
  {
   "cell_type": "markdown",
   "id": "81700a0f",
   "metadata": {},
   "source": [
    "`3` $y=x_2$ 에서는 데이터 추가 후 이상치로 판단되는 잔차가 관측되지 않았으며 회귀계수의 큰 변화도 보이지 않았다. 따라서 $y=x2$에서 추가된 데이터들은 이상점도 영향점도 아니다."
   ]
  },
  {
   "cell_type": "markdown",
   "id": "ea9e1d4e",
   "metadata": {},
   "source": [
    " ***"
   ]
  },
  {
   "cell_type": "markdown",
   "id": "e96d8bc3",
   "metadata": {},
   "source": [
    "# Exercises for Logistic Regression\n"
   ]
  },
  {
   "cell_type": "markdown",
   "id": "0db5268b",
   "metadata": {},
   "source": [
    "## 1번"
   ]
  },
  {
   "cell_type": "markdown",
   "id": "51d79fd5",
   "metadata": {},
   "source": [
    "두개의 설명변수 (X1 = 공부시간, X2 = 학부평점)를 이용하여 A학점을 받을 확률을 예측하기 위해 로지스틱 회귀모형을 적합하였다. 추정된 회귀계수는 $\\beta_0 = −6,\\, \\beta_1 = 0.05,\\, \\beta_2 = 1$이다.\n"
   ]
  },
  {
   "cell_type": "markdown",
   "id": "2c484d93",
   "metadata": {},
   "source": [
    "## (a)"
   ]
  },
  {
   "cell_type": "markdown",
   "id": "4120ca6e",
   "metadata": {},
   "source": [
    " 40시간 공부하고, 평점이 3.5인 학생이 A를 받았을 확률을 예측하여라.\n"
   ]
  },
  {
   "cell_type": "markdown",
   "id": "cf40495b",
   "metadata": {},
   "source": [
    "### Solution"
   ]
  },
  {
   "cell_type": "markdown",
   "id": "bc5c784c",
   "metadata": {},
   "source": [
    "## (b)"
   ]
  },
  {
   "cell_type": "markdown",
   "id": "78d30880",
   "metadata": {},
   "source": [
    "평점이 3.5인 학생은 얼마나 공부를 해야 A를 받을 확률이 50%를 넘을 것인가?\n"
   ]
  },
  {
   "cell_type": "markdown",
   "id": "0e3704f4",
   "metadata": {},
   "source": [
    "### Solution"
   ]
  },
  {
   "cell_type": "markdown",
   "id": "4e547713",
   "metadata": {},
   "source": [
    "# 2번"
   ]
  },
  {
   "cell_type": "markdown",
   "id": "66472de1",
   "metadata": {},
   "source": [
    "다음은 odds에 관한 문제이다."
   ]
  },
  {
   "cell_type": "markdown",
   "id": "180a1838",
   "metadata": {},
   "source": [
    "## (a)"
   ]
  },
  {
   "cell_type": "markdown",
   "id": "e22b2075",
   "metadata": {},
   "source": [
    "신용카드결재 문제에서 결재를 하지 못하는 경우(default)에 대한 odds가 0.37인 사람들이 실제로\n",
    "defalut할 확률은 평균적으로 얼마인가?\n"
   ]
  },
  {
   "cell_type": "markdown",
   "id": "f1e8b090",
   "metadata": {},
   "source": [
    "### Solution"
   ]
  },
  {
   "cell_type": "markdown",
   "id": "66e30b87",
   "metadata": {},
   "source": [
    "## (b)"
   ]
  },
  {
   "cell_type": "markdown",
   "id": "2fd4c969",
   "metadata": {},
   "source": [
    "어떤 개인이 default할 확률이 16% 라고 하자. 그 사람이 default할 odds는 얼마인가?"
   ]
  },
  {
   "cell_type": "markdown",
   "id": "1048581d",
   "metadata": {},
   "source": [
    "### Solution"
   ]
  }
 ],
 "metadata": {
  "kernelspec": {
   "display_name": "R",
   "language": "R",
   "name": "ir"
  },
  "language_info": {
   "codemirror_mode": "r",
   "file_extension": ".r",
   "mimetype": "text/x-r-source",
   "name": "R",
   "pygments_lexer": "r",
   "version": "4.1.2"
  },
  "toc": {
   "base_numbering": 1,
   "nav_menu": {},
   "number_sections": false,
   "sideBar": true,
   "skip_h1_title": false,
   "title_cell": "Table of Contents",
   "title_sidebar": "Contents",
   "toc_cell": false,
   "toc_position": {
    "height": "calc(100% - 180px)",
    "left": "10px",
    "top": "150px",
    "width": "349.091px"
   },
   "toc_section_display": true,
   "toc_window_display": true
  }
 },
 "nbformat": 4,
 "nbformat_minor": 5
}
