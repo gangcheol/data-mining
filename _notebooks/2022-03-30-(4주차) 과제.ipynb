{
 "cells": [
  {
   "cell_type": "markdown",
   "id": "ba101998",
   "metadata": {},
   "source": [
    "# 데이터마이닝 특강 4주차 과제\n",
    "- toc:true\n",
    "- branch: master\n",
    "- badges: true\n",
    "- comments: true\n",
    "- editor : 이강철\n",
    "- published : true\n",
    "- hide : false"
   ]
  },
  {
   "cell_type": "markdown",
   "id": "14306f8e",
   "metadata": {},
   "source": [
    "# 1번"
   ]
  },
  {
   "cell_type": "markdown",
   "id": "b9e058a3",
   "metadata": {},
   "source": [
    "설명변수가 1개($X$)이고, 반응변수가 1개($Y$)인데이터를 가지고 있다고 하자. $(n = 100)$ 그리고 다음의 두\n",
    "모형(linear regression, cubic regression)을 적합시키려고 한다.\n"
   ]
  },
  {
   "cell_type": "markdown",
   "id": "044abd9d",
   "metadata": {},
   "source": [
    "$$Y = \\beta_{0}+\\beta_{1}X + \\varepsilon$$"
   ]
  },
  {
   "cell_type": "markdown",
   "id": "7bed0cd8",
   "metadata": {},
   "source": [
    "$$Y = \\beta_{0}+\\beta_{1}X +\\beta_{2}X^2+\\beta_{3}X 3+ \\varepsilon$$"
   ]
  },
  {
   "cell_type": "markdown",
   "id": "99172667",
   "metadata": {},
   "source": [
    "## (a)"
   ]
  },
  {
   "cell_type": "markdown",
   "id": "afbe3ac7",
   "metadata": {},
   "source": [
    "실제 $X,Y$가 선형(linear)관계가 있다고 가정 하자. 모델 (1),(2)의 SSE(잔차제곱합)의 크기를 비교할\n",
    "수 있는지 설명하여라.\n"
   ]
  },
  {
   "cell_type": "markdown",
   "id": "f0eeaca4",
   "metadata": {},
   "source": [
    "### Solution"
   ]
  },
  {
   "cell_type": "markdown",
   "id": "8de87930",
   "metadata": {},
   "source": [
    "## (b)"
   ]
  },
  {
   "cell_type": "markdown",
   "id": "0179f35c",
   "metadata": {},
   "source": [
    "실제 $X, Y$ 가 비선형(non-linear)관계가 있다고 가정 하자. 대신 실제 모형에 대한 정보는 없다. 모델\n",
    "(1),(2)의 $SSE$(잔차제곱합)의 크기를 비교할 수 있는지 설명하여라.\n"
   ]
  },
  {
   "cell_type": "markdown",
   "id": "883d74d4",
   "metadata": {},
   "source": [
    "### Solution"
   ]
  },
  {
   "cell_type": "markdown",
   "id": "642feffd",
   "metadata": {},
   "source": [
    "***"
   ]
  },
  {
   "cell_type": "markdown",
   "id": "0033b18c",
   "metadata": {},
   "source": [
    "# 2번"
   ]
  },
  {
   "cell_type": "markdown",
   "id": "3cae9f8a",
   "metadata": {},
   "source": [
    "’Auto.csv’ 데이터를 이용하여 단순선형 회귀 모형을 적합한다."
   ]
  },
  {
   "cell_type": "markdown",
   "id": "e0aca431",
   "metadata": {},
   "source": [
    "## (a)"
   ]
  },
  {
   "cell_type": "markdown",
   "id": "e3a7211f",
   "metadata": {},
   "source": [
    "반응변수 mpg, 설명변수는 horsepower로 하는 단순선형회귀모형을 적합 시킨 후 summary() 함수의\n",
    "결과 확인하고 다음의 물음에 답하여라."
   ]
  },
  {
   "cell_type": "markdown",
   "id": "0266a8e1",
   "metadata": {},
   "source": [
    "### (i)"
   ]
  },
  {
   "cell_type": "markdown",
   "id": "30551288",
   "metadata": {},
   "source": [
    "두 변수 사이에 관계가 있는가?\n"
   ]
  },
  {
   "cell_type": "markdown",
   "id": "3597560c",
   "metadata": {},
   "source": [
    "#### Solution"
   ]
  },
  {
   "cell_type": "markdown",
   "id": "5d3986b0",
   "metadata": {},
   "source": [
    "### (ii)"
   ]
  },
  {
   "cell_type": "markdown",
   "id": "f87e606a",
   "metadata": {},
   "source": [
    "#### Solution"
   ]
  },
  {
   "cell_type": "markdown",
   "id": "6de69578",
   "metadata": {},
   "source": [
    "두 변수 사이의 관계는 얼마나 강한가?\n"
   ]
  },
  {
   "cell_type": "markdown",
   "id": "c4125e0c",
   "metadata": {},
   "source": [
    "### (iii)"
   ]
  },
  {
   "cell_type": "markdown",
   "id": "bd9b1f35",
   "metadata": {},
   "source": [
    "#### Solution"
   ]
  },
  {
   "cell_type": "markdown",
   "id": "49fdcb8c",
   "metadata": {},
   "source": [
    "horsepower의 값이 98일 때, mpg의 예측값은 무엇인가 95% 신뢰구간은 무엇인가?"
   ]
  },
  {
   "cell_type": "markdown",
   "id": "5d3e20e7",
   "metadata": {},
   "source": [
    "### (iv)"
   ]
  },
  {
   "cell_type": "markdown",
   "id": "85dcddfd",
   "metadata": {},
   "source": [
    "#### Solution"
   ]
  },
  {
   "cell_type": "markdown",
   "id": "82daf6bf",
   "metadata": {},
   "source": [
    "## (b)"
   ]
  },
  {
   "cell_type": "markdown",
   "id": "f45e16de",
   "metadata": {},
   "source": [
    "설명변수와 반응변수의 산점도를 그리고, 회귀직선을 추가하여라. (abline() 사용)"
   ]
  },
  {
   "cell_type": "markdown",
   "id": "af0e9773",
   "metadata": {},
   "source": [
    "### Solution"
   ]
  },
  {
   "cell_type": "markdown",
   "id": "d42e84b9",
   "metadata": {},
   "source": [
    "***"
   ]
  },
  {
   "cell_type": "markdown",
   "id": "37c0508c",
   "metadata": {},
   "source": [
    "# 3번"
   ]
  },
  {
   "cell_type": "markdown",
   "id": "76179887",
   "metadata": {},
   "source": [
    "이 문제는 다중공선성(collinearity)에 관련한 것이다."
   ]
  },
  {
   "cell_type": "markdown",
   "id": "767df373",
   "metadata": {},
   "source": [
    "## (a)"
   ]
  },
  {
   "cell_type": "markdown",
   "id": "fcd54fd1",
   "metadata": {},
   "source": [
    "R\n",
    "```\n",
    "set.seed(1)\n",
    "x1 = runif(100)\n",
    "x2 = 0.5*x1 + rnorm(100)/10\n",
    "y  = 2 + 2*x1+0.3*x2 + rnorm(100)\n",
    "```"
   ]
  },
  {
   "cell_type": "markdown",
   "id": "2fd58319",
   "metadata": {},
   "source": [
    "마지막 줄이 두개의 설명변수를 이용한 중회귀모형이다. 회귀모형을 쓰시오. ($\\beta$ 등을 이용하여)"
   ]
  },
  {
   "cell_type": "markdown",
   "id": "e8c2d5a1",
   "metadata": {},
   "source": [
    "### Solution "
   ]
  },
  {
   "cell_type": "markdown",
   "id": "9427b3de",
   "metadata": {},
   "source": [
    "## (b)"
   ]
  },
  {
   "cell_type": "markdown",
   "id": "7e412746",
   "metadata": {},
   "source": [
    "두 설명변수 $x_1$과 $x_2$ 사이에 상관관계(correlation)이 있는가? 산점도를 그려서 확인하여라"
   ]
  },
  {
   "cell_type": "markdown",
   "id": "8d0a196c",
   "metadata": {},
   "source": [
    "### Solution"
   ]
  },
  {
   "cell_type": "markdown",
   "id": "dcd98427",
   "metadata": {},
   "source": [
    "## (c)"
   ]
  },
  {
   "cell_type": "markdown",
   "id": "841983c4",
   "metadata": {},
   "source": [
    "생성된 데이터를 이용하여 (a) 모형의 회귀계수를 추정하여라. 실제 회귀계수와 추정된 회귀계수와\n",
    "비교하여라. $H_0 : \\beta_1 = 0$을 기각할 수 있는가? $H_1 : \\beta_2 = 0$을 기각할 수 있는가?"
   ]
  },
  {
   "cell_type": "markdown",
   "id": "cfe9f31f",
   "metadata": {},
   "source": [
    "### Solution"
   ]
  },
  {
   "cell_type": "markdown",
   "id": "fbdd1c6e",
   "metadata": {},
   "source": [
    "## (d)"
   ]
  },
  {
   "cell_type": "markdown",
   "id": "42dfee24",
   "metadata": {},
   "source": [
    "이번에는 $x_1$만을 이용한 단순선형회귀 모형을 적합하여라. 결과를 분석하여라. $H_0 : \\beta_1 = 0$을 기각할\n",
    "수 있는가"
   ]
  },
  {
   "cell_type": "markdown",
   "id": "4f89ccbb",
   "metadata": {},
   "source": [
    "### Solution"
   ]
  },
  {
   "cell_type": "markdown",
   "id": "fc947696",
   "metadata": {},
   "source": [
    "## (e)"
   ]
  },
  {
   "cell_type": "markdown",
   "id": "f60e8b72",
   "metadata": {},
   "source": [
    "이번에는 $x_2$만을 이용한 단순선형회귀 모형을 적합하여라. 결과를 분석하여라. $H_0 : \\beta_2 = 0$을 기각할\n",
    "수 있는가?\n"
   ]
  },
  {
   "cell_type": "markdown",
   "id": "c24bcff0",
   "metadata": {},
   "source": [
    "### Solution"
   ]
  },
  {
   "cell_type": "markdown",
   "id": "eedf2000",
   "metadata": {},
   "source": [
    "## (f)"
   ]
  },
  {
   "cell_type": "markdown",
   "id": "0cf48634",
   "metadata": {},
   "source": [
    "(c)-(e)의 결과가 서로 모순되는가? 설명하여라."
   ]
  },
  {
   "cell_type": "markdown",
   "id": "e4eb1082",
   "metadata": {},
   "source": [
    "### Solution"
   ]
  },
  {
   "cell_type": "markdown",
   "id": "16ddb181",
   "metadata": {},
   "source": [
    "## (g)"
   ]
  },
  {
   "cell_type": "markdown",
   "id": "52f6260c",
   "metadata": {},
   "source": [
    "새로운 데이터가 관측되었다고 하자.(이 데이터는 잘못 측정된 것이다.)"
   ]
  },
  {
   "cell_type": "markdown",
   "id": "4df2a447",
   "metadata": {},
   "source": [
    "R\n",
    "```\n",
    "x1  <- c(x1,0.1)\n",
    "x2  <- c(x2,0.8)\n",
    "\n",
    "```"
   ]
  },
  {
   "cell_type": "markdown",
   "id": "ecd83042",
   "metadata": {},
   "source": [
    "추가된 데이터를 이용하여 (c)-(e)를 다시 적합하여라. 결과가 어떻게 달라졌는가? 각 모형에서 새로\n",
    "운 데이터는 이상점인가?(잔차가 기존에 있는 데이터에 비해 많이 큰가?) 아니면 영향점인가?(추가된\n",
    "데이터로 인해 회귀계수의 값이 많이 바뀌었는가?) 설명하여라."
   ]
  },
  {
   "cell_type": "markdown",
   "id": "90eac92f",
   "metadata": {},
   "source": [
    "### Solution"
   ]
  },
  {
   "cell_type": "markdown",
   "id": "28ef26b8",
   "metadata": {},
   "source": [
    "***"
   ]
  },
  {
   "cell_type": "markdown",
   "id": "3bc5fd07",
   "metadata": {},
   "source": [
    "# Exercises for Logistic Regression\n"
   ]
  },
  {
   "cell_type": "markdown",
   "id": "20236f70",
   "metadata": {},
   "source": [
    "## 1번"
   ]
  },
  {
   "cell_type": "markdown",
   "id": "a756c016",
   "metadata": {},
   "source": [
    "두개의 설명변수 (X1 = 공부시간, X2 = 학부평점)를 이용하여 A학점을 받을 확률을 예측하기 위해 로지스틱 회귀모형을 적합하였다. 추정된 회귀계수는 $\\beta_0 = −6,\\, \\beta_1 = 0.05,\\, \\beta_2 = 1$이다.\n"
   ]
  },
  {
   "cell_type": "markdown",
   "id": "f93d2cc6",
   "metadata": {},
   "source": [
    "## (a)"
   ]
  },
  {
   "cell_type": "markdown",
   "id": "8c7e5095",
   "metadata": {},
   "source": [
    " 40시간 공부하고, 평점이 3.5인 학생이 A를 받았을 확률을 예측하여라.\n"
   ]
  },
  {
   "cell_type": "markdown",
   "id": "a35597b6",
   "metadata": {},
   "source": [
    "### Solution"
   ]
  },
  {
   "cell_type": "markdown",
   "id": "e6065836",
   "metadata": {},
   "source": [
    "## (b)"
   ]
  },
  {
   "cell_type": "markdown",
   "id": "5d2defe5",
   "metadata": {},
   "source": [
    "평점이 3.5인 학생은 얼마나 공부를 해야 A를 받을 확률이 50%를 넘을 것인가?\n"
   ]
  },
  {
   "cell_type": "markdown",
   "id": "25944a51",
   "metadata": {},
   "source": [
    "### Solution"
   ]
  },
  {
   "cell_type": "markdown",
   "id": "e1e8af50",
   "metadata": {},
   "source": [
    "# 2번"
   ]
  },
  {
   "cell_type": "markdown",
   "id": "b349589e",
   "metadata": {},
   "source": [
    "다음은 odds에 관한 문제이다."
   ]
  },
  {
   "cell_type": "markdown",
   "id": "0d1bf18e",
   "metadata": {},
   "source": [
    "## (a)"
   ]
  },
  {
   "cell_type": "markdown",
   "id": "98a54b42",
   "metadata": {},
   "source": [
    "신용카드결재 문제에서 결재를 하지 못하는 경우(default)에 대한 odds가 0.37인 사람들이 실제로\n",
    "defalut할 확률은 평균적으로 얼마인가?\n"
   ]
  },
  {
   "cell_type": "markdown",
   "id": "25bb6947",
   "metadata": {},
   "source": [
    "### Solution"
   ]
  },
  {
   "cell_type": "markdown",
   "id": "40db563e",
   "metadata": {},
   "source": [
    "## (b)"
   ]
  },
  {
   "cell_type": "markdown",
   "id": "15a4ecce",
   "metadata": {},
   "source": [
    "어떤 개인이 default할 확률이 16% 라고 하자. 그 사람이 default할 odds는 얼마인가?"
   ]
  },
  {
   "cell_type": "markdown",
   "id": "ac8f4f3b",
   "metadata": {},
   "source": [
    "### Solution"
   ]
  }
 ],
 "metadata": {
  "kernelspec": {
   "display_name": "R",
   "language": "R",
   "name": "ir"
  },
  "language_info": {
   "codemirror_mode": "r",
   "file_extension": ".r",
   "mimetype": "text/x-r-source",
   "name": "R",
   "pygments_lexer": "r",
   "version": "4.1.2"
  },
  "toc": {
   "base_numbering": 1,
   "nav_menu": {},
   "number_sections": false,
   "sideBar": true,
   "skip_h1_title": false,
   "title_cell": "Table of Contents",
   "title_sidebar": "Contents",
   "toc_cell": false,
   "toc_position": {},
   "toc_section_display": true,
   "toc_window_display": true
  }
 },
 "nbformat": 4,
 "nbformat_minor": 5
}
